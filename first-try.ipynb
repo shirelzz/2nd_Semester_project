{
 "cells": [
  {
   "cell_type": "code",
   "execution_count": 1,
   "id": "54a9a630-ea57-4d01-bf8b-537174f193a5",
   "metadata": {},
   "outputs": [],
   "source": [
    "import os\n",
    "import sys\n",
    "import time\n",
    "import numpy as np\n",
    "import pandas as pd\n",
    "import matplotlib.pyplot as plt\n",
    "import matplotlib.image as mpimg\n",
    "import re\n",
    "import math\n"
   ]
  },
  {
   "cell_type": "code",
   "execution_count": 2,
   "id": "71106a95-e1cb-4031-8203-2fd71c2afb72",
   "metadata": {},
   "outputs": [],
   "source": [
    "def load_image_data(folder_id: int, image_id: int):\n",
    "    file_name = './data/kids drawing-train/' + str(folder_id) + '/SimpleTest/' + str(image_id)\n",
    "    \n",
    "    if not os.path.isfile(file_name + '.png'):\n",
    "        print(\"Image not exits\")\n",
    "        return None\n",
    "    \n",
    "    if not os.path.isfile(file_name + '.csv'):\n",
    "        print(\"Data not exits\")\n",
    "        return None\n",
    "    \n",
    "    return (pd.read_csv(file_name + '.csv'), file_name + '.png') "
   ]
  },
  {
   "cell_type": "code",
   "execution_count": 3,
   "id": "d73c0108-8d38-4631-ac3a-4010befa7202",
   "metadata": {},
   "outputs": [
    {
     "data": {
      "text/html": [
       "<div>\n",
       "<style scoped>\n",
       "    .dataframe tbody tr th:only-of-type {\n",
       "        vertical-align: middle;\n",
       "    }\n",
       "\n",
       "    .dataframe tbody tr th {\n",
       "        vertical-align: top;\n",
       "    }\n",
       "\n",
       "    .dataframe thead th {\n",
       "        text-align: right;\n",
       "    }\n",
       "</style>\n",
       "<table border=\"1\" class=\"dataframe\">\n",
       "  <thead>\n",
       "    <tr style=\"text-align: right;\">\n",
       "      <th></th>\n",
       "      <th>X</th>\n",
       "      <th>Y</th>\n",
       "      <th>Pressure</th>\n",
       "      <th>TiltX</th>\n",
       "      <th>TiltY</th>\n",
       "      <th>Time</th>\n",
       "    </tr>\n",
       "  </thead>\n",
       "  <tbody>\n",
       "    <tr>\n",
       "      <th>0</th>\n",
       "      <td>925.902760133965</td>\n",
       "      <td>665.541979</td>\n",
       "      <td>0.045884</td>\n",
       "      <td>-4917.0</td>\n",
       "      <td>669.0</td>\n",
       "      <td>00:12.6099853</td>\n",
       "    </tr>\n",
       "    <tr>\n",
       "      <th>1</th>\n",
       "      <td>925.902760133965</td>\n",
       "      <td>665.541979</td>\n",
       "      <td>0.045884</td>\n",
       "      <td>-4917.0</td>\n",
       "      <td>669.0</td>\n",
       "      <td>00:12.6256038</td>\n",
       "    </tr>\n",
       "    <tr>\n",
       "      <th>2</th>\n",
       "      <td>926.692689687031</td>\n",
       "      <td>665.647303</td>\n",
       "      <td>0.082506</td>\n",
       "      <td>-4917.0</td>\n",
       "      <td>669.0</td>\n",
       "      <td>00:12.6445684</td>\n",
       "    </tr>\n",
       "    <tr>\n",
       "      <th>3</th>\n",
       "      <td>927.008661508257</td>\n",
       "      <td>665.647303</td>\n",
       "      <td>0.115953</td>\n",
       "      <td>-4917.0</td>\n",
       "      <td>669.0</td>\n",
       "      <td>00:12.6602735</td>\n",
       "    </tr>\n",
       "    <tr>\n",
       "      <th>4</th>\n",
       "      <td>927.324633329484</td>\n",
       "      <td>665.594641</td>\n",
       "      <td>0.140368</td>\n",
       "      <td>-4917.0</td>\n",
       "      <td>669.0</td>\n",
       "      <td>00:12.6838147</td>\n",
       "    </tr>\n",
       "    <tr>\n",
       "      <th>5</th>\n",
       "      <td>927.324633329484</td>\n",
       "      <td>665.594641</td>\n",
       "      <td>0.144762</td>\n",
       "      <td>-4917.0</td>\n",
       "      <td>669.0</td>\n",
       "      <td>00:12.6994898</td>\n",
       "    </tr>\n",
       "    <tr>\n",
       "      <th>6</th>\n",
       "      <td>926.482041806213</td>\n",
       "      <td>665.541979</td>\n",
       "      <td>0.146715</td>\n",
       "      <td>-4917.0</td>\n",
       "      <td>669.0</td>\n",
       "      <td>00:12.7151659</td>\n",
       "    </tr>\n",
       "    <tr>\n",
       "      <th>7</th>\n",
       "      <td>924.53354890865</td>\n",
       "      <td>665.647303</td>\n",
       "      <td>0.146715</td>\n",
       "      <td>-4917.0</td>\n",
       "      <td>669.0</td>\n",
       "      <td>00:12.7307903</td>\n",
       "    </tr>\n",
       "    <tr>\n",
       "      <th>8</th>\n",
       "      <td>922.26908418986</td>\n",
       "      <td>665.857951</td>\n",
       "      <td>0.146715</td>\n",
       "      <td>-4917.0</td>\n",
       "      <td>669.0</td>\n",
       "      <td>00:12.7307903</td>\n",
       "    </tr>\n",
       "    <tr>\n",
       "      <th>9</th>\n",
       "      <td>920.794549024137</td>\n",
       "      <td>666.121261</td>\n",
       "      <td>0.146715</td>\n",
       "      <td>-4917.0</td>\n",
       "      <td>669.0</td>\n",
       "      <td>00:12.7463215</td>\n",
       "    </tr>\n",
       "  </tbody>\n",
       "</table>\n",
       "</div>"
      ],
      "text/plain": [
       "                  X           Y   Pressure   TiltX   TiltY           Time\n",
       "0  925.902760133965  665.541979   0.045884 -4917.0   669.0  00:12.6099853\n",
       "1  925.902760133965  665.541979   0.045884 -4917.0   669.0  00:12.6256038\n",
       "2  926.692689687031  665.647303   0.082506 -4917.0   669.0  00:12.6445684\n",
       "3  927.008661508257  665.647303   0.115953 -4917.0   669.0  00:12.6602735\n",
       "4  927.324633329484  665.594641   0.140368 -4917.0   669.0  00:12.6838147\n",
       "5  927.324633329484  665.594641   0.144762 -4917.0   669.0  00:12.6994898\n",
       "6  926.482041806213  665.541979   0.146715 -4917.0   669.0  00:12.7151659\n",
       "7   924.53354890865  665.647303   0.146715 -4917.0   669.0  00:12.7307903\n",
       "8   922.26908418986  665.857951   0.146715 -4917.0   669.0  00:12.7307903\n",
       "9  920.794549024137  666.121261   0.146715 -4917.0   669.0  00:12.7463215"
      ]
     },
     "execution_count": 3,
     "metadata": {},
     "output_type": "execute_result"
    }
   ],
   "source": [
    "(df, img) = load_image_data(7554, 1)\n",
    "df.head(10)"
   ]
  },
  {
   "cell_type": "code",
   "execution_count": 4,
   "id": "4ebeebb1",
   "metadata": {},
   "outputs": [],
   "source": [
    "def col_X_ToNum(data_as_str, defualt_value):\n",
    "    if not data_as_str:\n",
    "        return defualt_value\n",
    "    \n",
    "    if type(data_as_str) == float:\n",
    "        return data_as_str\n",
    "    \n",
    "    if re.search(\"^[a-zA-Z]\", data_as_str) is not None:\n",
    "        return defualt_value\n",
    "    return float(data_as_str)\n"
   ]
  },
  {
   "cell_type": "code",
   "execution_count": 5,
   "id": "7e60e2b8",
   "metadata": {},
   "outputs": [],
   "source": [
    "def col_Y_ToNum(data_as_str, defualt_value):\n",
    "    if not data_as_str:\n",
    "        return defualt_value\n",
    "    \n",
    "    if type(data_as_str) == float:\n",
    "        return data_as_str\n",
    "\n",
    "    return float(data_as_str)\n",
    "\n"
   ]
  },
  {
   "cell_type": "code",
   "execution_count": 6,
   "id": "df2f834e",
   "metadata": {},
   "outputs": [
    {
     "data": {
      "text/plain": [
       "<matplotlib.image.AxesImage at 0x7fe1b8b4f8e0>"
      ]
     },
     "execution_count": 6,
     "metadata": {},
     "output_type": "execute_result"
    },
    {
     "data": {
      "image/png": "[encoded data removed]",
      "text/plain": [
       "<Figure size 432x288 with 1 Axes>"
      ]
     },
     "metadata": {
      "needs_background": "light"
     },
     "output_type": "display_data"
    }
   ],
   "source": [
    "img1 = mpimg.imread('./data/kids drawing-train/' + \"7554\" + '/SimpleTest/' + \"1.png\")\n",
    "plt.imshow(img1)"
   ]
  },
  {
   "cell_type": "code",
   "execution_count": 7,
   "id": "9f7145bb-211a-4010-af9d-09d47a736e3f",
   "metadata": {},
   "outputs": [
    {
     "data": {
      "text/plain": [
       "0.7899295530660311"
      ]
     },
     "execution_count": 7,
     "metadata": {},
     "output_type": "execute_result"
    }
   ],
   "source": [
    "(float(df['X'][0]) + 0.2 * float(df[' Pressure'][0]))\n",
    "(float(df['X'][2])) - (float(df['X'][1]))"
   ]
  },
  {
   "cell_type": "code",
   "execution_count": 8,
   "id": "32ff5d5d-368e-4ba9-bb0c-6d83bbf11bf9",
   "metadata": {},
   "outputs": [],
   "source": [
    "df[' Time'][0]\n",
    "def to_number(date_as_str, defualt_value):\n",
    "    if not date_as_str:\n",
    "        return defualt_value\n",
    "    \n",
    "    if type(date_as_str) == float:\n",
    "        return date_as_str\n",
    "    \n",
    "    (p1, p2) = date_as_str.split(':')\n",
    "    p1 = float(p1)\n",
    "    p2 = float(p2)\n",
    "    return p1 * 60 + p2"
   ]
  },
  {
   "cell_type": "code",
   "execution_count": 9,
   "id": "ada9b7f5-7cc5-4e9a-9874-74eaa10b6022",
   "metadata": {},
   "outputs": [
    {
     "name": "stderr",
     "output_type": "stream",
     "text": [
      "/var/folders/dq/qdd4tr0j5v1ctgxtptm2v5_h0000gn/T/ipykernel_58792/2886399278.py:2: SettingWithCopyWarning: \n",
      "A value is trying to be set on a copy of a slice from a DataFrame\n",
      "\n",
      "See the caveats in the documentation: https://pandas.pydata.org/pandas-docs/stable/user_guide/indexing.html#returning-a-view-versus-a-copy\n",
      "  df[\"Time\"][0] = to_number(df[\"Time\"][0], 0)\n",
      "/var/folders/dq/qdd4tr0j5v1ctgxtptm2v5_h0000gn/T/ipykernel_58792/2886399278.py:4: SettingWithCopyWarning: \n",
      "A value is trying to be set on a copy of a slice from a DataFrame\n",
      "\n",
      "See the caveats in the documentation: https://pandas.pydata.org/pandas-docs/stable/user_guide/indexing.html#returning-a-view-versus-a-copy\n",
      "  df[\"Y\"][0] = col_Y_ToNum(df[\"Y\"][0], 0)\n",
      "/var/folders/dq/qdd4tr0j5v1ctgxtptm2v5_h0000gn/T/ipykernel_58792/2886399278.py:5: SettingWithCopyWarning: \n",
      "A value is trying to be set on a copy of a slice from a DataFrame\n",
      "\n",
      "See the caveats in the documentation: https://pandas.pydata.org/pandas-docs/stable/user_guide/indexing.html#returning-a-view-versus-a-copy\n",
      "  df[\"X\"][0] = col_X_ToNum(df[\"X\"][0], 0)\n",
      "/var/folders/dq/qdd4tr0j5v1ctgxtptm2v5_h0000gn/T/ipykernel_58792/2886399278.py:13: SettingWithCopyWarning: \n",
      "A value is trying to be set on a copy of a slice from a DataFrame\n",
      "\n",
      "See the caveats in the documentation: https://pandas.pydata.org/pandas-docs/stable/user_guide/indexing.html#returning-a-view-versus-a-copy\n",
      "  df[\"Time\"][index] = to_number(df[\"Time\"][index], df[\"Time\"][index - 1])\n",
      "/var/folders/dq/qdd4tr0j5v1ctgxtptm2v5_h0000gn/T/ipykernel_58792/2886399278.py:14: SettingWithCopyWarning: \n",
      "A value is trying to be set on a copy of a slice from a DataFrame\n",
      "\n",
      "See the caveats in the documentation: https://pandas.pydata.org/pandas-docs/stable/user_guide/indexing.html#returning-a-view-versus-a-copy\n",
      "  df[\"Y\"][index] = col_Y_ToNum(df[\"Y\"][index], df[\"Y\"][index - 1])\n",
      "/var/folders/dq/qdd4tr0j5v1ctgxtptm2v5_h0000gn/T/ipykernel_58792/2886399278.py:15: SettingWithCopyWarning: \n",
      "A value is trying to be set on a copy of a slice from a DataFrame\n",
      "\n",
      "See the caveats in the documentation: https://pandas.pydata.org/pandas-docs/stable/user_guide/indexing.html#returning-a-view-versus-a-copy\n",
      "  df[\"X\"][index] = col_X_ToNum(df[\"X\"][index], df[\"X\"][index - 1])\n"
     ]
    },
    {
     "data": {
      "text/plain": [
       "0       925.90276\n",
       "1       925.90276\n",
       "2       926.69269\n",
       "3      927.008662\n",
       "4      927.324633\n",
       "          ...    \n",
       "129    584.863841\n",
       "130    584.653193\n",
       "131    584.653193\n",
       "132    584.653193\n",
       "133    584.653193\n",
       "Name: X, Length: 134, dtype: object"
      ]
     },
     "execution_count": 9,
     "metadata": {},
     "output_type": "execute_result"
    }
   ],
   "source": [
    "df[\"Time\"] = df[\" Time\"]\n",
    "df[\"Time\"][0] = to_number(df[\"Time\"][0], 0)\n",
    "df[\"Y\"] = df[\" Y\"]\n",
    "df[\"Y\"][0] = col_Y_ToNum(df[\"Y\"][0], 0)\n",
    "df[\"X\"][0] = col_X_ToNum(df[\"X\"][0], 0)\n",
    "\n",
    "\n",
    "flag_first = True\n",
    "for index in df.index:\n",
    "    if flag_first:\n",
    "        flag_first = False\n",
    "    else:\n",
    "        df[\"Time\"][index] = to_number(df[\"Time\"][index], df[\"Time\"][index - 1])\n",
    "        df[\"Y\"][index] = col_Y_ToNum(df[\"Y\"][index], df[\"Y\"][index - 1])\n",
    "        df[\"X\"][index] = col_X_ToNum(df[\"X\"][index], df[\"X\"][index - 1])\n",
    "\n",
    "df[\"X\"]"
   ]
  },
  {
   "cell_type": "code",
   "execution_count": 10,
   "id": "aa4e49b8",
   "metadata": {},
   "outputs": [
    {
     "data": {
      "text/plain": [
       "0      665.541979\n",
       "1      665.541979\n",
       "2      665.647303\n",
       "3      665.647303\n",
       "4      665.594641\n",
       "          ...    \n",
       "129    646.846980\n",
       "130    646.741656\n",
       "131    646.741656\n",
       "132           NaN\n",
       "133           NaN\n",
       "Name: Y, Length: 134, dtype: float64"
      ]
     },
     "execution_count": 10,
     "metadata": {},
     "output_type": "execute_result"
    }
   ],
   "source": [
    "df[\"Y\"]"
   ]
  },
  {
   "cell_type": "code",
   "execution_count": 11,
   "id": "a4d8e3eb",
   "metadata": {},
   "outputs": [
    {
     "data": {
      "text/plain": [
       "0      12.609985\n",
       "1      12.625604\n",
       "2      12.644568\n",
       "3      12.660274\n",
       "4      12.683815\n",
       "         ...    \n",
       "129     14.06291\n",
       "130    14.078534\n",
       "131    14.094146\n",
       "132          NaN\n",
       "133          NaN\n",
       "Name: Time, Length: 134, dtype: object"
      ]
     },
     "execution_count": 11,
     "metadata": {},
     "output_type": "execute_result"
    }
   ],
   "source": [
    "df[\"Time\"]"
   ]
  },
  {
   "cell_type": "code",
   "execution_count": 12,
   "id": "8f254a14-7f40-4ee7-ac00-186470773ad0",
   "metadata": {},
   "outputs": [
    {
     "name": "stderr",
     "output_type": "stream",
     "text": [
      "/var/folders/dq/qdd4tr0j5v1ctgxtptm2v5_h0000gn/T/ipykernel_58792/2845424429.py:2: SettingWithCopyWarning: \n",
      "A value is trying to be set on a copy of a slice from a DataFrame\n",
      "\n",
      "See the caveats in the documentation: https://pandas.pydata.org/pandas-docs/stable/user_guide/indexing.html#returning-a-view-versus-a-copy\n",
      "  df[\"TimeDiff\"][0] = 0\n",
      "/var/folders/dq/qdd4tr0j5v1ctgxtptm2v5_h0000gn/T/ipykernel_58792/2845424429.py:8: SettingWithCopyWarning: \n",
      "A value is trying to be set on a copy of a slice from a DataFrame\n",
      "\n",
      "See the caveats in the documentation: https://pandas.pydata.org/pandas-docs/stable/user_guide/indexing.html#returning-a-view-versus-a-copy\n",
      "  df[\"TimeDiff\"][index] = df[\"Time\"][index] - df[\"Time\"][index - 1]\n",
      "/Users/syrlzkryh/opt/anaconda3/lib/python3.9/site-packages/pandas/core/indexing.py:1732: SettingWithCopyWarning: \n",
      "A value is trying to be set on a copy of a slice from a DataFrame\n",
      "\n",
      "See the caveats in the documentation: https://pandas.pydata.org/pandas-docs/stable/user_guide/indexing.html#returning-a-view-versus-a-copy\n",
      "  self._setitem_single_block(indexer, value, name)\n"
     ]
    },
    {
     "data": {
      "text/plain": [
       "[<matplotlib.lines.Line2D at 0x7fe1eb0fbdc0>]"
      ]
     },
     "execution_count": 12,
     "metadata": {},
     "output_type": "execute_result"
    },
    {
     "data": {
      "image/png": "[encoded data removed]",
      "text/plain": [
       "<Figure size 432x288 with 1 Axes>"
      ]
     },
     "metadata": {
      "needs_background": "light"
     },
     "output_type": "display_data"
    }
   ],
   "source": [
    "df[\"TimeDiff\"] = np.full(len(df.index), 0)\n",
    "df[\"TimeDiff\"][0] = 0\n",
    "flag_first = True\n",
    "for index in df.index:\n",
    "    if flag_first:\n",
    "        flag_first = False\n",
    "    else:\n",
    "        df[\"TimeDiff\"][index] = df[\"Time\"][index] - df[\"Time\"][index - 1]\n",
    "        \n",
    "\n",
    "plt.plot(df[\"TimeDiff\"])"
   ]
  },
  {
   "cell_type": "markdown",
   "id": "9c336dc5",
   "metadata": {},
   "source": [
    "## Q.1.\n",
    "\n",
    "Counting lines"
   ]
  },
  {
   "cell_type": "code",
   "execution_count": 13,
   "id": "a7214b99",
   "metadata": {},
   "outputs": [],
   "source": [
    "def Count_lines(df):\n",
    "    if (df['X'][1]-df['X'][0]) ==0:\n",
    "        slp = 0\n",
    "    else:\n",
    "        slp = (df['Y'][1]-df['Y'][0])/(df['X'][1]-df['X'][0])\n",
    "    \n",
    "    numOfLines = 0\n",
    "    prev = 0\n",
    "    i = 0\n",
    "    while (i+1)<=len(df):\n",
    "         if (df['Y'][i]!= df['Y'][i+1]) & (df['X'][i]!= df['X'][i+1]):\n",
    "            current_slp = (df['Y'][i+1]-df['Y'][i])/(df['X'][i+1]-df['X'][i])            \n",
    "            if (current_slp<=slp+0.5) & (current_slp>=slp-0.5) :\n",
    "                slp = current_slp\n",
    "            else:\n",
    "                if i-prev>10:\n",
    "                    numOfLines +=1\n",
    "                    prev = i                    \n",
    "            slp = current_slp\n",
    "            i+=1\n",
    "    \n",
    "    return numOfLines"
   ]
  },
  {
   "cell_type": "code",
   "execution_count": null,
   "id": "eed18ce0",
   "metadata": {},
   "outputs": [],
   "source": [
    "Count_lines(df)"
   ]
  },
  {
   "cell_type": "markdown",
   "id": "6b6f2423",
   "metadata": {},
   "source": [
    "## Q.2.\n",
    "\n",
    "Compute the length of each line and the avarage pressure applied by clicking on each line"
   ]
  },
  {
   "cell_type": "code",
   "execution_count": null,
   "id": "914be227",
   "metadata": {},
   "outputs": [],
   "source": [
    "def Lengths_of_lines(df):\n",
    "    if (df['X'][1]-df['X'][0]) ==0:\n",
    "        slp = 0\n",
    "    else:\n",
    "        slp = (df['Y'][1]-df['Y'][0])/(df['X'][1]-df['X'][0])\n",
    "    lenOfLine = 0\n",
    "    prev = 0\n",
    "    i = 0\n",
    "    sum_pressures = 0\n",
    "    while (i+1)<=len(df):\n",
    "        if (df['Y'][i]!= df['Y'][i+1]) & (df['X'][i]!= df['X'][i+1]):\n",
    "            current_slp = (df['Y'][i+1]-df['Y'][i])/(df['X'][i+1]-df['X'][i])\n",
    "        else:\n",
    "            current_slp = slp\n",
    "            if (current_slp<=slp+0.5) & (current_slp>=slp-0.5) :\n",
    "                sum_pressures += float(df[\" Pressure\"][i])\n",
    "                \n",
    "            else:\n",
    "                if i-prev>10:\n",
    "                    dist = math.dist([df['X'][i] , df['Y'][i]],[df['X'][prev], df['Y'][prev]])\n",
    "                    sum += dist\n",
    "                    lenOfLine +=1\n",
    "                    prev = i\n",
    "                    avg_pressure = sum_pressures/(i-prev)\n",
    "                    print(\"Length is \" , dist , \", Avarage pressure is \" , avg_pressure )\n",
    "                sum_pressures =0\n",
    "            slp = current_slp\n",
    "        i+=1\n",
    "    \n",
    "    return "
   ]
  },
  {
   "cell_type": "code",
   "execution_count": null,
   "id": "4e3bade3",
   "metadata": {},
   "outputs": [],
   "source": []
  },
  {
   "cell_type": "markdown",
   "id": "b580bfe3",
   "metadata": {},
   "source": [
    "## Q.3.\n",
    "\n",
    "Count how many hand lifts were in the drawing"
   ]
  },
  {
   "cell_type": "code",
   "execution_count": null,
   "id": "8a22886a",
   "metadata": {},
   "outputs": [],
   "source": []
  },
  {
   "cell_type": "markdown",
   "id": "fc0a5225",
   "metadata": {},
   "source": [
    "## Q.4.\n",
    "\n",
    "(bonus)\n",
    "4. לבדוק האם הצורה פתוחה או סגורה )בונוס - רק לגבי צורות מסוימות("
   ]
  },
  {
   "cell_type": "code",
   "execution_count": null,
   "id": "cb60ddf3",
   "metadata": {},
   "outputs": [],
   "source": []
  }
 ],
 "metadata": {
  "kernelspec": {
   "display_name": "Python 3 (ipykernel)",
   "language": "python",
   "name": "python3"
  },
  "language_info": {
   "codemirror_mode": {
    "name": "ipython",
    "version": 3
   },
   "file_extension": ".py",
   "mimetype": "text/x-python",
   "name": "python",
   "nbconvert_exporter": "python",
   "pygments_lexer": "ipython3",
   "version": "3.9.7"
  }
 },
 "nbformat": 4,
 "nbformat_minor": 5
}

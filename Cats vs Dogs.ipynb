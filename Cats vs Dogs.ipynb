{
 "cells": [
  {
   "cell_type": "markdown",
   "id": "5a09d273",
   "metadata": {},
   "source": [
    "## Cats vs Dogs"
   ]
  },
  {
   "cell_type": "code",
   "execution_count": 1,
   "id": "46f3ee7d",
   "metadata": {},
   "outputs": [],
   "source": [
    "import numpy as np\n",
    "from matplotlib import pyplot as plt\n",
    "import matplotlib.image as mpimg\n",
    "from IPython.display import Image\n",
    "import matplotlib as mpl\n",
    "import math\n",
    "import image_tools as lit\n",
    "from sklearn.neighbors import KNeighborsClassifier\n",
    "import os\n",
    "import pandas as pd\n",
    "from sklearn.model_selection import train_test_split\n",
    "\n",
    "from pathlib import Path\n",
    "from tqdm.notebook import tqdm\n",
    "from PIL import Image as Img\n",
    "import cv2\n",
    "\n",
    "from __future__ import absolute_import, division, print_function, unicode_literals\n",
    "import importlib\n",
    "import ssp19ai_utils.utils as utils\n",
    "from sklearn.linear_model import SGDClassifier, LogisticRegression\n",
    "from sklearn.multiclass import OneVsOneClassifier\n",
    "from sklearn.ensemble import RandomForestClassifier\n",
    "from sklearn.model_selection import cross_val_predict, cross_val_score, StratifiedKFold, GridSearchCV\n",
    "from sklearn.tree import DecisionTreeClassifier\n",
    "from sklearn.metrics import classification_report, confusion_matrix, precision_score, recall_score, f1_score, accuracy_score\n",
    "from sklearn.base import clone\n",
    "\n",
    "importlib.reload(utils)\n",
    "%matplotlib inline\n"
   ]
  },
  {
   "cell_type": "code",
   "execution_count": 2,
   "id": "c22d363d",
   "metadata": {},
   "outputs": [],
   "source": [
    "from __future__ import absolute_import, division, print_function, unicode_literals\n",
    "import tensorflow as tf\n",
    "import numpy as np\n",
    "import matplotlib.pyplot as plt\n",
    "import importlib\n",
    "from sklearn.pipeline import Pipeline\n",
    "\n",
    "import ssp19ai_utils.utils as utils\n",
    "from sklearn.linear_model import SGDClassifier, LogisticRegression\n",
    "from sklearn.multiclass import OneVsOneClassifier\n",
    "from sklearn.ensemble import RandomForestClassifier, VotingClassifier\n",
    "from sklearn.neighbors import KNeighborsClassifier\n",
    "from sklearn.model_selection import cross_val_predict, cross_val_score, StratifiedKFold, GridSearchCV\n",
    "from sklearn.tree import DecisionTreeClassifier\n",
    "from sklearn.metrics import classification_report, confusion_matrix, precision_score, recall_score, f1_score, accuracy_score\n",
    "from sklearn.base import clone\n",
    "from sklearn.cluster import KMeans\n",
    "from sklearn import metrics\n",
    "from scipy.spatial.distance import cdist\n",
    "import numpy as np\n",
    "import matplotlib.pyplot as plt\n",
    "importlib.reload(utils)\n",
    "\n",
    "%matplotlib inline\n"
   ]
  },
  {
   "cell_type": "code",
   "execution_count": 3,
   "id": "6b3c1e3e",
   "metadata": {},
   "outputs": [],
   "source": [
    "cwd = os.getcwd()\n",
    "cwd\n",
    "if not os.path.exists(cwd+\"/data/fixed_petImages\"):\n",
    "    os.mkdir(cwd+'/data/fixed_petImages')\n",
    "if not os.path.exists(cwd+\"/data/fixed_petImages/train\"):\n",
    "    os.mkdir(cwd+'/data/fixed_petImages/train')\n",
    "if not os.path.exists(cwd+\"/data/fixed_petImages/test\"):\n",
    "    os.mkdir(cwd+'/data/fixed_petImages/test')"
   ]
  },
  {
   "cell_type": "markdown",
   "id": "a8c8dd28",
   "metadata": {},
   "source": [
    "Training a Binary Classifier"
   ]
  },
  {
   "cell_type": "code",
   "execution_count": 4,
   "id": "c71243ba",
   "metadata": {},
   "outputs": [],
   "source": [
    "def get_from_dir(path_dir):\n",
    "    filenames = os.listdir('./data/PetImages/'+path_dir+'/')\n",
    "    categories = []\n",
    "    for filename in filenames:\n",
    "        category = filename.split('.')[0]\n",
    "        if category == 'dog':\n",
    "            categories.append(1)\n",
    "        else:\n",
    "            categories.append(0)\n",
    "    return pd.DataFrame({\n",
    "        'filename': filenames,\n",
    "        'category': categories,\n",
    "        'data': ''\n",
    "    })"
   ]
  },
  {
   "cell_type": "code",
   "execution_count": 5,
   "id": "a37d2cf4",
   "metadata": {},
   "outputs": [],
   "source": [
    "# resize with white background instead of missing pixels\n",
    "def resize_with_white_background(path_ori, path_dest, index, path_dir, df):\n",
    "    try:\n",
    "        img = cv2.imread(path_ori)\n",
    "        # resize + color to gray image\n",
    "        img1 = cv2.cvtColor(img, cv2.COLOR_BGR2GRAY)\n",
    "        img1 = cv2.resize(img1, (28,28))\n",
    "        df.at[index,'data'] = img1.reshape(-1, 784)[0]\n",
    "\n",
    "        path = './data/fixed_petImages/'+path_dir+'/'+path_dest\n",
    "        cv2.imwrite(path, img1)\n",
    "    except:\n",
    "        print(\"bad file\", path_dest)\n",
    "        return np.array([])\n",
    "# resize all the images in the 'ori_dir'\n"
   ]
  },
  {
   "cell_type": "code",
   "execution_count": 6,
   "id": "72953c38",
   "metadata": {},
   "outputs": [],
   "source": [
    "def get_data_from_dir(path_dir, df):\n",
    "    count = 0\n",
    "    for item in df['filename']:\n",
    "        file = './data/PetImages/'+path_dir + '/' + item\n",
    "        resize_with_white_background(file, item, count ,path_dir, df)\n",
    "        count = count + 1\n"
   ]
  },
  {
   "cell_type": "code",
   "execution_count": 7,
   "id": "0546a902",
   "metadata": {},
   "outputs": [],
   "source": [
    "df = get_from_dir('train')"
   ]
  },
  {
   "cell_type": "code",
   "execution_count": 8,
   "id": "78e70017",
   "metadata": {},
   "outputs": [
    {
     "data": {
      "text/html": [
       "<div>\n",
       "<style scoped>\n",
       "    .dataframe tbody tr th:only-of-type {\n",
       "        vertical-align: middle;\n",
       "    }\n",
       "\n",
       "    .dataframe tbody tr th {\n",
       "        vertical-align: top;\n",
       "    }\n",
       "\n",
       "    .dataframe thead th {\n",
       "        text-align: right;\n",
       "    }\n",
       "</style>\n",
       "<table border=\"1\" class=\"dataframe\">\n",
       "  <thead>\n",
       "    <tr style=\"text-align: right;\">\n",
       "      <th></th>\n",
       "      <th>filename</th>\n",
       "      <th>category</th>\n",
       "      <th>data</th>\n",
       "    </tr>\n",
       "  </thead>\n",
       "  <tbody>\n",
       "    <tr>\n",
       "      <th>0</th>\n",
       "      <td>cat.0.jpg</td>\n",
       "      <td>0</td>\n",
       "      <td></td>\n",
       "    </tr>\n",
       "    <tr>\n",
       "      <th>1</th>\n",
       "      <td>cat.1.jpg</td>\n",
       "      <td>0</td>\n",
       "      <td></td>\n",
       "    </tr>\n",
       "    <tr>\n",
       "      <th>2</th>\n",
       "      <td>cat.10.jpg</td>\n",
       "      <td>0</td>\n",
       "      <td></td>\n",
       "    </tr>\n",
       "    <tr>\n",
       "      <th>3</th>\n",
       "      <td>cat.100.jpg</td>\n",
       "      <td>0</td>\n",
       "      <td></td>\n",
       "    </tr>\n",
       "    <tr>\n",
       "      <th>4</th>\n",
       "      <td>cat.1000.jpg</td>\n",
       "      <td>0</td>\n",
       "      <td></td>\n",
       "    </tr>\n",
       "    <tr>\n",
       "      <th>...</th>\n",
       "      <td>...</td>\n",
       "      <td>...</td>\n",
       "      <td>...</td>\n",
       "    </tr>\n",
       "    <tr>\n",
       "      <th>24995</th>\n",
       "      <td>dog.9995.jpg</td>\n",
       "      <td>1</td>\n",
       "      <td></td>\n",
       "    </tr>\n",
       "    <tr>\n",
       "      <th>24996</th>\n",
       "      <td>dog.9996.jpg</td>\n",
       "      <td>1</td>\n",
       "      <td></td>\n",
       "    </tr>\n",
       "    <tr>\n",
       "      <th>24997</th>\n",
       "      <td>dog.9997.jpg</td>\n",
       "      <td>1</td>\n",
       "      <td></td>\n",
       "    </tr>\n",
       "    <tr>\n",
       "      <th>24998</th>\n",
       "      <td>dog.9998.jpg</td>\n",
       "      <td>1</td>\n",
       "      <td></td>\n",
       "    </tr>\n",
       "    <tr>\n",
       "      <th>24999</th>\n",
       "      <td>dog.9999.jpg</td>\n",
       "      <td>1</td>\n",
       "      <td></td>\n",
       "    </tr>\n",
       "  </tbody>\n",
       "</table>\n",
       "<p>25000 rows × 3 columns</p>\n",
       "</div>"
      ],
      "text/plain": [
       "           filename  category data\n",
       "0         cat.0.jpg         0     \n",
       "1         cat.1.jpg         0     \n",
       "2        cat.10.jpg         0     \n",
       "3       cat.100.jpg         0     \n",
       "4      cat.1000.jpg         0     \n",
       "...             ...       ...  ...\n",
       "24995  dog.9995.jpg         1     \n",
       "24996  dog.9996.jpg         1     \n",
       "24997  dog.9997.jpg         1     \n",
       "24998  dog.9998.jpg         1     \n",
       "24999  dog.9999.jpg         1     \n",
       "\n",
       "[25000 rows x 3 columns]"
      ]
     },
     "execution_count": 8,
     "metadata": {},
     "output_type": "execute_result"
    }
   ],
   "source": [
    "df"
   ]
  },
  {
   "cell_type": "code",
   "execution_count": 9,
   "id": "87a5e88b",
   "metadata": {},
   "outputs": [],
   "source": [
    "import matplotlib.image as mpimg\n",
    "\n",
    "# Create figure with a specified number of subplots\n",
    "def plot_images(images, labels, sp=3):\n",
    "  fig, axes = plt.subplots(sp,sp)\n",
    "  fig.subplots_adjust(hspace=1, wspace=0.3)\n",
    "\n",
    "  for i, ax in enumerate(axes.flat):\n",
    "    # Plot image\n",
    "    ax.imshow(mpimg.imread(images[i]))\n",
    "\t\n",
    "    # Plot label\n",
    "    ax.set_xlabel('Label : %s' % labels[i])\n",
    "\n",
    "  plt.show()"
   ]
  },
  {
   "cell_type": "code",
   "execution_count": 10,
   "id": "262f22ea",
   "metadata": {},
   "outputs": [
    {
     "name": "stdout",
     "output_type": "stream",
     "text": [
      "bad file dog.154.jpg\n"
     ]
    }
   ],
   "source": [
    "get_data_from_dir('train', df)"
   ]
  },
  {
   "cell_type": "code",
   "execution_count": 18,
   "id": "1b9a12e1",
   "metadata": {},
   "outputs": [],
   "source": [
    "X = df.drop(['filename', 'category'],axis=1)\n",
    "y = df['category'].copy()"
   ]
  },
  {
   "cell_type": "code",
   "execution_count": 19,
   "id": "e5bac151",
   "metadata": {},
   "outputs": [],
   "source": [
    "X_train, X_test, y_train, y_test = train_test_split(X, y, test_size = 0.1, random_state=42)"
   ]
  },
  {
   "cell_type": "code",
   "execution_count": 20,
   "id": "496e5f1b",
   "metadata": {},
   "outputs": [
    {
     "data": {
      "text/plain": [
       "6868     0\n",
       "24016    1\n",
       "9668     0\n",
       "13640    1\n",
       "14018    1\n",
       "        ..\n",
       "20854    1\n",
       "15308    1\n",
       "13238    1\n",
       "21567    1\n",
       "11393    0\n",
       "Name: category, Length: 2500, dtype: int64"
      ]
     },
     "execution_count": 20,
     "metadata": {},
     "output_type": "execute_result"
    }
   ],
   "source": [
    "y_test"
   ]
  },
  {
   "cell_type": "code",
   "execution_count": 21,
   "id": "0d0d209e",
   "metadata": {},
   "outputs": [
    {
     "data": {
      "text/html": [
       "<div>\n",
       "<style scoped>\n",
       "    .dataframe tbody tr th:only-of-type {\n",
       "        vertical-align: middle;\n",
       "    }\n",
       "\n",
       "    .dataframe tbody tr th {\n",
       "        vertical-align: top;\n",
       "    }\n",
       "\n",
       "    .dataframe thead th {\n",
       "        text-align: right;\n",
       "    }\n",
       "</style>\n",
       "<table border=\"1\" class=\"dataframe\">\n",
       "  <thead>\n",
       "    <tr style=\"text-align: right;\">\n",
       "      <th></th>\n",
       "      <th>data</th>\n",
       "    </tr>\n",
       "  </thead>\n",
       "  <tbody>\n",
       "    <tr>\n",
       "      <th>4484</th>\n",
       "      <td>[49, 49, 35, 25, 31, 75, 121, 124, 113, 95, 12...</td>\n",
       "    </tr>\n",
       "    <tr>\n",
       "      <th>11558</th>\n",
       "      <td>[24, 26, 26, 27, 25, 27, 24, 33, 29, 37, 47, 5...</td>\n",
       "    </tr>\n",
       "    <tr>\n",
       "      <th>16900</th>\n",
       "      <td>[110, 169, 98, 120, 188, 188, 191, 195, 192, 1...</td>\n",
       "    </tr>\n",
       "    <tr>\n",
       "      <th>8936</th>\n",
       "      <td>[189, 212, 252, 255, 194, 230, 246, 253, 245, ...</td>\n",
       "    </tr>\n",
       "    <tr>\n",
       "      <th>10782</th>\n",
       "      <td>[83, 124, 129, 164, 148, 72, 91, 71, 49, 40, 3...</td>\n",
       "    </tr>\n",
       "    <tr>\n",
       "      <th>...</th>\n",
       "      <td>...</td>\n",
       "    </tr>\n",
       "    <tr>\n",
       "      <th>21575</th>\n",
       "      <td>[214, 214, 221, 221, 219, 224, 201, 226, 228, ...</td>\n",
       "    </tr>\n",
       "    <tr>\n",
       "      <th>5390</th>\n",
       "      <td>[255, 255, 255, 255, 255, 255, 255, 255, 255, ...</td>\n",
       "    </tr>\n",
       "    <tr>\n",
       "      <th>860</th>\n",
       "      <td>[255, 255, 255, 255, 255, 255, 255, 255, 255, ...</td>\n",
       "    </tr>\n",
       "    <tr>\n",
       "      <th>15795</th>\n",
       "      <td>[126, 127, 93, 102, 91, 224, 229, 244, 241, 23...</td>\n",
       "    </tr>\n",
       "    <tr>\n",
       "      <th>23654</th>\n",
       "      <td>[112, 59, 67, 61, 71, 96, 78, 70, 62, 72, 76, ...</td>\n",
       "    </tr>\n",
       "  </tbody>\n",
       "</table>\n",
       "<p>22500 rows × 1 columns</p>\n",
       "</div>"
      ],
      "text/plain": [
       "                                                    data\n",
       "4484   [49, 49, 35, 25, 31, 75, 121, 124, 113, 95, 12...\n",
       "11558  [24, 26, 26, 27, 25, 27, 24, 33, 29, 37, 47, 5...\n",
       "16900  [110, 169, 98, 120, 188, 188, 191, 195, 192, 1...\n",
       "8936   [189, 212, 252, 255, 194, 230, 246, 253, 245, ...\n",
       "10782  [83, 124, 129, 164, 148, 72, 91, 71, 49, 40, 3...\n",
       "...                                                  ...\n",
       "21575  [214, 214, 221, 221, 219, 224, 201, 226, 228, ...\n",
       "5390   [255, 255, 255, 255, 255, 255, 255, 255, 255, ...\n",
       "860    [255, 255, 255, 255, 255, 255, 255, 255, 255, ...\n",
       "15795  [126, 127, 93, 102, 91, 224, 229, 244, 241, 23...\n",
       "23654  [112, 59, 67, 61, 71, 96, 78, 70, 62, 72, 76, ...\n",
       "\n",
       "[22500 rows x 1 columns]"
      ]
     },
     "execution_count": 21,
     "metadata": {},
     "output_type": "execute_result"
    }
   ],
   "source": [
    "X_train"
   ]
  },
  {
   "cell_type": "code",
   "execution_count": 22,
   "id": "9322212a",
   "metadata": {},
   "outputs": [],
   "source": [
    "knn = KNeighborsClassifier()\n",
    "log_reg = LogisticRegression(max_iter=100000, random_state=42)\n",
    "randomForest = RandomForestClassifier()\n",
    "sgd_clf = SGDClassifier(random_state=42)\n"
   ]
  },
  {
   "cell_type": "code",
   "execution_count": null,
   "id": "24227582",
   "metadata": {},
   "outputs": [],
   "source": [
    "from sklearn import metrics\n",
    "\n",
    "k_range = range(1,50)\n",
    "scores = []\n",
    "for k in k_range:\n",
    "    knn_ = KNeighborsClassifier(n_neighbors=k)\n",
    "    knn_.fit(X_train, y_train)\n",
    "    y_pred = knn_.predict(X_test)\n",
    "    scores.append(metrics.accuracy_score(y_test, y_pred))\n",
    "\n",
    "plt.figure(figsize=(12, 6))\n",
    "plt.plot(k_range, scores,color='red', linestyle='dashed', marker='o',\n",
    "         markerfacecolor='blue', markersize=10)\n",
    "plt.xlabel('Value of K for KNN')\n",
    "plt.ylabel('Testing Accuracy')\n",
    "\n",
    "# Finding the maximum k - the number of nearest neighbors:\n",
    "max_score = max(scores)\n",
    "best_k = scores.index(max_score)\n",
    "print(\"The best accuracy of the knn model is when k =\",best_k, \", and the score is:\",max_score) "
   ]
  },
  {
   "cell_type": "code",
   "execution_count": 24,
   "id": "eb99e4c9",
   "metadata": {},
   "outputs": [],
   "source": [
    "randomForest_predict = cross_val_predict(\n",
    "    randomForest, X_train, y_train, cv=5)"
   ]
  },
  {
   "cell_type": "code",
   "execution_count": 7,
   "id": "9ccc71df",
   "metadata": {},
   "outputs": [
    {
     "ename": "NameError",
     "evalue": "name 'cross_val_predict' is not defined",
     "output_type": "error",
     "traceback": [
      "\u001b[1;31m---------------------------------------------------------------------------\u001b[0m",
      "\u001b[1;31mNameError\u001b[0m                                 Traceback (most recent call last)",
      "\u001b[1;32mc:\\projects\\2nd_Semester_project\\Cats vs Dogs.ipynb Cell 19'\u001b[0m in \u001b[0;36m<cell line: 1>\u001b[1;34m()\u001b[0m\n\u001b[1;32m----> <a href='vscode-notebook-cell:/c%3A/projects/2nd_Semester_project/Cats%20vs%20Dogs.ipynb#ch0000058?line=0'>1</a>\u001b[0m log_reg_predict \u001b[39m=\u001b[39m cross_val_predict(log_reg, X_train, y_train, cv\u001b[39m=\u001b[39m\u001b[39m5\u001b[39m)\n",
      "\u001b[1;31mNameError\u001b[0m: name 'cross_val_predict' is not defined"
     ]
    }
   ],
   "source": [
    "log_reg_predict = cross_val_predict(log_reg, X_train, y_train, cv=5)"
   ]
  },
  {
   "cell_type": "code",
   "execution_count": null,
   "id": "a767cbc3",
   "metadata": {},
   "outputs": [],
   "source": [
    "knn_predict = cross_val_predict(knn, X_train, y_train, cv=5)"
   ]
  },
  {
   "cell_type": "code",
   "execution_count": null,
   "id": "a07c77da",
   "metadata": {},
   "outputs": [],
   "source": [
    "SGD_predict = cross_val_predict(sgd_clf, X_train, y_train, cv=5)"
   ]
  },
  {
   "cell_type": "markdown",
   "id": "7296b08c",
   "metadata": {},
   "source": [
    "Confusion Matrix"
   ]
  },
  {
   "cell_type": "code",
   "execution_count": null,
   "id": "9a66019c",
   "metadata": {},
   "outputs": [],
   "source": [
    "knn_confusion_mat = confusion_matrix(y_train, knn_predict)\n",
    "log_reg_confusion_mat = confusion_matrix(y_train, log_reg_predict)\n",
    "randomForest_confusion_mat = confusion_matrix(\n",
    "    y_train, randomForest_predict)\n",
    "sgd_clf_confusion_mat = confusion_matrix(y_train, SGD_predict)\n"
   ]
  },
  {
   "cell_type": "markdown",
   "id": "4e6ce995",
   "metadata": {},
   "source": [
    "Precision and Recall"
   ]
  },
  {
   "cell_type": "code",
   "execution_count": null,
   "id": "bdc54999",
   "metadata": {},
   "outputs": [
    {
     "name": "stdout",
     "output_type": "stream",
     "text": [
      "0.8567962898417278\n",
      "0.854\n",
      "0.8532726831351144\n",
      "0.854\n"
     ]
    }
   ],
   "source": [
    "KNN_prec = precision_score(y_train, knn_predict, average='weighted')\n",
    "print(KNN_prec)\n",
    "\n",
    "KNN_recall = recall_score(y_train, knn_predict, average='weighted')\n",
    "print(KNN_recall)\n",
    "\n",
    "KNN_f1 = f1_score(y_train, knn_predict, average='weighted')\n",
    "print(KNN_f1)\n",
    "\n",
    "KNN_acc = accuracy_score(y_train, knn_predict)\n",
    "print(KNN_acc)\n"
   ]
  },
  {
   "cell_type": "code",
   "execution_count": null,
   "id": "fd6ef206",
   "metadata": {},
   "outputs": [
    {
     "data": {
      "text/plain": [
       "array([0.85741667, 0.84875   , 0.85358333, 0.85875   , 0.8515    ])"
      ]
     },
     "metadata": {},
     "output_type": "display_data"
    }
   ],
   "source": [
    "cross_val_score(knn, X_train, y_train, cv=5, scoring=\"accuracy\")\n"
   ]
  },
  {
   "cell_type": "code",
   "execution_count": null,
   "id": "0ba5b906",
   "metadata": {},
   "outputs": [
    {
     "name": "stdout",
     "output_type": "stream",
     "text": [
      "0.8511627802027596\n",
      "0.8523666666666667\n",
      "0.851560048561894\n",
      "0.8523666666666667\n"
     ]
    }
   ],
   "source": [
    "log_reg_prec = precision_score(y_train, log_reg_predict, average='weighted')\n",
    "print(log_reg_prec)\n",
    "\n",
    "log_reg_recall = recall_score(y_train, log_reg_predict, average='weighted')\n",
    "print(log_reg_recall)\n",
    "\n",
    "log_reg_f1 = f1_score(y_train, log_reg_predict, average='weighted')\n",
    "print(log_reg_f1)\n",
    "\n",
    "log_reg_acc = accuracy_score(y_train, log_reg_predict)\n",
    "print(log_reg_acc)\n"
   ]
  },
  {
   "cell_type": "code",
   "execution_count": null,
   "id": "25cee9d8",
   "metadata": {},
   "outputs": [
    {
     "data": {
      "text/plain": [
       "array([0.85433333, 0.84325   , 0.85666667, 0.85608333, 0.8515    ])"
      ]
     },
     "metadata": {},
     "output_type": "display_data"
    }
   ],
   "source": [
    "cross_val_score(log_reg, X_train, y_train, cv=5, scoring=\"accuracy\")\n"
   ]
  },
  {
   "cell_type": "code",
   "execution_count": null,
   "id": "a6ed4bdf",
   "metadata": {},
   "outputs": [
    {
     "name": "stdout",
     "output_type": "stream",
     "text": [
      "0.8811907113289215\n",
      "0.8821166666666667\n",
      "0.8806587005014315\n",
      "0.8821166666666667\n"
     ]
    }
   ],
   "source": [
    "randomForest_prec = precision_score(\n",
    "    y_train, randomForest_predict, average='weighted')\n",
    "print(randomForest_prec)\n",
    "\n",
    "randomForest_recall = recall_score(\n",
    "    y_train, randomForest_predict, average='weighted')\n",
    "print(randomForest_recall)\n",
    "\n",
    "randomForest_f1 = f1_score(\n",
    "    y_train, randomForest_predict, average='weighted')\n",
    "print(randomForest_f1)\n",
    "\n",
    "randomForest_acc = accuracy_score(y_train, randomForest_predict)\n",
    "print(randomForest_acc)\n"
   ]
  },
  {
   "cell_type": "code",
   "execution_count": null,
   "id": "fd6ef206",
   "metadata": {},
   "outputs": [
    {
     "data": {
      "text/plain": [
       "array([0.88491667, 0.87566667, 0.88466667, 0.88616667, 0.88225   ])"
      ]
     },
     "metadata": {},
     "output_type": "display_data"
    }
   ],
   "source": [
    "cross_val_score(randomForest, X_train, y_train, cv=5, scoring=\"accuracy\")\n"
   ]
  },
  {
   "cell_type": "code",
   "execution_count": null,
   "id": "31923d20",
   "metadata": {},
   "outputs": [
    {
     "name": "stdout",
     "output_type": "stream",
     "text": [
      "0.8360775402765747\n",
      "0.8363833333333334\n",
      "0.8350801000596557\n",
      "0.8363833333333334\n"
     ]
    }
   ],
   "source": [
    "SGD_prec = precision_score(y_train, SGD_predict, average='weighted')\n",
    "print(SGD_prec)\n",
    "\n",
    "SGD_recall = recall_score(y_train, SGD_predict, average='weighted')\n",
    "print(SGD_recall)\n",
    "\n",
    "SGD_f1 = f1_score(y_train, SGD_predict, average='weighted')\n",
    "print(SGD_f1)\n",
    "\n",
    "SGD_acc = accuracy_score(y_train, SGD_predict)\n",
    "print(SGD_acc)\n"
   ]
  },
  {
   "cell_type": "code",
   "execution_count": null,
   "id": "316b3c7b",
   "metadata": {},
   "outputs": [
    {
     "data": {
      "text/plain": [
       "array([0.82158333, 0.83566667, 0.84708333, 0.84208333, 0.8355    ])"
      ]
     },
     "metadata": {},
     "output_type": "display_data"
    }
   ],
   "source": [
    "cross_val_score(sgd_clf, X_train, y_train, cv=5, scoring=\"accuracy\")"
   ]
  },
  {
   "cell_type": "markdown",
   "id": "cffde951",
   "metadata": {},
   "source": [
    "# Hard Voting (Ensembele)"
   ]
  },
  {
   "cell_type": "code",
   "execution_count": null,
   "id": "6d1a339e",
   "metadata": {},
   "outputs": [
    {
     "data": {
      "text/plain": [
       "VotingClassifier(estimators=[('knn', KNeighborsClassifier()),\n",
       "                             ('log_reg',\n",
       "                              LogisticRegression(max_iter=100000,\n",
       "                                                 random_state=42)),\n",
       "                             ('randomForest', RandomForestClassifier()),\n",
       "                             ('sgd_clf', SGDClassifier(random_state=42))])"
      ]
     },
     "metadata": {},
     "output_type": "display_data"
    }
   ],
   "source": [
    "voting_clf = VotingClassifier(\n",
    "    estimators=[('knn', knn), ('log_reg', log_reg), ('randomForest', randomForest), ('sgd_clf', sgd_clf)],\n",
    "    voting='hard')\n",
    "voting_clf.fit(X_train, y_train)"
   ]
  },
  {
   "cell_type": "code",
   "execution_count": null,
   "id": "6f3fe8f4",
   "metadata": {},
   "outputs": [
    {
     "name": "stdout",
     "output_type": "stream",
     "text": [
      "KNeighborsClassifier 0.8554\n",
      "LogisticRegression 0.8441\n",
      "RandomForestClassifier 0.8767\n",
      "SGDClassifier 0.8231\n",
      "VotingClassifier 0.8688\n"
     ]
    }
   ],
   "source": [
    "max_accuracy_score = 0\n",
    "final_model = ''\n",
    "for clf in (knn, log_reg, randomForest, sgd_clf, voting_clf):\n",
    "    clf.fit(X_train, y_train)\n",
    "    y_pred = clf.predict(X_test)\n",
    "    accuracy_score_ = accuracy_score(y_test, y_pred)\n",
    "    if accuracy_score_ > max_accuracy_score:\n",
    "        final_model = clf\n",
    "        max_accuracy_score = accuracy_score_\n",
    "    print(clf.__class__.__name__, accuracy_score_)\n"
   ]
  },
  {
   "cell_type": "markdown",
   "id": "2d4f69f7",
   "metadata": {},
   "source": [
    "# Performance Measures\n",
    "## Measuring Accuracy Using Cross-Validation"
   ]
  },
  {
   "cell_type": "markdown",
   "id": "25db58ac",
   "metadata": {},
   "source": [
    "The best model is: "
   ]
  },
  {
   "cell_type": "code",
   "execution_count": null,
   "id": "57fe7b0b",
   "metadata": {},
   "outputs": [
    {
     "data": {
      "text/plain": [
       "RandomForestClassifier()"
      ]
     },
     "metadata": {},
     "output_type": "display_data"
    }
   ],
   "source": [
    "final_model "
   ]
  },
  {
   "cell_type": "markdown",
   "id": "7031b78e",
   "metadata": {},
   "source": [
    "With accuracy score of:  "
   ]
  },
  {
   "cell_type": "code",
   "execution_count": null,
   "id": "fce33a85",
   "metadata": {},
   "outputs": [
    {
     "data": {
      "text/plain": [
       "0.8767"
      ]
     },
     "metadata": {},
     "output_type": "display_data"
    }
   ],
   "source": [
    "max_accuracy_score"
   ]
  },
  {
   "cell_type": "code",
   "execution_count": 9,
   "id": "9bb2295b",
   "metadata": {},
   "outputs": [
    {
     "name": "stderr",
     "output_type": "stream",
     "text": [
      "\n",
      "KeyboardInterrupt\n",
      "\n"
     ]
    }
   ],
   "source": [
    "knn_predict = cross_val_predict(knn, X_train, y_train, cv=5)\n"
   ]
  },
  {
   "cell_type": "markdown",
   "id": "b42d556a",
   "metadata": {},
   "source": []
  },
  {
   "cell_type": "code",
   "execution_count": null,
   "id": "94dd9ff3",
   "metadata": {},
   "outputs": [],
   "source": [
    "# dTree_predict = cross_val_predict(dTree, X_train, y_train, cv=5)"
   ]
  },
  {
   "cell_type": "code",
   "execution_count": null,
   "id": "dd937130",
   "metadata": {},
   "outputs": [],
   "source": [
    "randomForest_predict = cross_val_predict(\n",
    "    randomForest, X_train, y_train, cv=5)"
   ]
  },
  {
   "cell_type": "code",
   "execution_count": null,
   "id": "31f7c31e",
   "metadata": {},
   "outputs": [],
   "source": [
    "SGD_predict = cross_val_predict(sgd_clf, X_train, y_train, cv=5)"
   ]
  },
  {
   "cell_type": "markdown",
   "id": "2d4f69f7",
   "metadata": {},
   "source": [
    "# Performance Measures\n",
    "## Measuring Accuracy Using Cross-Validation"
   ]
  },
  {
   "cell_type": "code",
   "execution_count": null,
   "id": "82f393f3",
   "metadata": {},
   "outputs": [],
   "source": [
    "skfolds = StratifiedKFold(n_splits=3, shuffle=True, random_state=42)\n",
    "\n",
    "for train_index, test_index in skfolds.split(X_train, y_train_dog):\n",
    "    clone_clf = clone(sgd_clf)\n",
    "    X_train_folds = X_train[train_index]\n",
    "    y_train_folds = y_train_dog[train_index]\n",
    "    X_test_fold = X_train[test_index]\n",
    "    y_test_fold = y_train_dog[test_index]\n",
    "\n",
    "    clone_clf.fit(X_train_folds, y_train_folds)\n",
    "    y_pred = clone_clf.predict(X_test_fold)\n",
    "    n_correct = sum(y_pred == y_test_fold)\n",
    "    print(n_correct / len(y_pred))\n"
   ]
  },
  {
   "cell_type": "code",
   "execution_count": null,
   "id": "299bf88d",
   "metadata": {},
   "outputs": [],
   "source": [
    "ovo_clf = OneVsOneClassifier(SGDClassifier(random_state=42))\n",
    "ovo_clf.fit(train_images, train_labels)\n",
    "ovo_clf.predict([2])"
   ]
  }
 ],
 "metadata": {
  "interpreter": {
   "hash": "e8446a84462e6194ca1a866efc9c22d3286fe5985d229b8f6a8c76f6fd8d9795"
  },
  "kernelspec": {
   "display_name": "Python 3 (ipykernel)",
   "language": "python",
   "name": "python3"
  },
  "language_info": {
   "codemirror_mode": {
    "name": "ipython",
    "version": 3
   },
   "file_extension": ".py",
   "mimetype": "text/x-python",
   "name": "python",
   "nbconvert_exporter": "python",
   "pygments_lexer": "ipython3",
   "version": "3.9.7"
  }
 },
 "nbformat": 4,
 "nbformat_minor": 5
}

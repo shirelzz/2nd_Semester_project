{
 "cells": [
  {
   "cell_type": "code",
   "execution_count": 3,
   "id": "54a9a630-ea57-4d01-bf8b-537174f193a5",
   "metadata": {},
   "outputs": [],
   "source": [
    "import os\n",
    "import sys\n",
    "import time\n",
    "\n",
    "import numpy as np\n",
    "import pandas as pd\n",
    "\n",
    "import matplotlib.pyplot as plt"
   ]
  },
  {
   "cell_type": "code",
   "execution_count": 19,
   "id": "71106a95-e1cb-4031-8203-2fd71c2afb72",
   "metadata": {},
   "outputs": [],
   "source": [
    "def load_image_data(folder_id: int, image_id: int):\n",
    "    file_name = './data/' + str(folder_id) + '/SimpleTest/' + str(image_id)\n",
    "    \n",
    "    if not os.path.isfile(file_name + '.png'):\n",
    "        print(\"Image not exits\")\n",
    "        return None\n",
    "    \n",
    "    if not os.path.isfile(file_name + '.csv'):\n",
    "        print(\"Data not exits\")\n",
    "        return None\n",
    "    \n",
    "    return (pd.read_csv(file_name + '.csv'), file_name + '.png')\n",
    "    "
   ]
  },
  {
   "cell_type": "code",
   "execution_count": 70,
   "id": "d73c0108-8d38-4631-ac3a-4010befa7202",
   "metadata": {},
   "outputs": [
    {
     "data": {
      "text/html": [
       "<div>\n",
       "<style scoped>\n",
       "    .dataframe tbody tr th:only-of-type {\n",
       "        vertical-align: middle;\n",
       "    }\n",
       "\n",
       "    .dataframe tbody tr th {\n",
       "        vertical-align: top;\n",
       "    }\n",
       "\n",
       "    .dataframe thead th {\n",
       "        text-align: right;\n",
       "    }\n",
       "</style>\n",
       "<table border=\"1\" class=\"dataframe\">\n",
       "  <thead>\n",
       "    <tr style=\"text-align: right;\">\n",
       "      <th></th>\n",
       "      <th>X</th>\n",
       "      <th>Y</th>\n",
       "      <th>Pressure</th>\n",
       "      <th>TiltX</th>\n",
       "      <th>TiltY</th>\n",
       "      <th>Time</th>\n",
       "    </tr>\n",
       "  </thead>\n",
       "  <tbody>\n",
       "    <tr>\n",
       "      <th>0</th>\n",
       "      <td>946.388266543481</td>\n",
       "      <td>798.408130</td>\n",
       "      <td>0.186999</td>\n",
       "      <td>-4447.0</td>\n",
       "      <td>1009.0</td>\n",
       "      <td>00:03.4787405</td>\n",
       "    </tr>\n",
       "    <tr>\n",
       "      <th>1</th>\n",
       "      <td>946.862224275321</td>\n",
       "      <td>796.512299</td>\n",
       "      <td>0.190906</td>\n",
       "      <td>-4447.0</td>\n",
       "      <td>1009.0</td>\n",
       "      <td>00:03.4943781</td>\n",
       "    </tr>\n",
       "    <tr>\n",
       "      <th>2</th>\n",
       "      <td>946.388266543481</td>\n",
       "      <td>794.774454</td>\n",
       "      <td>0.190417</td>\n",
       "      <td>-4199.0</td>\n",
       "      <td>927.0</td>\n",
       "      <td>00:03.5099814</td>\n",
       "    </tr>\n",
       "    <tr>\n",
       "      <th>3</th>\n",
       "      <td>945.598336990415</td>\n",
       "      <td>792.404666</td>\n",
       "      <td>0.223133</td>\n",
       "      <td>-4199.0</td>\n",
       "      <td>927.0</td>\n",
       "      <td>00:03.5256250</td>\n",
       "    </tr>\n",
       "    <tr>\n",
       "      <th>4</th>\n",
       "      <td>944.439773645918</td>\n",
       "      <td>789.613581</td>\n",
       "      <td>0.266835</td>\n",
       "      <td>-4199.0</td>\n",
       "      <td>927.0</td>\n",
       "      <td>00:03.5412356</td>\n",
       "    </tr>\n",
       "    <tr>\n",
       "      <th>5</th>\n",
       "      <td>942.965238480194</td>\n",
       "      <td>785.663933</td>\n",
       "      <td>0.309560</td>\n",
       "      <td>-4199.0</td>\n",
       "      <td>927.0</td>\n",
       "      <td>00:03.5569675</td>\n",
       "    </tr>\n",
       "    <tr>\n",
       "      <th>6</th>\n",
       "      <td>941.280055433653</td>\n",
       "      <td>781.977596</td>\n",
       "      <td>0.353994</td>\n",
       "      <td>-4199.0</td>\n",
       "      <td>927.0</td>\n",
       "      <td>00:03.5724849</td>\n",
       "    </tr>\n",
       "    <tr>\n",
       "      <th>7</th>\n",
       "      <td>939.910844208338</td>\n",
       "      <td>778.975863</td>\n",
       "      <td>0.397208</td>\n",
       "      <td>-4199.0</td>\n",
       "      <td>927.0</td>\n",
       "      <td>00:03.5724849</td>\n",
       "    </tr>\n",
       "    <tr>\n",
       "      <th>8</th>\n",
       "      <td>939.594872387112</td>\n",
       "      <td>778.291258</td>\n",
       "      <td>0.407706</td>\n",
       "      <td>-4199.0</td>\n",
       "      <td>927.0</td>\n",
       "      <td>00:03.5881057</td>\n",
       "    </tr>\n",
       "    <tr>\n",
       "      <th>9</th>\n",
       "      <td>938.646956923432</td>\n",
       "      <td>776.500751</td>\n",
       "      <td>0.435782</td>\n",
       "      <td>-4199.0</td>\n",
       "      <td>927.0</td>\n",
       "      <td>00:03.6037294</td>\n",
       "    </tr>\n",
       "  </tbody>\n",
       "</table>\n",
       "</div>"
      ],
      "text/plain": [
       "                  X           Y   Pressure   TiltX   TiltY           Time\n",
       "0  946.388266543481  798.408130   0.186999 -4447.0  1009.0  00:03.4787405\n",
       "1  946.862224275321  796.512299   0.190906 -4447.0  1009.0  00:03.4943781\n",
       "2  946.388266543481  794.774454   0.190417 -4199.0   927.0  00:03.5099814\n",
       "3  945.598336990415  792.404666   0.223133 -4199.0   927.0  00:03.5256250\n",
       "4  944.439773645918  789.613581   0.266835 -4199.0   927.0  00:03.5412356\n",
       "5  942.965238480194  785.663933   0.309560 -4199.0   927.0  00:03.5569675\n",
       "6  941.280055433653  781.977596   0.353994 -4199.0   927.0  00:03.5724849\n",
       "7  939.910844208338  778.975863   0.397208 -4199.0   927.0  00:03.5724849\n",
       "8  939.594872387112  778.291258   0.407706 -4199.0   927.0  00:03.5881057\n",
       "9  938.646956923432  776.500751   0.435782 -4199.0   927.0  00:03.6037294"
      ]
     },
     "execution_count": 70,
     "metadata": {},
     "output_type": "execute_result"
    }
   ],
   "source": [
    "(df, img) = load_image_data(7554, 10)\n",
    "\n",
    "df.head(10)"
   ]
  },
  {
   "cell_type": "code",
   "execution_count": 47,
   "id": "9f7145bb-211a-4010-af9d-09d47a736e3f",
   "metadata": {},
   "outputs": [
    {
     "data": {
      "text/plain": [
       "0.7899295530660311"
      ]
     },
     "execution_count": 47,
     "metadata": {},
     "output_type": "execute_result"
    }
   ],
   "source": [
    "(float(df['X'][0]) + 0.2 * float(df[' Pressure'][0]))\n",
    "(float(df['X'][2])) - (float(df['X'][1]))"
   ]
  },
  {
   "cell_type": "code",
   "execution_count": 89,
   "id": "32ff5d5d-368e-4ba9-bb0c-6d83bbf11bf9",
   "metadata": {},
   "outputs": [],
   "source": [
    "df[' Time'][0]\n",
    "def to_number(date_as_str, defualt_value):\n",
    "    if not date_as_str:\n",
    "        return defualt_value\n",
    "    \n",
    "    if type(date_as_str) == float:\n",
    "        return date_as_str\n",
    "    \n",
    "    (p1, p2) = date_as_str.split(':')\n",
    "    p1 = float(p1)\n",
    "    p2 = float(p2)\n",
    "    return p1 * 60 + p2\n",
    "\n",
    "#a = to_number(df[' Time'][0])\n",
    "#a\n",
    "\n",
    "\n",
    "#for i in range(1, 10):\n",
    "#    #print(i,\":\",to_number(df[' Time'][i]) - to_number(df[' Time'][i-1]))"
   ]
  },
  {
   "cell_type": "code",
   "execution_count": 92,
   "id": "ada9b7f5-7cc5-4e9a-9874-74eaa10b6022",
   "metadata": {},
   "outputs": [
    {
     "name": "stderr",
     "output_type": "stream",
     "text": [
      "C:\\Users\\omer2\\AppData\\Local\\Temp\\ipykernel_18060\\1985785840.py:2: SettingWithCopyWarning: \n",
      "A value is trying to be set on a copy of a slice from a DataFrame\n",
      "\n",
      "See the caveats in the documentation: https://pandas.pydata.org/pandas-docs/stable/user_guide/indexing.html#returning-a-view-versus-a-copy\n",
      "  df[\"Time\"][0] = to_number(df[\"Time\"][0], 0)\n",
      "C:\\Users\\omer2\\AppData\\Local\\Temp\\ipykernel_18060\\1985785840.py:8: SettingWithCopyWarning: \n",
      "A value is trying to be set on a copy of a slice from a DataFrame\n",
      "\n",
      "See the caveats in the documentation: https://pandas.pydata.org/pandas-docs/stable/user_guide/indexing.html#returning-a-view-versus-a-copy\n",
      "  df[\"Time\"][index] = to_number(df[\"Time\"][index], df[\"Time\"][index - 1])\n"
     ]
    },
    {
     "data": {
      "text/plain": [
       "0         3.47874\n",
       "1        3.494378\n",
       "2        3.509981\n",
       "3        3.525625\n",
       "4        3.541236\n",
       "          ...    \n",
       "1226    36.704073\n",
       "1227    36.719706\n",
       "1228    36.719706\n",
       "1229          NaN\n",
       "1230          NaN\n",
       "Name: Time, Length: 1231, dtype: object"
      ]
     },
     "execution_count": 92,
     "metadata": {},
     "output_type": "execute_result"
    }
   ],
   "source": [
    "df[\"Time\"] = df[\" Time\"]\n",
    "df[\"Time\"][0] = to_number(df[\"Time\"][0], 0)\n",
    "flag_first = True\n",
    "for index in df.index:\n",
    "    if flag_first:\n",
    "        flag_first = False\n",
    "    else:\n",
    "        df[\"Time\"][index] = to_number(df[\"Time\"][index], df[\"Time\"][index - 1])\n",
    "\n",
    "df[\"Time\"]"
   ]
  },
  {
   "cell_type": "code",
   "execution_count": 96,
   "id": "8f254a14-7f40-4ee7-ac00-186470773ad0",
   "metadata": {},
   "outputs": [
    {
     "name": "stderr",
     "output_type": "stream",
     "text": [
      "C:\\Users\\omer2\\AppData\\Local\\Temp\\ipykernel_18060\\2845424429.py:2: SettingWithCopyWarning: \n",
      "A value is trying to be set on a copy of a slice from a DataFrame\n",
      "\n",
      "See the caveats in the documentation: https://pandas.pydata.org/pandas-docs/stable/user_guide/indexing.html#returning-a-view-versus-a-copy\n",
      "  df[\"TimeDiff\"][0] = 0\n",
      "C:\\Users\\omer2\\AppData\\Local\\Temp\\ipykernel_18060\\2845424429.py:8: SettingWithCopyWarning: \n",
      "A value is trying to be set on a copy of a slice from a DataFrame\n",
      "\n",
      "See the caveats in the documentation: https://pandas.pydata.org/pandas-docs/stable/user_guide/indexing.html#returning-a-view-versus-a-copy\n",
      "  df[\"TimeDiff\"][index] = df[\"Time\"][index] - df[\"Time\"][index - 1]\n"
     ]
    },
    {
     "data": {
      "text/plain": [
       "[<matplotlib.lines.Line2D at 0x24ca228ecd0>]"
      ]
     },
     "execution_count": 96,
     "metadata": {},
     "output_type": "execute_result"
    },
    {
     "data": {
      "image/png": "[encoded data removed]",
      "text/plain": [
       "<Figure size 432x288 with 1 Axes>"
      ]
     },
     "metadata": {
      "needs_background": "light"
     },
     "output_type": "display_data"
    }
   ],
   "source": [
    "df[\"TimeDiff\"] = np.full(len(df.index), 0)\n",
    "df[\"TimeDiff\"][0] = 0\n",
    "flag_first = True\n",
    "for index in df.index:\n",
    "    if flag_first:\n",
    "        flag_first = False\n",
    "    else:\n",
    "        df[\"TimeDiff\"][index] = df[\"Time\"][index] - df[\"Time\"][index - 1]\n",
    "        \n",
    "\n",
    "plt.plot(df[\"TimeDiff\"])"
   ]
  }
 ],
 "metadata": {
  "kernelspec": {
   "display_name": "data-science-walmart-and-more",
   "language": "python",
   "name": "data-science-walmart-and-more"
  },
  "language_info": {
   "codemirror_mode": {
    "name": "ipython",
    "version": 3
   },
   "file_extension": ".py",
   "mimetype": "text/x-python",
   "name": "python",
   "nbconvert_exporter": "python",
   "pygments_lexer": "ipython3",
   "version": "3.9.6"
  }
 },
 "nbformat": 4,
 "nbformat_minor": 5
}

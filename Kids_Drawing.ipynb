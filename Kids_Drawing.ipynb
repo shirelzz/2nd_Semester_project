{
 "cells": [
  {
   "cell_type": "code",
   "execution_count": 3,
   "id": "54a9a630-ea57-4d01-bf8b-537174f193a5",
   "metadata": {},
   "outputs": [],
   "source": [
    "import os\n",
    "import sys\n",
    "import time\n",
    "import numpy as np\n",
    "import pandas as pd\n",
    "import matplotlib.pyplot as plt\n",
    "import matplotlib.image as mpimg\n",
    "import re\n",
    "import math\n"
   ]
  },
  {
   "cell_type": "code",
   "execution_count": 4,
   "id": "3ff65162",
   "metadata": {},
   "outputs": [],
   "source": [
    "FILE_NUMBER = 5\n",
    "FOLDER_NUMBER = 7554"
   ]
  },
  {
   "cell_type": "code",
   "execution_count": 5,
   "id": "71106a95-e1cb-4031-8203-2fd71c2afb72",
   "metadata": {},
   "outputs": [],
   "source": [
    "def load_image_data():\n",
    "    file_name = './data/kids drawing-train/' + str(FOLDER_NUMBER) + '/SimpleTest/' + str(FILE_NUMBER)\n",
    "    \n",
    "    if not os.path.isfile(file_name + '.png'):\n",
    "        print(\"Image not exits\")\n",
    "        return None\n",
    "    \n",
    "    if not os.path.isfile(file_name + '.csv'):\n",
    "        print(\"Data not exits\")\n",
    "        return None\n",
    "    \n",
    "    return (pd.read_csv(file_name + '.csv'), file_name + '.png') "
   ]
  },
  {
   "cell_type": "code",
   "execution_count": 6,
   "id": "d73c0108-8d38-4631-ac3a-4010befa7202",
   "metadata": {},
   "outputs": [
    {
     "data": {
      "text/html": [
       "<div>\n",
       "<style scoped>\n",
       "    .dataframe tbody tr th:only-of-type {\n",
       "        vertical-align: middle;\n",
       "    }\n",
       "\n",
       "    .dataframe tbody tr th {\n",
       "        vertical-align: top;\n",
       "    }\n",
       "\n",
       "    .dataframe thead th {\n",
       "        text-align: right;\n",
       "    }\n",
       "</style>\n",
       "<table border=\"1\" class=\"dataframe\">\n",
       "  <thead>\n",
       "    <tr style=\"text-align: right;\">\n",
       "      <th></th>\n",
       "      <th>X</th>\n",
       "      <th>Y</th>\n",
       "      <th>Pressure</th>\n",
       "      <th>TiltX</th>\n",
       "      <th>TiltY</th>\n",
       "      <th>Time</th>\n",
       "    </tr>\n",
       "  </thead>\n",
       "  <tbody>\n",
       "    <tr>\n",
       "      <th>0</th>\n",
       "      <td>608.351079801363</td>\n",
       "      <td>833.323017</td>\n",
       "      <td>0.107164</td>\n",
       "      <td>-3848.0</td>\n",
       "      <td>-644.0</td>\n",
       "      <td>00:02.7272871</td>\n",
       "    </tr>\n",
       "    <tr>\n",
       "      <th>1</th>\n",
       "      <td>608.877699503407</td>\n",
       "      <td>833.165031</td>\n",
       "      <td>0.107164</td>\n",
       "      <td>-3848.0</td>\n",
       "      <td>-644.0</td>\n",
       "      <td>00:02.7429109</td>\n",
       "    </tr>\n",
       "    <tr>\n",
       "      <th>2</th>\n",
       "      <td>608.877699503407</td>\n",
       "      <td>833.165031</td>\n",
       "      <td>0.099107</td>\n",
       "      <td>-3848.0</td>\n",
       "      <td>-644.0</td>\n",
       "      <td>00:02.7585749</td>\n",
       "    </tr>\n",
       "    <tr>\n",
       "      <th>3</th>\n",
       "      <td>609.03568541402</td>\n",
       "      <td>833.323017</td>\n",
       "      <td>0.107652</td>\n",
       "      <td>-3959.0</td>\n",
       "      <td>-670.0</td>\n",
       "      <td>00:02.7741475</td>\n",
       "    </tr>\n",
       "    <tr>\n",
       "      <th>4</th>\n",
       "      <td>608.719713592794</td>\n",
       "      <td>833.586326</td>\n",
       "      <td>0.129381</td>\n",
       "      <td>-4059.0</td>\n",
       "      <td>-694.0</td>\n",
       "      <td>00:02.7898665</td>\n",
       "    </tr>\n",
       "    <tr>\n",
       "      <th>5</th>\n",
       "      <td>608.087769950341</td>\n",
       "      <td>833.428340</td>\n",
       "      <td>0.155505</td>\n",
       "      <td>-4059.0</td>\n",
       "      <td>-694.0</td>\n",
       "      <td>00:02.8053975</td>\n",
       "    </tr>\n",
       "    <tr>\n",
       "      <th>6</th>\n",
       "      <td>607.403164337683</td>\n",
       "      <td>833.533664</td>\n",
       "      <td>0.201160</td>\n",
       "      <td>-4059.0</td>\n",
       "      <td>-694.0</td>\n",
       "      <td>00:02.8210195</td>\n",
       "    </tr>\n",
       "    <tr>\n",
       "      <th>7</th>\n",
       "      <td>607.139854486661</td>\n",
       "      <td>833.428340</td>\n",
       "      <td>0.255360</td>\n",
       "      <td>-4059.0</td>\n",
       "      <td>-694.0</td>\n",
       "      <td>00:02.8366478</td>\n",
       "    </tr>\n",
       "    <tr>\n",
       "      <th>8</th>\n",
       "      <td>606.455248874004</td>\n",
       "      <td>832.796397</td>\n",
       "      <td>0.312734</td>\n",
       "      <td>-4109.0</td>\n",
       "      <td>-706.0</td>\n",
       "      <td>00:02.8522656</td>\n",
       "    </tr>\n",
       "    <tr>\n",
       "      <th>9</th>\n",
       "      <td>606.191939022982</td>\n",
       "      <td>830.584594</td>\n",
       "      <td>0.388907</td>\n",
       "      <td>-4109.0</td>\n",
       "      <td>-706.0</td>\n",
       "      <td>00:02.8678910</td>\n",
       "    </tr>\n",
       "  </tbody>\n",
       "</table>\n",
       "</div>"
      ],
      "text/plain": [
       "                  X           Y   Pressure   TiltX   TiltY           Time\n",
       "0  608.351079801363  833.323017   0.107164 -3848.0  -644.0  00:02.7272871\n",
       "1  608.877699503407  833.165031   0.107164 -3848.0  -644.0  00:02.7429109\n",
       "2  608.877699503407  833.165031   0.099107 -3848.0  -644.0  00:02.7585749\n",
       "3   609.03568541402  833.323017   0.107652 -3959.0  -670.0  00:02.7741475\n",
       "4  608.719713592794  833.586326   0.129381 -4059.0  -694.0  00:02.7898665\n",
       "5  608.087769950341  833.428340   0.155505 -4059.0  -694.0  00:02.8053975\n",
       "6  607.403164337683  833.533664   0.201160 -4059.0  -694.0  00:02.8210195\n",
       "7  607.139854486661  833.428340   0.255360 -4059.0  -694.0  00:02.8366478\n",
       "8  606.455248874004  832.796397   0.312734 -4109.0  -706.0  00:02.8522656\n",
       "9  606.191939022982  830.584594   0.388907 -4109.0  -706.0  00:02.8678910"
      ]
     },
     "execution_count": 6,
     "metadata": {},
     "output_type": "execute_result"
    }
   ],
   "source": [
    "(df, img) = load_image_data()\n",
    "df.head(10)"
   ]
  },
  {
   "cell_type": "code",
   "execution_count": 7,
   "id": "4ebeebb1",
   "metadata": {},
   "outputs": [],
   "source": [
    "def col_X_ToNum(data_as_str, defualt_value):\n",
    "    if not data_as_str:\n",
    "        return defualt_value\n",
    "    \n",
    "    if type(data_as_str) == float:\n",
    "        return data_as_str\n",
    "    \n",
    "    if re.search(\"^[a-zA-Z]\", data_as_str) is not None:\n",
    "        return defualt_value\n",
    "    return float(data_as_str)\n"
   ]
  },
  {
   "cell_type": "code",
   "execution_count": 8,
   "id": "7e60e2b8",
   "metadata": {},
   "outputs": [],
   "source": [
    "def col_Y_ToNum(data_as_str, defualt_value):\n",
    "    if not data_as_str:\n",
    "        return defualt_value\n",
    "    \n",
    "    if type(data_as_str) == float:\n",
    "        return data_as_str\n",
    "\n",
    "    return float(data_as_str)\n",
    "\n"
   ]
  },
  {
   "cell_type": "code",
   "execution_count": 9,
   "id": "df2f834e",
   "metadata": {},
   "outputs": [
    {
     "data": {
      "text/plain": [
       "<matplotlib.image.AxesImage at 0x21311189310>"
      ]
     },
     "execution_count": 9,
     "metadata": {},
     "output_type": "execute_result"
    },
    {
     "data": {
      "image/png": "[encoded data removed]",
      "text/plain": [
       "<Figure size 432x288 with 1 Axes>"
      ]
     },
     "metadata": {
      "needs_background": "light"
     },
     "output_type": "display_data"
    }
   ],
   "source": [
    "img1 = mpimg.imread('./data/kids drawing-train/' + str(FOLDER_NUMBER) + '/SimpleTest/' + str(FILE_NUMBER)+\".png\")\n",
    "plt.imshow(img1)"
   ]
  },
  {
   "cell_type": "code",
   "execution_count": 10,
   "id": "9f7145bb-211a-4010-af9d-09d47a736e3f",
   "metadata": {},
   "outputs": [
    {
     "data": {
      "text/plain": [
       "0.0"
      ]
     },
     "execution_count": 10,
     "metadata": {},
     "output_type": "execute_result"
    }
   ],
   "source": [
    "(float(df['X'][0]) + 0.2 * float(df[' Pressure'][0]))\n",
    "(float(df['X'][2])) - (float(df['X'][1]))"
   ]
  },
  {
   "cell_type": "code",
   "execution_count": 11,
   "id": "32ff5d5d-368e-4ba9-bb0c-6d83bbf11bf9",
   "metadata": {},
   "outputs": [],
   "source": [
    "df[' Time'][0]\n",
    "def to_number(date_as_str, defualt_value):\n",
    "    if not date_as_str:\n",
    "        return defualt_value\n",
    "    \n",
    "    if type(date_as_str) == float:\n",
    "        return date_as_str\n",
    "    \n",
    "    (p1, p2) = date_as_str.split(':')\n",
    "    p1 = float(p1)\n",
    "    p2 = float(p2)\n",
    "    return p1 * 60 + p2"
   ]
  },
  {
   "cell_type": "code",
   "execution_count": 12,
   "id": "ada9b7f5-7cc5-4e9a-9874-74eaa10b6022",
   "metadata": {},
   "outputs": [
    {
     "name": "stderr",
     "output_type": "stream",
     "text": [
      "C:\\Users\\moria\\AppData\\Local\\Temp\\ipykernel_44508\\2886399278.py:2: SettingWithCopyWarning: \n",
      "A value is trying to be set on a copy of a slice from a DataFrame\n",
      "\n",
      "See the caveats in the documentation: https://pandas.pydata.org/pandas-docs/stable/user_guide/indexing.html#returning-a-view-versus-a-copy\n",
      "  df[\"Time\"][0] = to_number(df[\"Time\"][0], 0)\n",
      "C:\\Users\\moria\\AppData\\Local\\Temp\\ipykernel_44508\\2886399278.py:4: SettingWithCopyWarning: \n",
      "A value is trying to be set on a copy of a slice from a DataFrame\n",
      "\n",
      "See the caveats in the documentation: https://pandas.pydata.org/pandas-docs/stable/user_guide/indexing.html#returning-a-view-versus-a-copy\n",
      "  df[\"Y\"][0] = col_Y_ToNum(df[\"Y\"][0], 0)\n",
      "C:\\Users\\moria\\AppData\\Local\\Temp\\ipykernel_44508\\2886399278.py:5: SettingWithCopyWarning: \n",
      "A value is trying to be set on a copy of a slice from a DataFrame\n",
      "\n",
      "See the caveats in the documentation: https://pandas.pydata.org/pandas-docs/stable/user_guide/indexing.html#returning-a-view-versus-a-copy\n",
      "  df[\"X\"][0] = col_X_ToNum(df[\"X\"][0], 0)\n",
      "C:\\Users\\moria\\AppData\\Local\\Temp\\ipykernel_44508\\2886399278.py:13: SettingWithCopyWarning: \n",
      "A value is trying to be set on a copy of a slice from a DataFrame\n",
      "\n",
      "See the caveats in the documentation: https://pandas.pydata.org/pandas-docs/stable/user_guide/indexing.html#returning-a-view-versus-a-copy\n",
      "  df[\"Time\"][index] = to_number(df[\"Time\"][index], df[\"Time\"][index - 1])\n",
      "C:\\Users\\moria\\AppData\\Local\\Temp\\ipykernel_44508\\2886399278.py:14: SettingWithCopyWarning: \n",
      "A value is trying to be set on a copy of a slice from a DataFrame\n",
      "\n",
      "See the caveats in the documentation: https://pandas.pydata.org/pandas-docs/stable/user_guide/indexing.html#returning-a-view-versus-a-copy\n",
      "  df[\"Y\"][index] = col_Y_ToNum(df[\"Y\"][index], df[\"Y\"][index - 1])\n",
      "C:\\Users\\moria\\AppData\\Local\\Temp\\ipykernel_44508\\2886399278.py:15: SettingWithCopyWarning: \n",
      "A value is trying to be set on a copy of a slice from a DataFrame\n",
      "\n",
      "See the caveats in the documentation: https://pandas.pydata.org/pandas-docs/stable/user_guide/indexing.html#returning-a-view-versus-a-copy\n",
      "  df[\"X\"][index] = col_X_ToNum(df[\"X\"][index], df[\"X\"][index - 1])\n"
     ]
    },
    {
     "data": {
      "text/plain": [
       "0       608.35108\n",
       "1        608.8777\n",
       "2        608.8777\n",
       "3      609.035685\n",
       "4      608.719714\n",
       "          ...    \n",
       "500     686.13281\n",
       "501     686.13281\n",
       "502    686.448782\n",
       "503    686.448782\n",
       "504    686.448782\n",
       "Name: X, Length: 505, dtype: object"
      ]
     },
     "execution_count": 12,
     "metadata": {},
     "output_type": "execute_result"
    }
   ],
   "source": [
    "df[\"Time\"] = df[\" Time\"]\n",
    "df[\"Time\"][0] = to_number(df[\"Time\"][0], 0)\n",
    "df[\"Y\"] = df[\" Y\"]\n",
    "df[\"Y\"][0] = col_Y_ToNum(df[\"Y\"][0], 0)\n",
    "df[\"X\"][0] = col_X_ToNum(df[\"X\"][0], 0)\n",
    "\n",
    "\n",
    "flag_first = True\n",
    "for index in df.index:\n",
    "    if flag_first:\n",
    "        flag_first = False\n",
    "    else:\n",
    "        df[\"Time\"][index] = to_number(df[\"Time\"][index], df[\"Time\"][index - 1])\n",
    "        df[\"Y\"][index] = col_Y_ToNum(df[\"Y\"][index], df[\"Y\"][index - 1])\n",
    "        df[\"X\"][index] = col_X_ToNum(df[\"X\"][index], df[\"X\"][index - 1])\n",
    "\n",
    "df[\"X\"]"
   ]
  },
  {
   "cell_type": "code",
   "execution_count": 13,
   "id": "aa4e49b8",
   "metadata": {},
   "outputs": [
    {
     "data": {
      "text/plain": [
       "0      833.323017\n",
       "1      833.165031\n",
       "2      833.165031\n",
       "3      833.323017\n",
       "4      833.586326\n",
       "          ...    \n",
       "500    654.061670\n",
       "501    654.061670\n",
       "502    653.903684\n",
       "503           NaN\n",
       "504           NaN\n",
       "Name: Y, Length: 505, dtype: float64"
      ]
     },
     "execution_count": 13,
     "metadata": {},
     "output_type": "execute_result"
    }
   ],
   "source": [
    "df[\"Y\"]"
   ]
  },
  {
   "cell_type": "code",
   "execution_count": 14,
   "id": "a4d8e3eb",
   "metadata": {},
   "outputs": [
    {
     "data": {
      "text/plain": [
       "0       2.727287\n",
       "1       2.742911\n",
       "2       2.758575\n",
       "3       2.774148\n",
       "4       2.789867\n",
       "         ...    \n",
       "500    16.473359\n",
       "501    16.489129\n",
       "502    16.504605\n",
       "503          NaN\n",
       "504          NaN\n",
       "Name: Time, Length: 505, dtype: object"
      ]
     },
     "execution_count": 14,
     "metadata": {},
     "output_type": "execute_result"
    }
   ],
   "source": [
    "df[\"Time\"]"
   ]
  },
  {
   "cell_type": "code",
   "execution_count": 15,
   "id": "8f254a14-7f40-4ee7-ac00-186470773ad0",
   "metadata": {},
   "outputs": [
    {
     "name": "stderr",
     "output_type": "stream",
     "text": [
      "C:\\Users\\moria\\AppData\\Local\\Temp\\ipykernel_44508\\2845424429.py:2: SettingWithCopyWarning: \n",
      "A value is trying to be set on a copy of a slice from a DataFrame\n",
      "\n",
      "See the caveats in the documentation: https://pandas.pydata.org/pandas-docs/stable/user_guide/indexing.html#returning-a-view-versus-a-copy\n",
      "  df[\"TimeDiff\"][0] = 0\n",
      "C:\\Users\\moria\\AppData\\Local\\Temp\\ipykernel_44508\\2845424429.py:8: SettingWithCopyWarning: \n",
      "A value is trying to be set on a copy of a slice from a DataFrame\n",
      "\n",
      "See the caveats in the documentation: https://pandas.pydata.org/pandas-docs/stable/user_guide/indexing.html#returning-a-view-versus-a-copy\n",
      "  df[\"TimeDiff\"][index] = df[\"Time\"][index] - df[\"Time\"][index - 1]\n",
      "c:\\Users\\moria\\anaconda3\\lib\\site-packages\\pandas\\core\\indexing.py:1637: SettingWithCopyWarning: \n",
      "A value is trying to be set on a copy of a slice from a DataFrame\n",
      "\n",
      "See the caveats in the documentation: https://pandas.pydata.org/pandas-docs/stable/user_guide/indexing.html#returning-a-view-versus-a-copy\n",
      "  self._setitem_single_block(indexer, value, name)\n"
     ]
    },
    {
     "data": {
      "text/plain": [
       "[<matplotlib.lines.Line2D at 0x21311965190>]"
      ]
     },
     "execution_count": 15,
     "metadata": {},
     "output_type": "execute_result"
    },
    {
     "data": {
      "image/png": "[encoded data removed]",
      "text/plain": [
       "<Figure size 432x288 with 1 Axes>"
      ]
     },
     "metadata": {
      "needs_background": "light"
     },
     "output_type": "display_data"
    }
   ],
   "source": [
    "df[\"TimeDiff\"] = np.full(len(df.index), 0)\n",
    "df[\"TimeDiff\"][0] = 0\n",
    "flag_first = True\n",
    "for index in df.index:\n",
    "    if flag_first:\n",
    "        flag_first = False\n",
    "    else:\n",
    "        df[\"TimeDiff\"][index] = df[\"Time\"][index] - df[\"Time\"][index - 1]\n",
    "        \n",
    "\n",
    "plt.plot(df[\"TimeDiff\"])"
   ]
  },
  {
   "cell_type": "markdown",
   "id": "9c336dc5",
   "metadata": {},
   "source": [
    "## Q.1.\n",
    "\n",
    "Counting lines"
   ]
  },
  {
   "cell_type": "markdown",
   "id": "21c987e7",
   "metadata": {},
   "source": [
    "* First try using slopes"
   ]
  },
  {
   "cell_type": "code",
   "execution_count": 22,
   "id": "d42f9faa",
   "metadata": {},
   "outputs": [],
   "source": [
    "def calculate_slope(df, up_i):\n",
    "    if (df['X'][up_i]-df['X'][0]) == 0:\n",
    "        slp = 0\n",
    "    else:\n",
    "        slp = (df['Y'][up_i]-df['Y'][0])/(df['X'][up_i]-df['X'][0])\n",
    "    return slp"
   ]
  },
  {
   "cell_type": "code",
   "execution_count": 29,
   "id": "a7214b99",
   "metadata": {},
   "outputs": [],
   "source": [
    "UP_I = 5\n",
    "\n",
    "def lines_cords(df):\n",
    "    slp = calculate_slope(df, UP_I)\n",
    "    lines = []\n",
    "    prev = 0\n",
    "    i = 0\n",
    "    current_slp = slp\n",
    "    while (i+UP_I)<len(df):\n",
    "        if (df['Y'][i]!= df['Y'][i+UP_I]) & (df['X'][i]!= df['X'][i+UP_I]):\n",
    "            current_slp = (df['Y'][i+UP_I]-df['Y'][i])/(df['X'][i+UP_I]-df['X'][i])    \n",
    "        if (current_slp<=slp+0.5) & (current_slp>=slp-0.5) :\n",
    "            slp = current_slp\n",
    "        else:\n",
    "            if i-prev>60:\n",
    "                lines.append({ 'start' : prev, 'end' : i })\n",
    "                prev = i                    \n",
    "        slp = current_slp\n",
    "        i+=1\n",
    "    \n",
    "    return lines"
   ]
  },
  {
   "cell_type": "code",
   "execution_count": 30,
   "id": "eed18ce0",
   "metadata": {},
   "outputs": [
    {
     "name": "stdout",
     "output_type": "stream",
     "text": [
      "num of lines:  6\n"
     ]
    }
   ],
   "source": [
    "lines = lines_cords(df)\n",
    "print(\"num of lines: \",len(lines))"
   ]
  },
  {
   "cell_type": "markdown",
   "id": "693f1b88",
   "metadata": {},
   "source": [
    "* Second try using time difference"
   ]
  },
  {
   "cell_type": "code",
   "execution_count": 106,
   "id": "29d293ce",
   "metadata": {},
   "outputs": [],
   "source": [
    "# def Count_lines_time(df):\n",
    "#     if (df['X'][1]-df['X'][0]) ==0:\n",
    "#         slp = 0\n",
    "#     else:\n",
    "#         slp = (df['Y'][1]-df['Y'][0])/(df['X'][1]-df['X'][0])\n",
    "    \n",
    "#     numOfLines = 0\n",
    "#     prev = 0\n",
    "#     i = 0\n",
    "#     current_slp = slp\n",
    "#     while (i+1)<len(df):\n",
    "#         if (df['Y'][i]!= df['Y'][i+1]) & (df['X'][i]!= df['X'][i+1]):\n",
    "#             current_slp = (df['Y'][i+1]-df['Y'][i])/(df['X'][i+1]-df['X'][i])    \n",
    "#         if (current_slp<=slp+0.5) & (current_slp>=slp-0.5) :\n",
    "#             slp = current_slp\n",
    "#         else:\n",
    "#             if i-prev>60:\n",
    "#                 print(\"current_slp:   \", current_slp)\n",
    "#                 print(\"slp:   \", slp)\n",
    "#                 numOfLines +=1\n",
    "#                 prev = i                    \n",
    "#         slp = current_slp\n",
    "#         i+=1\n",
    "    \n",
    "#     return numOfLines"
   ]
  },
  {
   "cell_type": "markdown",
   "id": "6b6f2423",
   "metadata": {},
   "source": [
    "## Q.2.\n",
    "\n",
    "Compute the length of each line and the avarage pressure applied by clicking on each line"
   ]
  },
  {
   "cell_type": "code",
   "execution_count": 83,
   "id": "97af6a0c",
   "metadata": {},
   "outputs": [],
   "source": [
    "def avg_pressure(df, start, end):\n",
    "    sum_pressures = 0\n",
    "    for j in range(start, end):\n",
    "        sum_pressures += float(df[\" Pressure\"][j])\n",
    "    return sum_pressures/(end - start)\n"
   ]
  },
  {
   "cell_type": "code",
   "execution_count": 86,
   "id": "58971690",
   "metadata": {},
   "outputs": [],
   "source": [
    "def Lengths_of_lines(df):\n",
    "    for i in lines:\n",
    "        start = i['start']\n",
    "        end = i['end']\n",
    "        avg_pressure_data = avg_pressure(df, start, end)\n",
    "        dist = math.dist([df['X'][start] , df['Y'][start]],[df['X'][end], df['Y'][end]])\n",
    "        print(\"Length is \" , dist , \", Avarage pressure is \" , avg_pressure_data )\n",
    "        print('-------------------')\n"
   ]
  },
  {
   "cell_type": "code",
   "execution_count": 87,
   "id": "4e3bade3",
   "metadata": {},
   "outputs": [
    {
     "name": "stdout",
     "output_type": "stream",
     "text": [
      "sum_pressures:   29.595711939036843\n",
      "Length is  156.14043268247272 , Avarage pressure is  0.485175605557981\n",
      "-------------------\n",
      "sum_pressures:   36.90051168203354\n",
      "Length is  131.89118683068415 , Avarage pressure is  0.6049264210169433\n",
      "-------------------\n",
      "sum_pressures:   86.53632462024689\n",
      "Length is  101.86307579205834 , Avarage pressure is  0.6270748160887456\n",
      "-------------------\n",
      "sum_pressures:   38.41493934392929\n",
      "Length is  99.61224300434327 , Avarage pressure is  0.6297531039988409\n",
      "-------------------\n",
      "sum_pressures:   23.720103725790977\n",
      "Length is  42.87738778272278 , Avarage pressure is  0.30025447754165796\n",
      "-------------------\n",
      "sum_pressures:   24.52228592336178\n",
      "Length is  40.99946612468629 , Avarage pressure is  0.3606218518141438\n",
      "-------------------\n"
     ]
    }
   ],
   "source": [
    "Lengths_of_lines(df)"
   ]
  },
  {
   "cell_type": "code",
   "execution_count": 117,
   "id": "6403c66e",
   "metadata": {},
   "outputs": [
    {
     "data": {
      "text/plain": [
       "<AxesSubplot:>"
      ]
     },
     "execution_count": 117,
     "metadata": {},
     "output_type": "execute_result"
    },
    {
     "data": {
      "image/png": "[encoded data removed]",
      "text/plain": [
       "<Figure size 432x288 with 1 Axes>"
      ]
     },
     "metadata": {
      "needs_background": "light"
     },
     "output_type": "display_data"
    }
   ],
   "source": [
    "pd.DataFrame({ 'Time':df['Time']}).plot()"
   ]
  },
  {
   "cell_type": "code",
   "execution_count": 119,
   "id": "84983492",
   "metadata": {},
   "outputs": [
    {
     "data": {
      "text/plain": [
       "<AxesSubplot:>"
      ]
     },
     "execution_count": 119,
     "metadata": {},
     "output_type": "execute_result"
    },
    {
     "data": {
      "image/png": "[encoded data removed]",
      "text/plain": [
       "<Figure size 432x288 with 1 Axes>"
      ]
     },
     "metadata": {
      "needs_background": "light"
     },
     "output_type": "display_data"
    }
   ],
   "source": [
    "pd.DataFrame({ 'TiltX':df[' TiltX'], 'TiltY':df[' TiltY']}).plot()"
   ]
  },
  {
   "cell_type": "code",
   "execution_count": 116,
   "id": "dbe66609",
   "metadata": {},
   "outputs": [
    {
     "data": {
      "text/plain": [
       "<AxesSubplot:>"
      ]
     },
     "execution_count": 116,
     "metadata": {},
     "output_type": "execute_result"
    },
    {
     "data": {
      "image/png": "[encoded data removed]",
      "text/plain": [
       "<Figure size 432x288 with 1 Axes>"
      ]
     },
     "metadata": {
      "needs_background": "light"
     },
     "output_type": "display_data"
    }
   ],
   "source": [
    "pd.DataFrame({ 'X':df['X'],  'Y':df['Y']}).plot()"
   ]
  },
  {
   "cell_type": "markdown",
   "id": "b580bfe3",
   "metadata": {},
   "source": [
    "## Q.3.\n",
    "\n",
    "Count how many hand lifts were in the drawing"
   ]
  },
  {
   "cell_type": "code",
   "execution_count": 114,
   "id": "8a22886a",
   "metadata": {},
   "outputs": [
    {
     "data": {
      "text/plain": [
       "<AxesSubplot:>"
      ]
     },
     "execution_count": 114,
     "metadata": {},
     "output_type": "execute_result"
    },
    {
     "data": {
      "image/png": "[encoded data removed]",
      "text/plain": [
       "<Figure size 432x288 with 1 Axes>"
      ]
     },
     "metadata": {
      "needs_background": "light"
     },
     "output_type": "display_data"
    }
   ],
   "source": [
    "pd.DataFrame({ 'pressure':df[' Pressure']}).plot()"
   ]
  },
  {
   "cell_type": "markdown",
   "id": "fc0a5225",
   "metadata": {},
   "source": [
    "## Q.4.\n",
    "\n",
    "(bonus)\n",
    "4. לבדוק האם הצורה פתוחה או סגורה )בונוס - רק לגבי צורות מסוימות("
   ]
  },
  {
   "cell_type": "code",
   "execution_count": null,
   "id": "cb60ddf3",
   "metadata": {},
   "outputs": [],
   "source": []
  }
 ],
 "metadata": {
  "interpreter": {
   "hash": "e8446a84462e6194ca1a866efc9c22d3286fe5985d229b8f6a8c76f6fd8d9795"
  },
  "kernelspec": {
   "display_name": "Python 3.8.8 ('base')",
   "language": "python",
   "name": "python3"
  },
  "language_info": {
   "codemirror_mode": {
    "name": "ipython",
    "version": 3
   },
   "file_extension": ".py",
   "mimetype": "text/x-python",
   "name": "python",
   "nbconvert_exporter": "python",
   "pygments_lexer": "ipython3",
   "version": "3.8.8"
  }
 },
 "nbformat": 4,
 "nbformat_minor": 5
}

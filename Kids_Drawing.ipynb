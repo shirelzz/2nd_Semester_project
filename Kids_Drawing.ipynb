{
 "cells": [
  {
   "cell_type": "code",
   "execution_count": 2,
   "id": "54a9a630-ea57-4d01-bf8b-537174f193a5",
   "metadata": {},
   "outputs": [],
   "source": [
    "import os\n",
    "import sys\n",
    "import time\n",
    "import numpy as np\n",
    "import pandas as pd\n",
    "import matplotlib.pyplot as plt\n",
    "import matplotlib.image as mpimg\n",
    "import re\n",
    "import math\n"
   ]
  },
  {
   "cell_type": "code",
   "execution_count": 3,
   "id": "71106a95-e1cb-4031-8203-2fd71c2afb72",
   "metadata": {},
   "outputs": [],
   "source": [
    "def load_image_data(folder_id: int, image_id: int):\n",
    "    file_name = './data/kids drawing-train/' + str(folder_id) + '/SimpleTest/' + str(image_id)\n",
    "    \n",
    "    if not os.path.isfile(file_name + '.png'):\n",
    "        print(\"Image not exits\")\n",
    "        return None\n",
    "    \n",
    "    if not os.path.isfile(file_name + '.csv'):\n",
    "        print(\"Data not exits\")\n",
    "        return None\n",
    "    \n",
    "    return (pd.read_csv(file_name + '.csv'), file_name + '.png') "
   ]
  },
  {
   "cell_type": "code",
   "execution_count": 74,
   "id": "d73c0108-8d38-4631-ac3a-4010befa7202",
   "metadata": {},
   "outputs": [
    {
     "data": {
      "text/html": [
       "<div>\n",
       "<style scoped>\n",
       "    .dataframe tbody tr th:only-of-type {\n",
       "        vertical-align: middle;\n",
       "    }\n",
       "\n",
       "    .dataframe tbody tr th {\n",
       "        vertical-align: top;\n",
       "    }\n",
       "\n",
       "    .dataframe thead th {\n",
       "        text-align: right;\n",
       "    }\n",
       "</style>\n",
       "<table border=\"1\" class=\"dataframe\">\n",
       "  <thead>\n",
       "    <tr style=\"text-align: right;\">\n",
       "      <th></th>\n",
       "      <th>X</th>\n",
       "      <th>Y</th>\n",
       "      <th>Pressure</th>\n",
       "      <th>TiltX</th>\n",
       "      <th>TiltY</th>\n",
       "      <th>Time</th>\n",
       "    </tr>\n",
       "  </thead>\n",
       "  <tbody>\n",
       "    <tr>\n",
       "      <th>0</th>\n",
       "      <td>1059.92747430419</td>\n",
       "      <td>842.854833</td>\n",
       "      <td>0.076402</td>\n",
       "      <td>-4257.0</td>\n",
       "      <td>988.0</td>\n",
       "      <td>00:04.5448411</td>\n",
       "    </tr>\n",
       "    <tr>\n",
       "      <th>1</th>\n",
       "      <td>1059.92747430419</td>\n",
       "      <td>842.854833</td>\n",
       "      <td>0.076402</td>\n",
       "      <td>-4257.0</td>\n",
       "      <td>988.0</td>\n",
       "      <td>00:04.5604847</td>\n",
       "    </tr>\n",
       "    <tr>\n",
       "      <th>2</th>\n",
       "      <td>1060.55941794665</td>\n",
       "      <td>842.960157</td>\n",
       "      <td>0.083482</td>\n",
       "      <td>-4257.0</td>\n",
       "      <td>988.0</td>\n",
       "      <td>00:04.5761906</td>\n",
       "    </tr>\n",
       "    <tr>\n",
       "      <th>3</th>\n",
       "      <td>1061.13869961889</td>\n",
       "      <td>842.696847</td>\n",
       "      <td>0.097642</td>\n",
       "      <td>-4257.0</td>\n",
       "      <td>988.0</td>\n",
       "      <td>00:04.5918112</td>\n",
       "    </tr>\n",
       "    <tr>\n",
       "      <th>4</th>\n",
       "      <td>1061.40200946992</td>\n",
       "      <td>842.591523</td>\n",
       "      <td>0.132555</td>\n",
       "      <td>-4257.0</td>\n",
       "      <td>988.0</td>\n",
       "      <td>00:04.6073533</td>\n",
       "    </tr>\n",
       "    <tr>\n",
       "      <th>5</th>\n",
       "      <td>1062.24460099319</td>\n",
       "      <td>843.065481</td>\n",
       "      <td>0.193347</td>\n",
       "      <td>-4257.0</td>\n",
       "      <td>988.0</td>\n",
       "      <td>00:04.6230509</td>\n",
       "    </tr>\n",
       "    <tr>\n",
       "      <th>6</th>\n",
       "      <td>1062.24460099319</td>\n",
       "      <td>843.065481</td>\n",
       "      <td>0.209216</td>\n",
       "      <td>-4257.0</td>\n",
       "      <td>988.0</td>\n",
       "      <td>00:04.6386818</td>\n",
       "    </tr>\n",
       "    <tr>\n",
       "      <th>7</th>\n",
       "      <td>1062.61323478462</td>\n",
       "      <td>843.960734</td>\n",
       "      <td>0.240711</td>\n",
       "      <td>-4257.0</td>\n",
       "      <td>988.0</td>\n",
       "      <td>00:04.6542307</td>\n",
       "    </tr>\n",
       "    <tr>\n",
       "      <th>8</th>\n",
       "      <td>1062.56057281441</td>\n",
       "      <td>845.487932</td>\n",
       "      <td>0.278798</td>\n",
       "      <td>-4257.0</td>\n",
       "      <td>988.0</td>\n",
       "      <td>00:04.6698481</td>\n",
       "    </tr>\n",
       "    <tr>\n",
       "      <th>9</th>\n",
       "      <td>1062.03395311237</td>\n",
       "      <td>846.488509</td>\n",
       "      <td>0.280751</td>\n",
       "      <td>-4257.0</td>\n",
       "      <td>988.0</td>\n",
       "      <td>00:04.7011493</td>\n",
       "    </tr>\n",
       "  </tbody>\n",
       "</table>\n",
       "</div>"
      ],
      "text/plain": [
       "                  X           Y   Pressure   TiltX   TiltY           Time\n",
       "0  1059.92747430419  842.854833   0.076402 -4257.0   988.0  00:04.5448411\n",
       "1  1059.92747430419  842.854833   0.076402 -4257.0   988.0  00:04.5604847\n",
       "2  1060.55941794665  842.960157   0.083482 -4257.0   988.0  00:04.5761906\n",
       "3  1061.13869961889  842.696847   0.097642 -4257.0   988.0  00:04.5918112\n",
       "4  1061.40200946992  842.591523   0.132555 -4257.0   988.0  00:04.6073533\n",
       "5  1062.24460099319  843.065481   0.193347 -4257.0   988.0  00:04.6230509\n",
       "6  1062.24460099319  843.065481   0.209216 -4257.0   988.0  00:04.6386818\n",
       "7  1062.61323478462  843.960734   0.240711 -4257.0   988.0  00:04.6542307\n",
       "8  1062.56057281441  845.487932   0.278798 -4257.0   988.0  00:04.6698481\n",
       "9  1062.03395311237  846.488509   0.280751 -4257.0   988.0  00:04.7011493"
      ]
     },
     "execution_count": 74,
     "metadata": {},
     "output_type": "execute_result"
    }
   ],
   "source": [
    "(df, img) = load_image_data(7554, 9)\n",
    "df.head(10)"
   ]
  },
  {
   "cell_type": "code",
   "execution_count": 75,
   "id": "4ebeebb1",
   "metadata": {},
   "outputs": [],
   "source": [
    "def col_X_ToNum(data_as_str, defualt_value):\n",
    "    if not data_as_str:\n",
    "        return defualt_value\n",
    "    \n",
    "    if type(data_as_str) == float:\n",
    "        return data_as_str\n",
    "    \n",
    "    if re.search(\"^[a-zA-Z]\", data_as_str) is not None:\n",
    "        return defualt_value\n",
    "    return float(data_as_str)\n"
   ]
  },
  {
   "cell_type": "code",
   "execution_count": 76,
   "id": "7e60e2b8",
   "metadata": {},
   "outputs": [],
   "source": [
    "def col_Y_ToNum(data_as_str, defualt_value):\n",
    "    if not data_as_str:\n",
    "        return defualt_value\n",
    "    \n",
    "    if type(data_as_str) == float:\n",
    "        return data_as_str\n",
    "\n",
    "    return float(data_as_str)\n",
    "\n"
   ]
  },
  {
   "cell_type": "code",
   "execution_count": 77,
   "id": "df2f834e",
   "metadata": {},
   "outputs": [
    {
     "data": {
      "text/plain": [
       "<matplotlib.image.AxesImage at 0x14bebef5d60>"
      ]
     },
     "execution_count": 77,
     "metadata": {},
     "output_type": "execute_result"
    },
    {
     "data": {
      "image/png": "[encoded data removed]",
      "text/plain": [
       "<Figure size 432x288 with 1 Axes>"
      ]
     },
     "metadata": {
      "needs_background": "light"
     },
     "output_type": "display_data"
    }
   ],
   "source": [
    "img1 = mpimg.imread('./data/kids drawing-train/' + \"7554\" + '/SimpleTest/' + \"9.png\")\n",
    "plt.imshow(img1)"
   ]
  },
  {
   "cell_type": "code",
   "execution_count": 78,
   "id": "9f7145bb-211a-4010-af9d-09d47a736e3f",
   "metadata": {},
   "outputs": [
    {
     "data": {
      "text/plain": [
       "0.6319436424601008"
      ]
     },
     "execution_count": 78,
     "metadata": {},
     "output_type": "execute_result"
    }
   ],
   "source": [
    "(float(df['X'][0]) + 0.2 * float(df[' Pressure'][0]))\n",
    "(float(df['X'][2])) - (float(df['X'][1]))"
   ]
  },
  {
   "cell_type": "code",
   "execution_count": 79,
   "id": "32ff5d5d-368e-4ba9-bb0c-6d83bbf11bf9",
   "metadata": {},
   "outputs": [],
   "source": [
    "df[' Time'][0]\n",
    "def to_number(date_as_str, defualt_value):\n",
    "    if not date_as_str:\n",
    "        return defualt_value\n",
    "    \n",
    "    if type(date_as_str) == float:\n",
    "        return date_as_str\n",
    "    \n",
    "    (p1, p2) = date_as_str.split(':')\n",
    "    p1 = float(p1)\n",
    "    p2 = float(p2)\n",
    "    return p1 * 60 + p2"
   ]
  },
  {
   "cell_type": "code",
   "execution_count": 80,
   "id": "ada9b7f5-7cc5-4e9a-9874-74eaa10b6022",
   "metadata": {},
   "outputs": [
    {
     "name": "stderr",
     "output_type": "stream",
     "text": [
      "C:\\Users\\moria\\AppData\\Local\\Temp\\ipykernel_31928\\2886399278.py:2: SettingWithCopyWarning: \n",
      "A value is trying to be set on a copy of a slice from a DataFrame\n",
      "\n",
      "See the caveats in the documentation: https://pandas.pydata.org/pandas-docs/stable/user_guide/indexing.html#returning-a-view-versus-a-copy\n",
      "  df[\"Time\"][0] = to_number(df[\"Time\"][0], 0)\n",
      "C:\\Users\\moria\\AppData\\Local\\Temp\\ipykernel_31928\\2886399278.py:4: SettingWithCopyWarning: \n",
      "A value is trying to be set on a copy of a slice from a DataFrame\n",
      "\n",
      "See the caveats in the documentation: https://pandas.pydata.org/pandas-docs/stable/user_guide/indexing.html#returning-a-view-versus-a-copy\n",
      "  df[\"Y\"][0] = col_Y_ToNum(df[\"Y\"][0], 0)\n",
      "C:\\Users\\moria\\AppData\\Local\\Temp\\ipykernel_31928\\2886399278.py:5: SettingWithCopyWarning: \n",
      "A value is trying to be set on a copy of a slice from a DataFrame\n",
      "\n",
      "See the caveats in the documentation: https://pandas.pydata.org/pandas-docs/stable/user_guide/indexing.html#returning-a-view-versus-a-copy\n",
      "  df[\"X\"][0] = col_X_ToNum(df[\"X\"][0], 0)\n",
      "C:\\Users\\moria\\AppData\\Local\\Temp\\ipykernel_31928\\2886399278.py:13: SettingWithCopyWarning: \n",
      "A value is trying to be set on a copy of a slice from a DataFrame\n",
      "\n",
      "See the caveats in the documentation: https://pandas.pydata.org/pandas-docs/stable/user_guide/indexing.html#returning-a-view-versus-a-copy\n",
      "  df[\"Time\"][index] = to_number(df[\"Time\"][index], df[\"Time\"][index - 1])\n",
      "C:\\Users\\moria\\AppData\\Local\\Temp\\ipykernel_31928\\2886399278.py:14: SettingWithCopyWarning: \n",
      "A value is trying to be set on a copy of a slice from a DataFrame\n",
      "\n",
      "See the caveats in the documentation: https://pandas.pydata.org/pandas-docs/stable/user_guide/indexing.html#returning-a-view-versus-a-copy\n",
      "  df[\"Y\"][index] = col_Y_ToNum(df[\"Y\"][index], df[\"Y\"][index - 1])\n",
      "C:\\Users\\moria\\AppData\\Local\\Temp\\ipykernel_31928\\2886399278.py:15: SettingWithCopyWarning: \n",
      "A value is trying to be set on a copy of a slice from a DataFrame\n",
      "\n",
      "See the caveats in the documentation: https://pandas.pydata.org/pandas-docs/stable/user_guide/indexing.html#returning-a-view-versus-a-copy\n",
      "  df[\"X\"][index] = col_X_ToNum(df[\"X\"][index], df[\"X\"][index - 1])\n"
     ]
    },
    {
     "data": {
      "text/plain": [
       "0       1059.927474\n",
       "1       1059.927474\n",
       "2       1060.559418\n",
       "3         1061.1387\n",
       "4       1061.402009\n",
       "           ...     \n",
       "1098     302.490357\n",
       "1099     301.911075\n",
       "1100     301.911075\n",
       "1101     301.911075\n",
       "1102     301.911075\n",
       "Name: X, Length: 1103, dtype: object"
      ]
     },
     "execution_count": 80,
     "metadata": {},
     "output_type": "execute_result"
    }
   ],
   "source": [
    "df[\"Time\"] = df[\" Time\"]\n",
    "df[\"Time\"][0] = to_number(df[\"Time\"][0], 0)\n",
    "df[\"Y\"] = df[\" Y\"]\n",
    "df[\"Y\"][0] = col_Y_ToNum(df[\"Y\"][0], 0)\n",
    "df[\"X\"][0] = col_X_ToNum(df[\"X\"][0], 0)\n",
    "\n",
    "\n",
    "flag_first = True\n",
    "for index in df.index:\n",
    "    if flag_first:\n",
    "        flag_first = False\n",
    "    else:\n",
    "        df[\"Time\"][index] = to_number(df[\"Time\"][index], df[\"Time\"][index - 1])\n",
    "        df[\"Y\"][index] = col_Y_ToNum(df[\"Y\"][index], df[\"Y\"][index - 1])\n",
    "        df[\"X\"][index] = col_X_ToNum(df[\"X\"][index], df[\"X\"][index - 1])\n",
    "\n",
    "df[\"X\"]"
   ]
  },
  {
   "cell_type": "code",
   "execution_count": 81,
   "id": "aa4e49b8",
   "metadata": {},
   "outputs": [
    {
     "data": {
      "text/plain": [
       "0       842.854833\n",
       "1       842.854833\n",
       "2       842.960157\n",
       "3       842.696847\n",
       "4       842.591523\n",
       "           ...    \n",
       "1098    538.257997\n",
       "1099    538.626631\n",
       "1100    538.626631\n",
       "1101           NaN\n",
       "1102           NaN\n",
       "Name: Y, Length: 1103, dtype: float64"
      ]
     },
     "execution_count": 81,
     "metadata": {},
     "output_type": "execute_result"
    }
   ],
   "source": [
    "df[\"Y\"]"
   ]
  },
  {
   "cell_type": "code",
   "execution_count": 82,
   "id": "a4d8e3eb",
   "metadata": {},
   "outputs": [
    {
     "data": {
      "text/plain": [
       "0        4.544841\n",
       "1        4.560485\n",
       "2        4.576191\n",
       "3        4.591811\n",
       "4        4.607353\n",
       "          ...    \n",
       "1098    24.857857\n",
       "1099    24.873481\n",
       "1100    24.873481\n",
       "1101          NaN\n",
       "1102          NaN\n",
       "Name: Time, Length: 1103, dtype: object"
      ]
     },
     "execution_count": 82,
     "metadata": {},
     "output_type": "execute_result"
    }
   ],
   "source": [
    "df[\"Time\"]"
   ]
  },
  {
   "cell_type": "code",
   "execution_count": 83,
   "id": "8f254a14-7f40-4ee7-ac00-186470773ad0",
   "metadata": {},
   "outputs": [
    {
     "name": "stderr",
     "output_type": "stream",
     "text": [
      "C:\\Users\\moria\\AppData\\Local\\Temp\\ipykernel_31928\\2845424429.py:2: SettingWithCopyWarning: \n",
      "A value is trying to be set on a copy of a slice from a DataFrame\n",
      "\n",
      "See the caveats in the documentation: https://pandas.pydata.org/pandas-docs/stable/user_guide/indexing.html#returning-a-view-versus-a-copy\n",
      "  df[\"TimeDiff\"][0] = 0\n",
      "C:\\Users\\moria\\AppData\\Local\\Temp\\ipykernel_31928\\2845424429.py:8: SettingWithCopyWarning: \n",
      "A value is trying to be set on a copy of a slice from a DataFrame\n",
      "\n",
      "See the caveats in the documentation: https://pandas.pydata.org/pandas-docs/stable/user_guide/indexing.html#returning-a-view-versus-a-copy\n",
      "  df[\"TimeDiff\"][index] = df[\"Time\"][index] - df[\"Time\"][index - 1]\n",
      "c:\\Users\\moria\\anaconda3\\lib\\site-packages\\pandas\\core\\indexing.py:1637: SettingWithCopyWarning: \n",
      "A value is trying to be set on a copy of a slice from a DataFrame\n",
      "\n",
      "See the caveats in the documentation: https://pandas.pydata.org/pandas-docs/stable/user_guide/indexing.html#returning-a-view-versus-a-copy\n",
      "  self._setitem_single_block(indexer, value, name)\n"
     ]
    },
    {
     "data": {
      "text/plain": [
       "[<matplotlib.lines.Line2D at 0x14bebf5a5e0>]"
      ]
     },
     "execution_count": 83,
     "metadata": {},
     "output_type": "execute_result"
    },
    {
     "data": {
      "image/png": "[encoded data removed]",
      "text/plain": [
       "<Figure size 432x288 with 1 Axes>"
      ]
     },
     "metadata": {
      "needs_background": "light"
     },
     "output_type": "display_data"
    }
   ],
   "source": [
    "df[\"TimeDiff\"] = np.full(len(df.index), 0)\n",
    "df[\"TimeDiff\"][0] = 0\n",
    "flag_first = True\n",
    "for index in df.index:\n",
    "    if flag_first:\n",
    "        flag_first = False\n",
    "    else:\n",
    "        df[\"TimeDiff\"][index] = df[\"Time\"][index] - df[\"Time\"][index - 1]\n",
    "        \n",
    "\n",
    "plt.plot(df[\"TimeDiff\"])"
   ]
  },
  {
   "cell_type": "markdown",
   "id": "9c336dc5",
   "metadata": {},
   "source": [
    "## Q.1.\n",
    "\n",
    "Counting lines"
   ]
  },
  {
   "cell_type": "code",
   "execution_count": 103,
   "id": "a7214b99",
   "metadata": {},
   "outputs": [],
   "source": [
    "def Count_lines(df):\n",
    "    if (df['X'][1]-df['X'][0]) ==0:\n",
    "        slp = 0\n",
    "    else:\n",
    "        slp = (df['Y'][1]-df['Y'][0])/(df['X'][1]-df['X'][0])\n",
    "    \n",
    "    numOfLines = 0\n",
    "    prev = 0\n",
    "    i = 0\n",
    "    current_slp = slp\n",
    "    while (i+1)<len(df):\n",
    "        if (df['Y'][i]!= df['Y'][i+1]) & (df['X'][i]!= df['X'][i+1]):\n",
    "            current_slp = (df['Y'][i+1]-df['Y'][i])/(df['X'][i+1]-df['X'][i])    \n",
    "        if (current_slp<=slp+0.5) & (current_slp>=slp-0.5) :\n",
    "            slp = current_slp\n",
    "        else:\n",
    "            if i-prev>60:\n",
    "                print(\"current_slp:   \", current_slp)\n",
    "                print(\"slp:   \", slp)\n",
    "                numOfLines +=1\n",
    "                prev = i                    \n",
    "        slp = current_slp\n",
    "        i+=1\n",
    "    \n",
    "    return numOfLines"
   ]
  },
  {
   "cell_type": "markdown",
   "id": "a51e7744",
   "metadata": {},
   "source": [
    "לפעמים מספר הקווים הוא לא בדיוק כמו שיוצא בפונקצייה, כנראה פשוט צריך לשחק current_slp<=slp+0.4"
   ]
  },
  {
   "cell_type": "code",
   "execution_count": 104,
   "id": "eed18ce0",
   "metadata": {},
   "outputs": [
    {
     "name": "stdout",
     "output_type": "stream",
     "text": [
      "current_slp:    -4.000000000341091\n",
      "slp:    0.06455456648209154\n",
      "current_slp:    1.142857142858773\n",
      "slp:    0.10508399319174139\n",
      "current_slp:    -1.4285714285746889\n",
      "slp:    -0.5454545454532074\n",
      "current_slp:    0.20000000000228832\n",
      "slp:    -0.3333333333333333\n",
      "current_slp:    -0.49999999999991007\n",
      "slp:    0.5\n"
     ]
    },
    {
     "data": {
      "text/plain": [
       "5"
      ]
     },
     "execution_count": 104,
     "metadata": {},
     "output_type": "execute_result"
    }
   ],
   "source": [
    "Count_lines(df)"
   ]
  },
  {
   "cell_type": "markdown",
   "id": "6b6f2423",
   "metadata": {},
   "source": [
    "## Q.2.\n",
    "\n",
    "Compute the length of each line and the avarage pressure applied by clicking on each line"
   ]
  },
  {
   "cell_type": "code",
   "execution_count": 105,
   "id": "914be227",
   "metadata": {},
   "outputs": [],
   "source": [
    "def Lengths_of_lines(df):\n",
    "    if (df['X'][1]-df['X'][0]) ==0:\n",
    "        slp = 0\n",
    "    else:\n",
    "        slp = (df['Y'][1]-df['Y'][0])/(df['X'][1]-df['X'][0])\n",
    "    lenOfLine = 0\n",
    "    prev = 0\n",
    "    i = 0\n",
    "    current_slp = slp\n",
    "    sum_pressures = 0\n",
    "    while (i+1)<len(df):\n",
    "        if (df['Y'][i]!= df['Y'][i+1]) & (df['X'][i]!= df['X'][i+1]):\n",
    "            current_slp = (df['Y'][i+1]-df['Y'][i])/(df['X'][i+1]-df['X'][i])\n",
    "        else:\n",
    "            current_slp = slp\n",
    "        if (current_slp<=slp+0.5) & (current_slp>=slp-0.5) :\n",
    "            sum_pressures += float(df[\" Pressure\"][i])\n",
    "            \n",
    "        else:\n",
    "            if i-prev>60:\n",
    "                # print(i)\n",
    "                dist = math.dist([df['X'][i] , df['Y'][i]],[df['X'][prev], df['Y'][prev]])\n",
    "                lenOfLine +=1\n",
    "                avg_pressure = sum_pressures/(i-prev)\n",
    "                print(\"Length is \" , dist , \", Avarage pressure is \" , avg_pressure )\n",
    "                prev = i\n",
    "                sum_pressures =0\n",
    "        slp = current_slp\n",
    "        i+=1\n",
    "    \n",
    "    return "
   ]
  },
  {
   "cell_type": "code",
   "execution_count": 106,
   "id": "4e3bade3",
   "metadata": {},
   "outputs": [
    {
     "name": "stdout",
     "output_type": "stream",
     "text": [
      "184\n",
      "Length is  8.383845198757223 , Avarage pressure is  0.3758401578373235\n",
      "411\n",
      "Length is  11.835829059415724 , Avarage pressure is  0.5651697053651977\n",
      "596\n",
      "Length is  701.7778034277887 , Avarage pressure is  0.48468947362255405\n",
      "789\n",
      "Length is  29.402267876974925 , Avarage pressure is  0.46954232029655435\n",
      "935\n",
      "Length is  46.63677599254006 , Avarage pressure is  0.4821413061390185\n"
     ]
    }
   ],
   "source": [
    "Lengths_of_lines(df)"
   ]
  },
  {
   "cell_type": "markdown",
   "id": "b580bfe3",
   "metadata": {},
   "source": [
    "## Q.3.\n",
    "\n",
    "Count how many hand lifts were in the drawing"
   ]
  },
  {
   "cell_type": "code",
   "execution_count": null,
   "id": "8a22886a",
   "metadata": {},
   "outputs": [],
   "source": []
  },
  {
   "cell_type": "markdown",
   "id": "fc0a5225",
   "metadata": {},
   "source": [
    "## Q.4.\n",
    "\n",
    "(bonus)\n",
    "4. לבדוק האם הצורה פתוחה או סגורה )בונוס - רק לגבי צורות מסוימות("
   ]
  },
  {
   "cell_type": "code",
   "execution_count": null,
   "id": "cb60ddf3",
   "metadata": {},
   "outputs": [],
   "source": []
  }
 ],
 "metadata": {
  "interpreter": {
   "hash": "d4c56b0525cedafd2d798aacf941d17d731bef120cfb2f333d612c9b005b679b"
  },
  "kernelspec": {
   "display_name": "Python 3.9.13 64-bit (windows store)",
   "language": "python",
   "name": "python3"
  },
  "language_info": {
   "codemirror_mode": {
    "name": "ipython",
    "version": 3
   },
   "file_extension": ".py",
   "mimetype": "text/x-python",
   "name": "python",
   "nbconvert_exporter": "python",
   "pygments_lexer": "ipython3",
   "version": "3.9.13"
  }
 },
 "nbformat": 4,
 "nbformat_minor": 5
}

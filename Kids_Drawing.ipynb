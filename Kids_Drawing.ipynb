{
 "cells": [
  {
   "cell_type": "code",
   "execution_count": 1,
   "id": "54a9a630-ea57-4d01-bf8b-537174f193a5",
   "metadata": {},
   "outputs": [],
   "source": [
    "import os\n",
    "import numpy as np\n",
    "import pandas as pd\n",
    "import matplotlib.pyplot as plt\n",
    "import matplotlib.image as mpimg\n",
    "import re\n",
    "import math"
   ]
  },
  {
   "cell_type": "code",
   "execution_count": 2,
   "id": "3ff65162",
   "metadata": {},
   "outputs": [],
   "source": [
    "FILE_NUMBER = 13\n",
    "FOLDER_NUMBER = 7554"
   ]
  },
  {
   "cell_type": "code",
   "execution_count": 3,
   "id": "71106a95-e1cb-4031-8203-2fd71c2afb72",
   "metadata": {},
   "outputs": [],
   "source": [
    "def load_image_data():\n",
    "    file_name = './data/kids drawing-train/' + str(FOLDER_NUMBER) + '/SimpleTest/' + str(FILE_NUMBER)\n",
    "    \n",
    "    if not os.path.isfile(file_name + '.png'):\n",
    "        print(\"Image not exits\")\n",
    "        return None\n",
    "    \n",
    "    if not os.path.isfile(file_name + '.csv'):\n",
    "        print(\"Data not exits\")\n",
    "        return None\n",
    "    \n",
    "    return (pd.read_csv(file_name + '.csv'), file_name + '.png') "
   ]
  },
  {
   "cell_type": "code",
   "execution_count": 4,
   "id": "d73c0108-8d38-4631-ac3a-4010befa7202",
   "metadata": {},
   "outputs": [
    {
     "data": {
      "text/html": [
       "<div>\n",
       "<style scoped>\n",
       "    .dataframe tbody tr th:only-of-type {\n",
       "        vertical-align: middle;\n",
       "    }\n",
       "\n",
       "    .dataframe tbody tr th {\n",
       "        vertical-align: top;\n",
       "    }\n",
       "\n",
       "    .dataframe thead th {\n",
       "        text-align: right;\n",
       "    }\n",
       "</style>\n",
       "<table border=\"1\" class=\"dataframe\">\n",
       "  <thead>\n",
       "    <tr style=\"text-align: right;\">\n",
       "      <th></th>\n",
       "      <th>X</th>\n",
       "      <th>Y</th>\n",
       "      <th>Pressure</th>\n",
       "      <th>TiltX</th>\n",
       "      <th>TiltY</th>\n",
       "      <th>Time</th>\n",
       "    </tr>\n",
       "  </thead>\n",
       "  <tbody>\n",
       "    <tr>\n",
       "      <th>0</th>\n",
       "      <td>713.411710359164</td>\n",
       "      <td>527.672941</td>\n",
       "      <td>0.290761</td>\n",
       "      <td>-4798.0</td>\n",
       "      <td>2043.0</td>\n",
       "      <td>00:13.4325736</td>\n",
       "    </tr>\n",
       "    <tr>\n",
       "      <th>1</th>\n",
       "      <td>713.780344150595</td>\n",
       "      <td>527.462294</td>\n",
       "      <td>0.295644</td>\n",
       "      <td>-4798.0</td>\n",
       "      <td>2043.0</td>\n",
       "      <td>00:13.4481964</td>\n",
       "    </tr>\n",
       "    <tr>\n",
       "      <th>2</th>\n",
       "      <td>714.780921584479</td>\n",
       "      <td>526.777688</td>\n",
       "      <td>0.295644</td>\n",
       "      <td>-4798.0</td>\n",
       "      <td>2043.0</td>\n",
       "      <td>00:13.4638099</td>\n",
       "    </tr>\n",
       "    <tr>\n",
       "      <th>3</th>\n",
       "      <td>716.782076452246</td>\n",
       "      <td>524.934519</td>\n",
       "      <td>0.208728</td>\n",
       "      <td>-4798.0</td>\n",
       "      <td>2043.0</td>\n",
       "      <td>00:13.4794442</td>\n",
       "    </tr>\n",
       "    <tr>\n",
       "      <th>4</th>\n",
       "      <td>717.098048273473</td>\n",
       "      <td>523.775956</td>\n",
       "      <td>0.208728</td>\n",
       "      <td>-4798.0</td>\n",
       "      <td>2043.0</td>\n",
       "      <td>00:13.4950665</td>\n",
       "    </tr>\n",
       "    <tr>\n",
       "      <th>...</th>\n",
       "      <td>...</td>\n",
       "      <td>...</td>\n",
       "      <td>...</td>\n",
       "      <td>...</td>\n",
       "      <td>...</td>\n",
       "      <td>...</td>\n",
       "    </tr>\n",
       "    <tr>\n",
       "      <th>180</th>\n",
       "      <td>647.584247603649</td>\n",
       "      <td>345.199215</td>\n",
       "      <td>0.241443</td>\n",
       "      <td>-3458.0</td>\n",
       "      <td>2600.0</td>\n",
       "      <td>00:16.5711085</td>\n",
       "    </tr>\n",
       "    <tr>\n",
       "      <th>181</th>\n",
       "      <td>644.266543480771</td>\n",
       "      <td>347.200370</td>\n",
       "      <td>0.243397</td>\n",
       "      <td>-3441.0</td>\n",
       "      <td>2627.0</td>\n",
       "      <td>00:16.5711085</td>\n",
       "    </tr>\n",
       "    <tr>\n",
       "      <th>182</th>\n",
       "      <td>643.002656195866</td>\n",
       "      <td>347.884975</td>\n",
       "      <td>0.243397</td>\n",
       "      <td>-3441.0</td>\n",
       "      <td>2627.0</td>\n",
       "      <td>00:16.5867320</td>\n",
       "    </tr>\n",
       "    <tr>\n",
       "      <th>183</th>\n",
       "      <td>639.526966162374</td>\n",
       "      <td>350.149440</td>\n",
       "      <td>0.245350</td>\n",
       "      <td>-3424.0</td>\n",
       "      <td>2655.0</td>\n",
       "      <td>00:16.5867320</td>\n",
       "    </tr>\n",
       "    <tr>\n",
       "      <th>184</th>\n",
       "      <td>638.368402817877</td>\n",
       "      <td>350.834046</td>\n",
       "      <td>0.245350</td>\n",
       "      <td>-3424.0</td>\n",
       "      <td>2655.0</td>\n",
       "      <td>00:16.6023660</td>\n",
       "    </tr>\n",
       "  </tbody>\n",
       "</table>\n",
       "<p>185 rows × 6 columns</p>\n",
       "</div>"
      ],
      "text/plain": [
       "                    X           Y   Pressure   TiltX   TiltY           Time\n",
       "0    713.411710359164  527.672941   0.290761 -4798.0  2043.0  00:13.4325736\n",
       "1    713.780344150595  527.462294   0.295644 -4798.0  2043.0  00:13.4481964\n",
       "2    714.780921584479  526.777688   0.295644 -4798.0  2043.0  00:13.4638099\n",
       "3    716.782076452246  524.934519   0.208728 -4798.0  2043.0  00:13.4794442\n",
       "4    717.098048273473  523.775956   0.208728 -4798.0  2043.0  00:13.4950665\n",
       "..                ...         ...        ...     ...     ...            ...\n",
       "180  647.584247603649  345.199215   0.241443 -3458.0  2600.0  00:16.5711085\n",
       "181  644.266543480771  347.200370   0.243397 -3441.0  2627.0  00:16.5711085\n",
       "182  643.002656195866  347.884975   0.243397 -3441.0  2627.0  00:16.5867320\n",
       "183  639.526966162374  350.149440   0.245350 -3424.0  2655.0  00:16.5867320\n",
       "184  638.368402817877  350.834046   0.245350 -3424.0  2655.0  00:16.6023660\n",
       "\n",
       "[185 rows x 6 columns]"
      ]
     },
     "execution_count": 4,
     "metadata": {},
     "output_type": "execute_result"
    }
   ],
   "source": [
    "(df, img) = load_image_data()\n",
    "df.head(185)"
   ]
  },
  {
   "cell_type": "code",
   "execution_count": 5,
   "id": "4ebeebb1",
   "metadata": {},
   "outputs": [],
   "source": [
    "def col_X_ToNum(data_as_str, defualt_value):\n",
    "    if not data_as_str:\n",
    "        return defualt_value\n",
    "    \n",
    "    if pd.isna(data_as_str):\n",
    "        return defualt_value\n",
    "    \n",
    "    if type(data_as_str) == float:\n",
    "        return data_as_str\n",
    "    \n",
    "    if re.search(\"^[a-zA-Z]\", data_as_str) is not None:\n",
    "        return defualt_value\n",
    "    return float(data_as_str)\n"
   ]
  },
  {
   "cell_type": "code",
   "execution_count": 6,
   "id": "7e60e2b8",
   "metadata": {},
   "outputs": [],
   "source": [
    "def col_Y_ToNum(data_as_str, defualt_value):\n",
    "    if not data_as_str:\n",
    "        return defualt_value\n",
    "        \n",
    "    if pd.isna(data_as_str):\n",
    "        return defualt_value\n",
    "    \n",
    "    if type(data_as_str) == float:\n",
    "        return data_as_str\n",
    "        \n",
    "    return float(data_as_str)\n",
    "\n"
   ]
  },
  {
   "cell_type": "code",
   "execution_count": 7,
   "id": "df2f834e",
   "metadata": {},
   "outputs": [
    {
     "data": {
      "text/plain": [
       "<matplotlib.image.AxesImage at 0x7fbbf8341f10>"
      ]
     },
     "execution_count": 7,
     "metadata": {},
     "output_type": "execute_result"
    },
    {
     "data": {
      "image/png": "[encoded data removed]",
      "text/plain": [
       "<Figure size 432x288 with 1 Axes>"
      ]
     },
     "metadata": {
      "needs_background": "light"
     },
     "output_type": "display_data"
    }
   ],
   "source": [
    "img1 = mpimg.imread('./data/kids drawing-train/' + str(FOLDER_NUMBER) + '/SimpleTest/' + str(FILE_NUMBER)+\".png\")\n",
    "plt.imshow(img1)"
   ]
  },
  {
   "cell_type": "code",
   "execution_count": 8,
   "id": "9f7145bb-211a-4010-af9d-09d47a736e3f",
   "metadata": {},
   "outputs": [
    {
     "data": {
      "text/plain": [
       "1.0005774338839046"
      ]
     },
     "execution_count": 8,
     "metadata": {},
     "output_type": "execute_result"
    }
   ],
   "source": [
    "(float(df['X'][0]) + 0.2 * float(df[' Pressure'][0]))\n",
    "(float(df['X'][2])) - (float(df['X'][1]))"
   ]
  },
  {
   "cell_type": "code",
   "execution_count": 9,
   "id": "32ff5d5d-368e-4ba9-bb0c-6d83bbf11bf9",
   "metadata": {},
   "outputs": [],
   "source": [
    "df[' Time'][0]\n",
    "def to_number(date_as_str, defualt_value):\n",
    "    if not date_as_str:\n",
    "        return defualt_value\n",
    "\n",
    "    if pd.isna(date_as_str):\n",
    "        return defualt_value\n",
    "    \n",
    "    \n",
    "    if type(date_as_str) == float:\n",
    "        return date_as_str\n",
    "    \n",
    "    (p1, p2) = date_as_str.split(':')\n",
    "    p1 = float(p1)\n",
    "    p2 = float(p2)\n",
    "    return p1 * 60 + p2"
   ]
  },
  {
   "cell_type": "code",
   "execution_count": 10,
   "id": "ada9b7f5-7cc5-4e9a-9874-74eaa10b6022",
   "metadata": {},
   "outputs": [
    {
     "name": "stderr",
     "output_type": "stream",
     "text": [
      "/var/folders/dq/qdd4tr0j5v1ctgxtptm2v5_h0000gn/T/ipykernel_3195/3679598216.py:2: SettingWithCopyWarning: \n",
      "A value is trying to be set on a copy of a slice from a DataFrame\n",
      "\n",
      "See the caveats in the documentation: https://pandas.pydata.org/pandas-docs/stable/user_guide/indexing.html#returning-a-view-versus-a-copy\n",
      "  df[\"Time\"][0] = to_number(df[\"Time\"][0], 0)\n",
      "/var/folders/dq/qdd4tr0j5v1ctgxtptm2v5_h0000gn/T/ipykernel_3195/3679598216.py:5: SettingWithCopyWarning: \n",
      "A value is trying to be set on a copy of a slice from a DataFrame\n",
      "\n",
      "See the caveats in the documentation: https://pandas.pydata.org/pandas-docs/stable/user_guide/indexing.html#returning-a-view-versus-a-copy\n",
      "  df[\"Y\"][0] = col_Y_ToNum(df[\"Y\"][0], 0)\n",
      "/var/folders/dq/qdd4tr0j5v1ctgxtptm2v5_h0000gn/T/ipykernel_3195/3679598216.py:6: SettingWithCopyWarning: \n",
      "A value is trying to be set on a copy of a slice from a DataFrame\n",
      "\n",
      "See the caveats in the documentation: https://pandas.pydata.org/pandas-docs/stable/user_guide/indexing.html#returning-a-view-versus-a-copy\n",
      "  df[\"Pressure\"][0] = col_Y_ToNum(df[\"Pressure\"][0], 0)\n",
      "/var/folders/dq/qdd4tr0j5v1ctgxtptm2v5_h0000gn/T/ipykernel_3195/3679598216.py:7: SettingWithCopyWarning: \n",
      "A value is trying to be set on a copy of a slice from a DataFrame\n",
      "\n",
      "See the caveats in the documentation: https://pandas.pydata.org/pandas-docs/stable/user_guide/indexing.html#returning-a-view-versus-a-copy\n",
      "  df[\"X\"][0] = col_X_ToNum(df[\"X\"][0], 0)\n",
      "/var/folders/dq/qdd4tr0j5v1ctgxtptm2v5_h0000gn/T/ipykernel_3195/3679598216.py:14: SettingWithCopyWarning: \n",
      "A value is trying to be set on a copy of a slice from a DataFrame\n",
      "\n",
      "See the caveats in the documentation: https://pandas.pydata.org/pandas-docs/stable/user_guide/indexing.html#returning-a-view-versus-a-copy\n",
      "  df[\"Time\"][index] = to_number(df[\"Time\"][index], df[\"Time\"][index - 1])\n",
      "/var/folders/dq/qdd4tr0j5v1ctgxtptm2v5_h0000gn/T/ipykernel_3195/3679598216.py:15: SettingWithCopyWarning: \n",
      "A value is trying to be set on a copy of a slice from a DataFrame\n",
      "\n",
      "See the caveats in the documentation: https://pandas.pydata.org/pandas-docs/stable/user_guide/indexing.html#returning-a-view-versus-a-copy\n",
      "  df[\"Y\"][index] = col_Y_ToNum(df[\"Y\"][index], df[\"Y\"][index - 1])\n",
      "/var/folders/dq/qdd4tr0j5v1ctgxtptm2v5_h0000gn/T/ipykernel_3195/3679598216.py:16: SettingWithCopyWarning: \n",
      "A value is trying to be set on a copy of a slice from a DataFrame\n",
      "\n",
      "See the caveats in the documentation: https://pandas.pydata.org/pandas-docs/stable/user_guide/indexing.html#returning-a-view-versus-a-copy\n",
      "  df[\"Pressure\"][index] = col_Y_ToNum(df[\"Pressure\"][index], df[\"Pressure\"][index - 1])\n",
      "/var/folders/dq/qdd4tr0j5v1ctgxtptm2v5_h0000gn/T/ipykernel_3195/3679598216.py:17: SettingWithCopyWarning: \n",
      "A value is trying to be set on a copy of a slice from a DataFrame\n",
      "\n",
      "See the caveats in the documentation: https://pandas.pydata.org/pandas-docs/stable/user_guide/indexing.html#returning-a-view-versus-a-copy\n",
      "  df[\"X\"][index] = col_X_ToNum(df[\"X\"][index], df[\"X\"][index - 1])\n"
     ]
    },
    {
     "data": {
      "text/plain": [
       "0        713.41171\n",
       "1       713.780344\n",
       "2       714.780922\n",
       "3       716.782076\n",
       "4       717.098048\n",
       "           ...    \n",
       "1200    372.583439\n",
       "1201    376.480425\n",
       "1202    377.849636\n",
       "1203    377.849636\n",
       "1204    377.849636\n",
       "Name: X, Length: 1205, dtype: object"
      ]
     },
     "execution_count": 10,
     "metadata": {},
     "output_type": "execute_result"
    }
   ],
   "source": [
    "df[\"Time\"] = df[\" Time\"]\n",
    "df[\"Time\"][0] = to_number(df[\"Time\"][0], 0)\n",
    "df[\"Y\"] = df[\" Y\"]\n",
    "df[\"Pressure\"] = df[\" Pressure\"]\n",
    "df[\"Y\"][0] = col_Y_ToNum(df[\"Y\"][0], 0)\n",
    "df[\"Pressure\"][0] = col_Y_ToNum(df[\"Pressure\"][0], 0)\n",
    "df[\"X\"][0] = col_X_ToNum(df[\"X\"][0], 0)\n",
    "\n",
    "flag_first = True\n",
    "for index in df.index:\n",
    "    if flag_first:\n",
    "        flag_first = False\n",
    "    else:\n",
    "        df[\"Time\"][index] = to_number(df[\"Time\"][index], df[\"Time\"][index - 1])\n",
    "        df[\"Y\"][index] = col_Y_ToNum(df[\"Y\"][index], df[\"Y\"][index - 1])\n",
    "        df[\"Pressure\"][index] = col_Y_ToNum(df[\"Pressure\"][index], df[\"Pressure\"][index - 1])\n",
    "        df[\"X\"][index] = col_X_ToNum(df[\"X\"][index], df[\"X\"][index - 1])\n",
    "\n",
    "df[\"X\"]"
   ]
  },
  {
   "cell_type": "code",
   "execution_count": 11,
   "id": "aa4e49b8",
   "metadata": {},
   "outputs": [
    {
     "data": {
      "text/plain": [
       "0       527.672941\n",
       "1       527.462294\n",
       "2       526.777688\n",
       "3       524.934519\n",
       "4       523.775956\n",
       "           ...    \n",
       "1200    294.064442\n",
       "1201    296.118258\n",
       "1202    296.750202\n",
       "1203    296.750202\n",
       "1204    296.750202\n",
       "Name: Y, Length: 1205, dtype: float64"
      ]
     },
     "execution_count": 11,
     "metadata": {},
     "output_type": "execute_result"
    }
   ],
   "source": [
    "df[\"Y\"]"
   ]
  },
  {
   "cell_type": "code",
   "execution_count": 12,
   "id": "a4d8e3eb",
   "metadata": {},
   "outputs": [
    {
     "data": {
      "text/plain": [
       "0       13.432574\n",
       "1       13.448196\n",
       "2        13.46381\n",
       "3       13.479444\n",
       "4       13.495067\n",
       "          ...    \n",
       "1200     35.40898\n",
       "1201     35.40898\n",
       "1202     35.40898\n",
       "1203     35.40898\n",
       "1204     35.40898\n",
       "Name: Time, Length: 1205, dtype: object"
      ]
     },
     "execution_count": 12,
     "metadata": {},
     "output_type": "execute_result"
    }
   ],
   "source": [
    "df[\"Time\"]"
   ]
  },
  {
   "cell_type": "code",
   "execution_count": 13,
   "id": "98447fd2",
   "metadata": {},
   "outputs": [
    {
     "data": {
      "text/plain": [
       "0       0.290761\n",
       "1       0.295644\n",
       "2       0.295644\n",
       "3       0.208728\n",
       "4       0.208728\n",
       "          ...   \n",
       "1200    0.667231\n",
       "1201    0.608392\n",
       "1202    0.558099\n",
       "1203    0.558099\n",
       "1204    0.558099\n",
       "Name: Pressure, Length: 1205, dtype: float64"
      ]
     },
     "execution_count": 13,
     "metadata": {},
     "output_type": "execute_result"
    }
   ],
   "source": [
    "df[\"Pressure\"]"
   ]
  },
  {
   "cell_type": "code",
   "execution_count": 14,
   "id": "8f254a14-7f40-4ee7-ac00-186470773ad0",
   "metadata": {},
   "outputs": [
    {
     "name": "stderr",
     "output_type": "stream",
     "text": [
      "/var/folders/dq/qdd4tr0j5v1ctgxtptm2v5_h0000gn/T/ipykernel_3195/2845424429.py:2: SettingWithCopyWarning: \n",
      "A value is trying to be set on a copy of a slice from a DataFrame\n",
      "\n",
      "See the caveats in the documentation: https://pandas.pydata.org/pandas-docs/stable/user_guide/indexing.html#returning-a-view-versus-a-copy\n",
      "  df[\"TimeDiff\"][0] = 0\n",
      "/var/folders/dq/qdd4tr0j5v1ctgxtptm2v5_h0000gn/T/ipykernel_3195/2845424429.py:8: SettingWithCopyWarning: \n",
      "A value is trying to be set on a copy of a slice from a DataFrame\n",
      "\n",
      "See the caveats in the documentation: https://pandas.pydata.org/pandas-docs/stable/user_guide/indexing.html#returning-a-view-versus-a-copy\n",
      "  df[\"TimeDiff\"][index] = df[\"Time\"][index] - df[\"Time\"][index - 1]\n"
     ]
    },
    {
     "data": {
      "text/plain": [
       "[<matplotlib.lines.Line2D at 0x7fbbe883bf40>]"
      ]
     },
     "execution_count": 14,
     "metadata": {},
     "output_type": "execute_result"
    },
    {
     "data": {
      "image/png": "[encoded data removed]",
      "text/plain": [
       "<Figure size 432x288 with 1 Axes>"
      ]
     },
     "metadata": {
      "needs_background": "light"
     },
     "output_type": "display_data"
    }
   ],
   "source": [
    "df[\"TimeDiff\"] = np.full(len(df.index), 0)\n",
    "df[\"TimeDiff\"][0] = 0\n",
    "flag_first = True\n",
    "for index in df.index:\n",
    "    if flag_first:\n",
    "        flag_first = False\n",
    "    else:\n",
    "        df[\"TimeDiff\"][index] = df[\"Time\"][index] - df[\"Time\"][index - 1]\n",
    "        \n",
    "\n",
    "plt.plot(df[\"TimeDiff\"])"
   ]
  },
  {
   "cell_type": "markdown",
   "id": "9c336dc5",
   "metadata": {},
   "source": [
    "## Q.1.\n",
    "\n",
    "Counting lines"
   ]
  },
  {
   "cell_type": "markdown",
   "id": "21c987e7",
   "metadata": {},
   "source": [
    "* First try using slopes"
   ]
  },
  {
   "cell_type": "code",
   "execution_count": 15,
   "id": "d42f9faa",
   "metadata": {},
   "outputs": [],
   "source": [
    "def calculate_slope(df, up_i):\n",
    "    if (df['X'][up_i]-df['X'][0]) == 0:\n",
    "        slp = 0\n",
    "    else:\n",
    "        slp = (df['Y'][up_i]-df['Y'][0])/(df['X'][up_i]-df['X'][0])\n",
    "    return slp"
   ]
  },
  {
   "cell_type": "code",
   "execution_count": 16,
   "id": "a7214b99",
   "metadata": {},
   "outputs": [],
   "source": [
    "UP_I = 5\n",
    "\n",
    "def lines_cords(df):\n",
    "    slp = calculate_slope(df, UP_I)\n",
    "    lines = []\n",
    "    prev = 0\n",
    "    i = 0\n",
    "    current_slp = slp\n",
    "    while (i+UP_I)<len(df):\n",
    "        if (df['Y'][i]!= df['Y'][i+UP_I]) & (df['X'][i]!= df['X'][i+UP_I]):\n",
    "            current_slp = (df['Y'][i+UP_I]-df['Y'][i])/(df['X'][i+UP_I]-df['X'][i])    \n",
    "        if (current_slp<=slp+0.5) & (current_slp>=slp-0.5) :\n",
    "            slp = current_slp\n",
    "        else:\n",
    "            if i-prev>60:\n",
    "                lines.append({ 'start' : prev, 'end' : i })\n",
    "                prev = i                    \n",
    "        slp = current_slp\n",
    "        i+=1\n",
    "    \n",
    "    return lines"
   ]
  },
  {
   "cell_type": "code",
   "execution_count": 17,
   "id": "eed18ce0",
   "metadata": {},
   "outputs": [
    {
     "name": "stdout",
     "output_type": "stream",
     "text": [
      "number of lines:  10\n"
     ]
    }
   ],
   "source": [
    "lines = lines_cords(df)\n",
    "print(\"number of lines: \",len(lines))"
   ]
  },
  {
   "cell_type": "markdown",
   "id": "693f1b88",
   "metadata": {},
   "source": [
    "* Second try using time difference"
   ]
  },
  {
   "cell_type": "code",
   "execution_count": 18,
   "id": "29d293ce",
   "metadata": {},
   "outputs": [],
   "source": [
    "# def Count_lines_time(df):\n",
    "#     if (df['X'][1]-df['X'][0]) ==0:\n",
    "#         slp = 0\n",
    "#     else:\n",
    "#         slp = (df['Y'][1]-df['Y'][0])/(df['X'][1]-df['X'][0])\n",
    "    \n",
    "#     numOfLines = 0\n",
    "#     prev = 0\n",
    "#     i = 0\n",
    "#     current_slp = slp\n",
    "#     while (i+1)<len(df):\n",
    "#         if (df['Y'][i]!= df['Y'][i+1]) & (df['X'][i]!= df['X'][i+1]):\n",
    "#             current_slp = (df['Y'][i+1]-df['Y'][i])/(df['X'][i+1]-df['X'][i])    \n",
    "#         if (current_slp<=slp+0.5) & (current_slp>=slp-0.5) :\n",
    "#             slp = current_slp\n",
    "#         else:\n",
    "#             if i-prev>60:\n",
    "#                 print(\"current_slp:   \", current_slp)\n",
    "#                 print(\"slp:   \", slp)\n",
    "#                 numOfLines +=1\n",
    "#                 prev = i                    \n",
    "#         slp = current_slp\n",
    "#         i+=1\n",
    "    \n",
    "#     return numOfLines"
   ]
  },
  {
   "cell_type": "markdown",
   "id": "6b6f2423",
   "metadata": {},
   "source": [
    "## Q.2.\n",
    "\n",
    "Compute the length of each line and the avarage pressure applied by clicking on each line"
   ]
  },
  {
   "cell_type": "code",
   "execution_count": 19,
   "id": "97af6a0c",
   "metadata": {},
   "outputs": [],
   "source": [
    "def avg_pressure(df, start, end):\n",
    "    sum_pressures = 0\n",
    "    for j in range(start, end):\n",
    "        sum_pressures += float(df[\" Pressure\"][j])\n",
    "    return sum_pressures/(end - start)\n"
   ]
  },
  {
   "cell_type": "code",
   "execution_count": 20,
   "id": "58971690",
   "metadata": {},
   "outputs": [],
   "source": [
    "def Lengths_of_lines(df):\n",
    "    for i in lines:\n",
    "        start = i['start']\n",
    "        end = i['end']\n",
    "        avg_pressure_data = avg_pressure(df, start, end)\n",
    "        dist = math.dist([df['X'][start] , df['Y'][start]],[df['X'][end], df['Y'][end]])\n",
    "        print(\"Length is \" , dist , \", Avarage pressure is \" , avg_pressure_data )\n",
    "        print('-------------------')\n"
   ]
  },
  {
   "cell_type": "code",
   "execution_count": 21,
   "id": "4e3bade3",
   "metadata": {},
   "outputs": [
    {
     "name": "stdout",
     "output_type": "stream",
     "text": [
      "Length is  218.20825901886923 , Avarage pressure is  0.59062106172378\n",
      "-------------------\n",
      "Length is  84.38639947021848 , Avarage pressure is  0.2781604353065898\n",
      "-------------------\n",
      "Length is  329.19012738995343 , Avarage pressure is  0.45774527726009717\n",
      "-------------------\n",
      "Length is  212.1997083141989 , Avarage pressure is  0.5513618728145958\n",
      "-------------------\n",
      "Length is  185.3702548057863 , Avarage pressure is  0.49241189683069947\n",
      "-------------------\n",
      "Length is  277.0611566140725 , Avarage pressure is  0.4701879779879864\n",
      "-------------------\n",
      "Length is  161.59923431575524 , Avarage pressure is  0.5908020695701974\n",
      "-------------------\n",
      "Length is  440.3590453228003 , Avarage pressure is  0.7116802481550667\n",
      "-------------------\n",
      "Length is  280.48406047484826 , Avarage pressure is  0.7503297270183832\n",
      "-------------------\n",
      "Length is  402.17592207869893 , Avarage pressure is  0.7404157839439534\n",
      "-------------------\n"
     ]
    }
   ],
   "source": [
    "Lengths_of_lines(df)"
   ]
  },
  {
   "cell_type": "code",
   "execution_count": 22,
   "id": "6403c66e",
   "metadata": {},
   "outputs": [
    {
     "data": {
      "text/plain": [
       "<AxesSubplot:>"
      ]
     },
     "execution_count": 22,
     "metadata": {},
     "output_type": "execute_result"
    },
    {
     "data": {
      "image/png": "[encoded data removed]",
      "text/plain": [
       "<Figure size 432x288 with 1 Axes>"
      ]
     },
     "metadata": {
      "needs_background": "light"
     },
     "output_type": "display_data"
    }
   ],
   "source": [
    "pd.DataFrame({ 'Time':df['Time']}).plot()"
   ]
  },
  {
   "cell_type": "markdown",
   "id": "b580bfe3",
   "metadata": {},
   "source": [
    "## Q.3.\n",
    "\n",
    "Count how many hand lifts were in the drawing"
   ]
  },
  {
   "cell_type": "code",
   "execution_count": 23,
   "id": "8a22886a",
   "metadata": {},
   "outputs": [
    {
     "data": {
      "text/plain": [
       "<AxesSubplot:>"
      ]
     },
     "execution_count": 23,
     "metadata": {},
     "output_type": "execute_result"
    },
    {
     "data": {
      "image/png": "[encoded data removed]",
      "text/plain": [
       "<Figure size 432x288 with 1 Axes>"
      ]
     },
     "metadata": {
      "needs_background": "light"
     },
     "output_type": "display_data"
    }
   ],
   "source": [
    "pd.DataFrame({ 'pressure':df['Pressure']}).plot()"
   ]
  },
  {
   "cell_type": "code",
   "execution_count": 24,
   "id": "d000f6e7",
   "metadata": {},
   "outputs": [],
   "source": [
    "MIN_PRESSURE = 0.16\n",
    "# math.min(df['Pressure'])\n",
    "def FindPressure(df):\n",
    "    lifts = 0\n",
    "    prev_lift = False\n",
    "    i = 2\n",
    "    while (i)<len(df):\n",
    "        if (df['Pressure'][i] <= MIN_PRESSURE) :\n",
    "            prev_lift = True\n",
    "        else:\n",
    "            if prev_lift:\n",
    "                lifts+=1\n",
    "                prev_lift = False\n",
    "        i+=1\n",
    "    \n",
    "    return lifts"
   ]
  },
  {
   "cell_type": "code",
   "execution_count": 25,
   "id": "a4d74c04",
   "metadata": {},
   "outputs": [
    {
     "name": "stdout",
     "output_type": "stream",
     "text": [
      "There are  4  hands lifts\n"
     ]
    }
   ],
   "source": [
    "print(\"There are \",FindPressure(df),\" hands lifts\")"
   ]
  },
  {
   "cell_type": "markdown",
   "id": "fc0a5225",
   "metadata": {},
   "source": [
    "## Q.4.\n",
    "\n",
    "(bonus)\n",
    "4. לבדוק האם הצורה פתוחה או סגורה )בונוס - רק לגבי צורות מסוימות("
   ]
  },
  {
   "cell_type": "code",
   "execution_count": 26,
   "id": "63b93e6e",
   "metadata": {},
   "outputs": [],
   "source": [
    "def IsOpen(df):\n",
    "    eps = 10\n",
    "    isClosed = False\n",
    "    for i in range(len(df)):\n",
    "        start_x = df[\"X\"][i]\n",
    "        start_y = df[\"Y\"][i]\n",
    "        j=i\n",
    "        while (j<len(df)):\n",
    "            curr_x = df[\"X\"][j]\n",
    "            curr_y = df[\"Y\"][j]\n",
    "            if ((math.dist([start_x , start_y] , [curr_x, curr_y]) < eps) & \n",
    "                (df[\"Time\"][j] - df[\"Time\"][i] > 0.8)):\n",
    "                isClosed = True\n",
    "                print(\"The shape is closed\")\n",
    "                break\n",
    "            j+=1\n",
    "        if(isClosed):\n",
    "            break"
   ]
  },
  {
   "cell_type": "code",
   "execution_count": 27,
   "id": "8dd30fb0",
   "metadata": {
    "scrolled": true
   },
   "outputs": [
    {
     "name": "stdout",
     "output_type": "stream",
     "text": [
      "The shape is closed\n"
     ]
    }
   ],
   "source": [
    "IsOpen(df)"
   ]
  },
  {
   "cell_type": "code",
   "execution_count": null,
   "id": "b063c184",
   "metadata": {},
   "outputs": [],
   "source": []
  },
  {
   "cell_type": "markdown",
   "id": "9d181796",
   "metadata": {},
   "source": []
  }
 ],
 "metadata": {
  "interpreter": {
   "hash": "e8446a84462e6194ca1a866efc9c22d3286fe5985d229b8f6a8c76f6fd8d9795"
  },
  "kernelspec": {
   "display_name": "Python 3 (ipykernel)",
   "language": "python",
   "name": "python3"
  },
  "language_info": {
   "codemirror_mode": {
    "name": "ipython",
    "version": 3
   },
   "file_extension": ".py",
   "mimetype": "text/x-python",
   "name": "python",
   "nbconvert_exporter": "python",
   "pygments_lexer": "ipython3",
   "version": "3.9.7"
  }
 },
 "nbformat": 4,
 "nbformat_minor": 5
}

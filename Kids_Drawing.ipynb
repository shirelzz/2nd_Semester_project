{
 "cells": [
  {
   "cell_type": "code",
   "execution_count": 496,
   "id": "54a9a630-ea57-4d01-bf8b-537174f193a5",
   "metadata": {},
   "outputs": [],
   "source": [
    "import os\n",
    "import numpy as np\n",
    "import pandas as pd\n",
    "import matplotlib.pyplot as plt\n",
    "import matplotlib.image as mpimg\n",
    "import re\n",
    "import math\n",
    "import warnings\n",
    "warnings.filterwarnings(\"ignore\")"
   ]
  },
  {
   "cell_type": "code",
   "execution_count": 497,
   "id": "3ff65162",
   "metadata": {},
   "outputs": [],
   "source": [
    "FILE_NUMBER = 4\n",
    "FOLDER_NUMBER = 7554"
   ]
  },
  {
   "cell_type": "code",
   "execution_count": 498,
   "id": "71106a95-e1cb-4031-8203-2fd71c2afb72",
   "metadata": {},
   "outputs": [],
   "source": [
    "def load_image_data():\n",
    "    file_name = './data/kids drawing-train/' + str(FOLDER_NUMBER) + '/SimpleTest/' + str(FILE_NUMBER)\n",
    "    \n",
    "    if not os.path.isfile(file_name + '.png'):\n",
    "        print(\"Image not exits\")\n",
    "        return None\n",
    "    \n",
    "    if not os.path.isfile(file_name + '.csv'):\n",
    "        print(\"Data not exits\")\n",
    "        return None\n",
    "    \n",
    "    return (pd.read_csv(file_name + '.csv'), file_name + '.png') "
   ]
  },
  {
   "cell_type": "code",
   "execution_count": 499,
   "id": "d73c0108-8d38-4631-ac3a-4010befa7202",
   "metadata": {},
   "outputs": [
    {
     "data": {
      "text/html": [
       "<div>\n",
       "<style scoped>\n",
       "    .dataframe tbody tr th:only-of-type {\n",
       "        vertical-align: middle;\n",
       "    }\n",
       "\n",
       "    .dataframe tbody tr th {\n",
       "        vertical-align: top;\n",
       "    }\n",
       "\n",
       "    .dataframe thead th {\n",
       "        text-align: right;\n",
       "    }\n",
       "</style>\n",
       "<table border=\"1\" class=\"dataframe\">\n",
       "  <thead>\n",
       "    <tr style=\"text-align: right;\">\n",
       "      <th></th>\n",
       "      <th>X</th>\n",
       "      <th>Y</th>\n",
       "      <th>Pressure</th>\n",
       "      <th>TiltX</th>\n",
       "      <th>TiltY</th>\n",
       "      <th>Time</th>\n",
       "    </tr>\n",
       "  </thead>\n",
       "  <tbody>\n",
       "    <tr>\n",
       "      <th>0</th>\n",
       "      <td>847.805058320822</td>\n",
       "      <td>696.243908</td>\n",
       "      <td>0.058579</td>\n",
       "      <td>-4762.0</td>\n",
       "      <td>723.0</td>\n",
       "      <td>00:07.4715108</td>\n",
       "    </tr>\n",
       "    <tr>\n",
       "      <th>1</th>\n",
       "      <td>848.068368171844</td>\n",
       "      <td>696.085922</td>\n",
       "      <td>0.061509</td>\n",
       "      <td>-4762.0</td>\n",
       "      <td>723.0</td>\n",
       "      <td>00:07.4871337</td>\n",
       "    </tr>\n",
       "    <tr>\n",
       "      <th>2</th>\n",
       "      <td>848.437001963275</td>\n",
       "      <td>695.769950</td>\n",
       "      <td>0.065415</td>\n",
       "      <td>-4762.0</td>\n",
       "      <td>723.0</td>\n",
       "      <td>00:07.5028896</td>\n",
       "    </tr>\n",
       "    <tr>\n",
       "      <th>3</th>\n",
       "      <td>848.437001963275</td>\n",
       "      <td>695.769950</td>\n",
       "      <td>0.086412</td>\n",
       "      <td>-4762.0</td>\n",
       "      <td>723.0</td>\n",
       "      <td>00:07.5183749</td>\n",
       "    </tr>\n",
       "    <tr>\n",
       "      <th>4</th>\n",
       "      <td>848.437001963275</td>\n",
       "      <td>695.769950</td>\n",
       "      <td>0.159655</td>\n",
       "      <td>-4762.0</td>\n",
       "      <td>723.0</td>\n",
       "      <td>00:07.5339944</td>\n",
       "    </tr>\n",
       "    <tr>\n",
       "      <th>...</th>\n",
       "      <td>...</td>\n",
       "      <td>...</td>\n",
       "      <td>...</td>\n",
       "      <td>...</td>\n",
       "      <td>...</td>\n",
       "      <td>...</td>\n",
       "    </tr>\n",
       "    <tr>\n",
       "      <th>180</th>\n",
       "      <td>700.562189629287</td>\n",
       "      <td>593.184432</td>\n",
       "      <td>0.760983</td>\n",
       "      <td>-4462.0</td>\n",
       "      <td>1444.0</td>\n",
       "      <td>00:09.5801703</td>\n",
       "    </tr>\n",
       "    <tr>\n",
       "      <th>181</th>\n",
       "      <td>700.930823420718</td>\n",
       "      <td>592.868461</td>\n",
       "      <td>0.760983</td>\n",
       "      <td>-4462.0</td>\n",
       "      <td>1444.0</td>\n",
       "      <td>00:09.5957937</td>\n",
       "    </tr>\n",
       "    <tr>\n",
       "      <th>182</th>\n",
       "      <td>702.089386765215</td>\n",
       "      <td>591.604573</td>\n",
       "      <td>0.760983</td>\n",
       "      <td>-4462.0</td>\n",
       "      <td>1444.0</td>\n",
       "      <td>00:09.5957937</td>\n",
       "    </tr>\n",
       "    <tr>\n",
       "      <th>183</th>\n",
       "      <td>702.510682526851</td>\n",
       "      <td>591.130616</td>\n",
       "      <td>0.760983</td>\n",
       "      <td>-4462.0</td>\n",
       "      <td>1444.0</td>\n",
       "      <td>00:09.6114168</td>\n",
       "    </tr>\n",
       "    <tr>\n",
       "      <th>184</th>\n",
       "      <td>703.985217692574</td>\n",
       "      <td>589.498094</td>\n",
       "      <td>0.760983</td>\n",
       "      <td>-4462.0</td>\n",
       "      <td>1444.0</td>\n",
       "      <td>00:09.6270298</td>\n",
       "    </tr>\n",
       "  </tbody>\n",
       "</table>\n",
       "<p>185 rows × 6 columns</p>\n",
       "</div>"
      ],
      "text/plain": [
       "                    X           Y   Pressure   TiltX   TiltY           Time\n",
       "0    847.805058320822  696.243908   0.058579 -4762.0   723.0  00:07.4715108\n",
       "1    848.068368171844  696.085922   0.061509 -4762.0   723.0  00:07.4871337\n",
       "2    848.437001963275  695.769950   0.065415 -4762.0   723.0  00:07.5028896\n",
       "3    848.437001963275  695.769950   0.086412 -4762.0   723.0  00:07.5183749\n",
       "4    848.437001963275  695.769950   0.159655 -4762.0   723.0  00:07.5339944\n",
       "..                ...         ...        ...     ...     ...            ...\n",
       "180  700.562189629287  593.184432   0.760983 -4462.0  1444.0  00:09.5801703\n",
       "181  700.930823420718  592.868461   0.760983 -4462.0  1444.0  00:09.5957937\n",
       "182  702.089386765215  591.604573   0.760983 -4462.0  1444.0  00:09.5957937\n",
       "183  702.510682526851  591.130616   0.760983 -4462.0  1444.0  00:09.6114168\n",
       "184  703.985217692574  589.498094   0.760983 -4462.0  1444.0  00:09.6270298\n",
       "\n",
       "[185 rows x 6 columns]"
      ]
     },
     "execution_count": 499,
     "metadata": {},
     "output_type": "execute_result"
    }
   ],
   "source": [
    "(df, img) = load_image_data()\n",
    "df.head(185)"
   ]
  },
  {
   "cell_type": "code",
   "execution_count": 500,
   "id": "4ebeebb1",
   "metadata": {},
   "outputs": [],
   "source": [
    "def col_X_ToNum(data_as_str, defualt_value):\n",
    "    if not data_as_str:\n",
    "        return defualt_value\n",
    "    \n",
    "    if pd.isna(data_as_str):\n",
    "        return defualt_value\n",
    "    \n",
    "    if type(data_as_str) == float:\n",
    "        return data_as_str\n",
    "    \n",
    "    if re.search(\"^[a-zA-Z]\", data_as_str) is not None:\n",
    "        return defualt_value\n",
    "    return float(data_as_str)\n"
   ]
  },
  {
   "cell_type": "code",
   "execution_count": 501,
   "id": "7e60e2b8",
   "metadata": {},
   "outputs": [],
   "source": [
    "def col_Y_ToNum(data_as_str, defualt_value):\n",
    "    if not data_as_str:\n",
    "        return defualt_value\n",
    "        \n",
    "    if pd.isna(data_as_str):\n",
    "        return defualt_value\n",
    "    \n",
    "    if type(data_as_str) == float:\n",
    "        return data_as_str\n",
    "        \n",
    "    return float(data_as_str)\n",
    "\n"
   ]
  },
  {
   "cell_type": "code",
   "execution_count": 502,
   "id": "df2f834e",
   "metadata": {},
   "outputs": [
    {
     "data": {
      "text/plain": [
       "<matplotlib.image.AxesImage at 0x20e81e2a8b0>"
      ]
     },
     "execution_count": 502,
     "metadata": {},
     "output_type": "execute_result"
    },
    {
     "data": {
      "image/png": "[encoded data removed]",
      "text/plain": [
       "<Figure size 432x288 with 1 Axes>"
      ]
     },
     "metadata": {
      "needs_background": "light"
     },
     "output_type": "display_data"
    }
   ],
   "source": [
    "img1 = mpimg.imread('./data/kids drawing-train/' + str(FOLDER_NUMBER) + '/SimpleTest/' + str(FILE_NUMBER)+\".png\")\n",
    "plt.imshow(img1)"
   ]
  },
  {
   "cell_type": "code",
   "execution_count": 503,
   "id": "32ff5d5d-368e-4ba9-bb0c-6d83bbf11bf9",
   "metadata": {},
   "outputs": [],
   "source": [
    "def to_number(date_as_str, defualt_value):\n",
    "    if not date_as_str:\n",
    "        return defualt_value\n",
    "\n",
    "    if pd.isna(date_as_str):\n",
    "        return defualt_value\n",
    "    \n",
    "    \n",
    "    if type(date_as_str) == float:\n",
    "        return date_as_str\n",
    "    \n",
    "    (p1, p2) = date_as_str.split(':')\n",
    "    p1 = float(p1)\n",
    "    p2 = float(p2)\n",
    "    return p1 * 60 + p2"
   ]
  },
  {
   "cell_type": "code",
   "execution_count": 504,
   "id": "ada9b7f5-7cc5-4e9a-9874-74eaa10b6022",
   "metadata": {},
   "outputs": [],
   "source": [
    "def changing_columns_type(df):\n",
    "    df[\"Time\"] = df[\" Time\"]\n",
    "    df[\"Time\"][0] = to_number(df[\"Time\"][0], 0)\n",
    "    df[\"Y\"] = df[\" Y\"]\n",
    "    df[\"Pressure\"] = df[\" Pressure\"]\n",
    "    df[\"Y\"][0] = col_Y_ToNum(df[\"Y\"][0], 0)\n",
    "    df[\"Pressure\"][0] = col_Y_ToNum(df[\"Pressure\"][0], 0)\n",
    "    df[\"X\"][0] = col_X_ToNum(df[\"X\"][0], 0)\n",
    "\n",
    "    flag_first = True\n",
    "    for index in df.index:\n",
    "        if flag_first:\n",
    "            flag_first = False\n",
    "        else:\n",
    "            df[\"Time\"][index] = to_number(df[\"Time\"][index], df[\"Time\"][index - 1])\n",
    "            df[\"Y\"][index] = col_Y_ToNum(df[\"Y\"][index], df[\"Y\"][index - 1])\n",
    "            df[\"Pressure\"][index] = col_Y_ToNum(df[\"Pressure\"][index], df[\"Pressure\"][index - 1])\n",
    "            df[\"X\"][index] = col_X_ToNum(df[\"X\"][index], df[\"X\"][index - 1])\n",
    "\n",
    "    df[\"X\"]"
   ]
  },
  {
   "cell_type": "code",
   "execution_count": 505,
   "id": "69c6094a",
   "metadata": {},
   "outputs": [],
   "source": [
    "changing_columns_type(df)"
   ]
  },
  {
   "cell_type": "code",
   "execution_count": 506,
   "id": "aa4e49b8",
   "metadata": {},
   "outputs": [
    {
     "data": {
      "text/plain": [
       "0      696.243908\n",
       "1      696.085922\n",
       "2      695.769950\n",
       "3      695.769950\n",
       "4      695.769950\n",
       "          ...    \n",
       "406    702.510683\n",
       "407    701.931401\n",
       "408    696.191246\n",
       "409    696.191246\n",
       "410    696.191246\n",
       "Name: Y, Length: 411, dtype: float64"
      ]
     },
     "execution_count": 506,
     "metadata": {},
     "output_type": "execute_result"
    }
   ],
   "source": [
    "df[\"Y\"]"
   ]
  },
  {
   "cell_type": "code",
   "execution_count": 507,
   "id": "a4d8e3eb",
   "metadata": {},
   "outputs": [
    {
     "data": {
      "text/plain": [
       "0       7.471511\n",
       "1       7.487134\n",
       "2        7.50289\n",
       "3       7.518375\n",
       "4       7.533994\n",
       "         ...    \n",
       "406    12.039515\n",
       "407    12.055138\n",
       "408    12.055138\n",
       "409    12.055138\n",
       "410    12.055138\n",
       "Name: Time, Length: 411, dtype: object"
      ]
     },
     "execution_count": 507,
     "metadata": {},
     "output_type": "execute_result"
    }
   ],
   "source": [
    "df[\"Time\"]"
   ]
  },
  {
   "cell_type": "code",
   "execution_count": 508,
   "id": "98447fd2",
   "metadata": {},
   "outputs": [
    {
     "data": {
      "text/plain": [
       "0      0.058579\n",
       "1      0.061509\n",
       "2      0.065415\n",
       "3      0.086412\n",
       "4      0.159655\n",
       "         ...   \n",
       "406    0.708492\n",
       "407    0.628656\n",
       "408    0.293935\n",
       "409    0.293935\n",
       "410    0.293935\n",
       "Name: Pressure, Length: 411, dtype: float64"
      ]
     },
     "execution_count": 508,
     "metadata": {},
     "output_type": "execute_result"
    }
   ],
   "source": [
    "df[\"Pressure\"]"
   ]
  },
  {
   "cell_type": "markdown",
   "id": "9c336dc5",
   "metadata": {},
   "source": [
    "## Q.1.\n",
    "\n",
    "Counting lines"
   ]
  },
  {
   "cell_type": "code",
   "execution_count": 509,
   "id": "d42f9faa",
   "metadata": {},
   "outputs": [],
   "source": [
    "def calculate_slope(df, up_i):\n",
    "    if (df['X'][up_i]-df['X'][0]) == 0:\n",
    "        slp = 0\n",
    "    else:\n",
    "        slp = (df['Y'][up_i]-df['Y'][0])/(df['X'][up_i]-df['X'][0])\n",
    "    return slp"
   ]
  },
  {
   "cell_type": "code",
   "execution_count": 510,
   "id": "a7214b99",
   "metadata": {},
   "outputs": [],
   "source": [
    "UP_I = 5\n",
    "\n",
    "def lines_cords(df):\n",
    "    slp = calculate_slope(df, UP_I)\n",
    "    lines = []\n",
    "    prev = 0\n",
    "    i = 0\n",
    "    current_slp = slp\n",
    "    while (i+UP_I)<len(df):\n",
    "        if (df['Y'][i]!= df['Y'][i+UP_I]) & (df['X'][i]!= df['X'][i+UP_I]):\n",
    "            current_slp = (df['Y'][i+UP_I]-df['Y'][i])/(df['X'][i+UP_I]-df['X'][i])    \n",
    "        if (current_slp<=slp+0.5) & (current_slp>=slp-0.5) :\n",
    "            slp = current_slp\n",
    "        else:\n",
    "            if i-prev>60:\n",
    "                lines.append({ 'start' : prev, 'end' : i })\n",
    "                prev = i\n",
    "        if i + UP_I + 1== len(df):\n",
    "            lines.append({ 'start' : prev, 'end' : i })\n",
    "        slp = current_slp\n",
    "        i+=1\n",
    "    \n",
    "    return lines"
   ]
  },
  {
   "cell_type": "code",
   "execution_count": 511,
   "id": "eed18ce0",
   "metadata": {},
   "outputs": [
    {
     "name": "stdout",
     "output_type": "stream",
     "text": [
      "number of lines:  4\n"
     ]
    }
   ],
   "source": [
    "lines = lines_cords(df)\n",
    "print(\"number of lines: \",len(lines))"
   ]
  },
  {
   "cell_type": "markdown",
   "id": "6b6f2423",
   "metadata": {},
   "source": [
    "## Q.2.\n",
    "\n",
    "Compute the length of each line and the avarage pressure applied by clicking on each line"
   ]
  },
  {
   "cell_type": "code",
   "execution_count": 512,
   "id": "97af6a0c",
   "metadata": {},
   "outputs": [],
   "source": [
    "def avg_pressure(df, start, end):\n",
    "    sum_pressures = 0\n",
    "    for j in range(start, end):\n",
    "        sum_pressures += float(df[\" Pressure\"][j])\n",
    "    return sum_pressures/(end - start)\n"
   ]
  },
  {
   "cell_type": "code",
   "execution_count": 513,
   "id": "58971690",
   "metadata": {},
   "outputs": [],
   "source": [
    "def Lengths_of_lines(df, lines):\n",
    "    for i in lines:\n",
    "        start = i['start']\n",
    "        end = i['end']\n",
    "        avg_pressure_data = avg_pressure(df, start, end)\n",
    "        dist = math.dist([df['X'][start] , df['Y'][start]],[df['X'][end], df['Y'][end]])\n",
    "        print(\"Length is \" , dist , \", Avarage pressure is \" , avg_pressure_data )\n",
    "        print('-------------------')\n"
   ]
  },
  {
   "cell_type": "code",
   "execution_count": 514,
   "id": "4e3bade3",
   "metadata": {},
   "outputs": [
    {
     "name": "stdout",
     "output_type": "stream",
     "text": [
      "Length is  195.85711710408103 , Avarage pressure is  0.47441884274910956\n",
      "-------------------\n",
      "Length is  227.6915844705855 , Avarage pressure is  0.7412667758002573\n",
      "-------------------\n",
      "Length is  107.79534834110372 , Avarage pressure is  0.7567961929274387\n",
      "-------------------\n",
      "Length is  40.922010590429664 , Avarage pressure is  0.7433717343542312\n",
      "-------------------\n"
     ]
    }
   ],
   "source": [
    "Lengths_of_lines(df, lines)"
   ]
  },
  {
   "cell_type": "markdown",
   "id": "b580bfe3",
   "metadata": {},
   "source": [
    "## Q.3.\n",
    "\n",
    "Count how many hand lifts were in the drawing"
   ]
  },
  {
   "cell_type": "code",
   "execution_count": 515,
   "id": "8a22886a",
   "metadata": {},
   "outputs": [
    {
     "data": {
      "text/plain": [
       "<AxesSubplot:>"
      ]
     },
     "execution_count": 515,
     "metadata": {},
     "output_type": "execute_result"
    },
    {
     "data": {
      "image/png": "[encoded data removed]",
      "text/plain": [
       "<Figure size 432x288 with 1 Axes>"
      ]
     },
     "metadata": {
      "needs_background": "light"
     },
     "output_type": "display_data"
    }
   ],
   "source": [
    "pd.DataFrame({ 'pressure':df['Pressure']}).plot()"
   ]
  },
  {
   "cell_type": "code",
   "execution_count": 516,
   "id": "d000f6e7",
   "metadata": {},
   "outputs": [],
   "source": [
    "MIN_PRESSURE = 0.16\n",
    "def FindPressure(df):\n",
    "    lifts = 0\n",
    "    prev_lift = False\n",
    "    i = 2\n",
    "    while (i)<len(df):\n",
    "        if (df['Pressure'][i] <= MIN_PRESSURE) :\n",
    "            prev_lift = True\n",
    "        else:\n",
    "            if prev_lift:\n",
    "                lifts+=1\n",
    "                prev_lift = False\n",
    "        i+=1\n",
    "    \n",
    "    return lifts"
   ]
  },
  {
   "cell_type": "code",
   "execution_count": 517,
   "id": "a4d74c04",
   "metadata": {},
   "outputs": [
    {
     "name": "stdout",
     "output_type": "stream",
     "text": [
      "There are  1  hands lifts\n"
     ]
    }
   ],
   "source": [
    "print(\"There are \",FindPressure(df),\" hands lifts\")"
   ]
  },
  {
   "cell_type": "markdown",
   "id": "fc0a5225",
   "metadata": {},
   "source": [
    "## Q.4.\n",
    "\n",
    "(bonus)\n",
    "4. לבדוק האם הצורה פתוחה או סגורה )בונוס - רק לגבי צורות מסוימות("
   ]
  },
  {
   "cell_type": "code",
   "execution_count": 518,
   "id": "63b93e6e",
   "metadata": {},
   "outputs": [],
   "source": [
    "def IsOpen(df):\n",
    "    eps = 10\n",
    "    for i in range(len(df)):\n",
    "        start_x = df[\"X\"][i]\n",
    "        start_y = df[\"Y\"][i]\n",
    "        j=i\n",
    "        while (j<len(df)):\n",
    "            curr_x = df[\"X\"][j]\n",
    "            curr_y = df[\"Y\"][j]\n",
    "            if ((math.dist([start_x , start_y] , [curr_x, curr_y]) < eps) & \n",
    "                (df[\"Time\"][j] - df[\"Time\"][i] > 0.8)):\n",
    "                print(\"The shape is closed\")\n",
    "                return\n",
    "            j+=1\n",
    "    print(\"The shape is opened\")\n"
   ]
  },
  {
   "cell_type": "code",
   "execution_count": 519,
   "id": "8dd30fb0",
   "metadata": {
    "scrolled": true
   },
   "outputs": [
    {
     "name": "stdout",
     "output_type": "stream",
     "text": [
      "The shape is closed\n"
     ]
    }
   ],
   "source": [
    "IsOpen(df)"
   ]
  }
 ],
 "metadata": {
  "interpreter": {
   "hash": "e8446a84462e6194ca1a866efc9c22d3286fe5985d229b8f6a8c76f6fd8d9795"
  },
  "kernelspec": {
   "display_name": "Python 3 (ipykernel)",
   "language": "python",
   "name": "python3"
  },
  "language_info": {
   "codemirror_mode": {
    "name": "ipython",
    "version": 3
   },
   "file_extension": ".py",
   "mimetype": "text/x-python",
   "name": "python",
   "nbconvert_exporter": "python",
   "pygments_lexer": "ipython3",
   "version": "3.8.8"
  }
 },
 "nbformat": 4,
 "nbformat_minor": 5
}

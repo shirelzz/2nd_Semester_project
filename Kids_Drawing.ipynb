{
 "cells": [
  {
   "cell_type": "code",
   "execution_count": 1,
   "id": "54a9a630-ea57-4d01-bf8b-537174f193a5",
   "metadata": {},
   "outputs": [],
   "source": [
    "import os\n",
    "import numpy as np\n",
    "import pandas as pd\n",
    "import matplotlib.pyplot as plt\n",
    "import matplotlib.image as mpimg\n",
    "import re\n",
    "import math\n"
   ]
  },
  {
   "cell_type": "code",
   "execution_count": 289,
   "id": "3ff65162",
   "metadata": {},
   "outputs": [],
   "source": [
    "FILE_NUMBER = 19\n",
    "FOLDER_NUMBER = 7554"
   ]
  },
  {
   "cell_type": "code",
   "execution_count": 290,
   "id": "71106a95-e1cb-4031-8203-2fd71c2afb72",
   "metadata": {},
   "outputs": [],
   "source": [
    "def load_image_data():\n",
    "    file_name = './data/kids drawing-train/' + str(FOLDER_NUMBER) + '/SimpleTest/' + str(FILE_NUMBER)\n",
    "    \n",
    "    if not os.path.isfile(file_name + '.png'):\n",
    "        print(\"Image not exits\")\n",
    "        return None\n",
    "    \n",
    "    if not os.path.isfile(file_name + '.csv'):\n",
    "        print(\"Data not exits\")\n",
    "        return None\n",
    "    \n",
    "    return (pd.read_csv(file_name + '.csv'), file_name + '.png') "
   ]
  },
  {
   "cell_type": "code",
   "execution_count": 291,
   "id": "d73c0108-8d38-4631-ac3a-4010befa7202",
   "metadata": {},
   "outputs": [
    {
     "data": {
      "text/html": [
       "<div>\n",
       "<style scoped>\n",
       "    .dataframe tbody tr th:only-of-type {\n",
       "        vertical-align: middle;\n",
       "    }\n",
       "\n",
       "    .dataframe tbody tr th {\n",
       "        vertical-align: top;\n",
       "    }\n",
       "\n",
       "    .dataframe thead th {\n",
       "        text-align: right;\n",
       "    }\n",
       "</style>\n",
       "<table border=\"1\" class=\"dataframe\">\n",
       "  <thead>\n",
       "    <tr style=\"text-align: right;\">\n",
       "      <th></th>\n",
       "      <th>X</th>\n",
       "      <th>Y</th>\n",
       "      <th>Pressure</th>\n",
       "      <th>TiltX</th>\n",
       "      <th>TiltY</th>\n",
       "      <th>Time</th>\n",
       "    </tr>\n",
       "  </thead>\n",
       "  <tbody>\n",
       "    <tr>\n",
       "      <th>0</th>\n",
       "      <td>395.702044115949</td>\n",
       "      <td>414.660353</td>\n",
       "      <td>0.117174</td>\n",
       "      <td>-1110.0</td>\n",
       "      <td>385.0</td>\n",
       "      <td>00:06.9130198</td>\n",
       "    </tr>\n",
       "    <tr>\n",
       "      <th>1</th>\n",
       "      <td>399.862339762097</td>\n",
       "      <td>417.293452</td>\n",
       "      <td>0.123278</td>\n",
       "      <td>-1110.0</td>\n",
       "      <td>385.0</td>\n",
       "      <td>00:06.9442622</td>\n",
       "    </tr>\n",
       "    <tr>\n",
       "      <th>2</th>\n",
       "      <td>404.759902991108</td>\n",
       "      <td>419.241945</td>\n",
       "      <td>0.127184</td>\n",
       "      <td>-1117.0</td>\n",
       "      <td>362.0</td>\n",
       "      <td>00:06.9598894</td>\n",
       "    </tr>\n",
       "    <tr>\n",
       "      <th>3</th>\n",
       "      <td>411.23732532625</td>\n",
       "      <td>420.505832</td>\n",
       "      <td>0.035874</td>\n",
       "      <td>-1147.0</td>\n",
       "      <td>246.0</td>\n",
       "      <td>00:06.9755032</td>\n",
       "    </tr>\n",
       "    <tr>\n",
       "      <th>4</th>\n",
       "      <td>411.605959117681</td>\n",
       "      <td>420.663818</td>\n",
       "      <td>0.053452</td>\n",
       "      <td>-1147.0</td>\n",
       "      <td>246.0</td>\n",
       "      <td>00:06.9911299</td>\n",
       "    </tr>\n",
       "    <tr>\n",
       "      <th>5</th>\n",
       "      <td>412.18524078993</td>\n",
       "      <td>421.085114</td>\n",
       "      <td>0.118639</td>\n",
       "      <td>-1153.0</td>\n",
       "      <td>214.0</td>\n",
       "      <td>00:07.0068937</td>\n",
       "    </tr>\n",
       "    <tr>\n",
       "      <th>6</th>\n",
       "      <td>412.659198521769</td>\n",
       "      <td>421.664395</td>\n",
       "      <td>0.179187</td>\n",
       "      <td>-1163.0</td>\n",
       "      <td>144.0</td>\n",
       "      <td>00:07.0224902</td>\n",
       "    </tr>\n",
       "    <tr>\n",
       "      <th>7</th>\n",
       "      <td>412.659198521769</td>\n",
       "      <td>421.664395</td>\n",
       "      <td>0.215320</td>\n",
       "      <td>-1165.0</td>\n",
       "      <td>123.0</td>\n",
       "      <td>00:07.0379961</td>\n",
       "    </tr>\n",
       "    <tr>\n",
       "      <th>8</th>\n",
       "      <td>412.659198521769</td>\n",
       "      <td>421.664395</td>\n",
       "      <td>0.249744</td>\n",
       "      <td>-1165.0</td>\n",
       "      <td>123.0</td>\n",
       "      <td>00:07.0537600</td>\n",
       "    </tr>\n",
       "    <tr>\n",
       "      <th>9</th>\n",
       "      <td>411.184663356046</td>\n",
       "      <td>421.611733</td>\n",
       "      <td>0.276356</td>\n",
       "      <td>-1165.0</td>\n",
       "      <td>123.0</td>\n",
       "      <td>00:07.0693355</td>\n",
       "    </tr>\n",
       "  </tbody>\n",
       "</table>\n",
       "</div>"
      ],
      "text/plain": [
       "                  X           Y   Pressure   TiltX   TiltY           Time\n",
       "0  395.702044115949  414.660353   0.117174 -1110.0   385.0  00:06.9130198\n",
       "1  399.862339762097  417.293452   0.123278 -1110.0   385.0  00:06.9442622\n",
       "2  404.759902991108  419.241945   0.127184 -1117.0   362.0  00:06.9598894\n",
       "3   411.23732532625  420.505832   0.035874 -1147.0   246.0  00:06.9755032\n",
       "4  411.605959117681  420.663818   0.053452 -1147.0   246.0  00:06.9911299\n",
       "5   412.18524078993  421.085114   0.118639 -1153.0   214.0  00:07.0068937\n",
       "6  412.659198521769  421.664395   0.179187 -1163.0   144.0  00:07.0224902\n",
       "7  412.659198521769  421.664395   0.215320 -1165.0   123.0  00:07.0379961\n",
       "8  412.659198521769  421.664395   0.249744 -1165.0   123.0  00:07.0537600\n",
       "9  411.184663356046  421.611733   0.276356 -1165.0   123.0  00:07.0693355"
      ]
     },
     "execution_count": 291,
     "metadata": {},
     "output_type": "execute_result"
    }
   ],
   "source": [
    "(df, img) = load_image_data()\n",
    "df.head(10)"
   ]
  },
  {
   "cell_type": "code",
   "execution_count": 292,
   "id": "4ebeebb1",
   "metadata": {},
   "outputs": [],
   "source": [
    "def col_X_ToNum(data_as_str, defualt_value):\n",
    "    if not data_as_str:\n",
    "        return defualt_value\n",
    "    \n",
    "    if pd.isna(data_as_str):\n",
    "        return defualt_value\n",
    "    \n",
    "    if type(data_as_str) == float:\n",
    "        return data_as_str\n",
    "    \n",
    "    if re.search(\"^[a-zA-Z]\", data_as_str) is not None:\n",
    "        return defualt_value\n",
    "    return float(data_as_str)\n"
   ]
  },
  {
   "cell_type": "code",
   "execution_count": 293,
   "id": "7e60e2b8",
   "metadata": {},
   "outputs": [],
   "source": [
    "def col_Y_ToNum(data_as_str, defualt_value):\n",
    "    if not data_as_str:\n",
    "        return defualt_value\n",
    "        \n",
    "    if pd.isna(data_as_str):\n",
    "        return defualt_value\n",
    "    \n",
    "    if type(data_as_str) == float:\n",
    "        return data_as_str\n",
    "        \n",
    "    return float(data_as_str)\n",
    "\n"
   ]
  },
  {
   "cell_type": "code",
   "execution_count": 294,
   "id": "df2f834e",
   "metadata": {},
   "outputs": [
    {
     "data": {
      "text/plain": [
       "<matplotlib.image.AxesImage at 0x1bd4151ba00>"
      ]
     },
     "execution_count": 294,
     "metadata": {},
     "output_type": "execute_result"
    },
    {
     "data": {
      "image/png": "[encoded data removed]",
      "text/plain": [
       "<Figure size 432x288 with 1 Axes>"
      ]
     },
     "metadata": {
      "needs_background": "light"
     },
     "output_type": "display_data"
    }
   ],
   "source": [
    "img1 = mpimg.imread('./data/kids drawing-train/' + str(FOLDER_NUMBER) + '/SimpleTest/' + str(FILE_NUMBER)+\".png\")\n",
    "plt.imshow(img1)"
   ]
  },
  {
   "cell_type": "code",
   "execution_count": 295,
   "id": "9f7145bb-211a-4010-af9d-09d47a736e3f",
   "metadata": {},
   "outputs": [
    {
     "data": {
      "text/plain": [
       "4.897563229010984"
      ]
     },
     "execution_count": 295,
     "metadata": {},
     "output_type": "execute_result"
    }
   ],
   "source": [
    "(float(df['X'][0]) + 0.2 * float(df[' Pressure'][0]))\n",
    "(float(df['X'][2])) - (float(df['X'][1]))"
   ]
  },
  {
   "cell_type": "code",
   "execution_count": 296,
   "id": "32ff5d5d-368e-4ba9-bb0c-6d83bbf11bf9",
   "metadata": {},
   "outputs": [],
   "source": [
    "df[' Time'][0]\n",
    "def to_number(date_as_str, defualt_value):\n",
    "    if not date_as_str:\n",
    "        return defualt_value\n",
    "\n",
    "    if pd.isna(date_as_str):\n",
    "        return defualt_value\n",
    "    \n",
    "    \n",
    "    if type(date_as_str) == float:\n",
    "        return date_as_str\n",
    "    \n",
    "    (p1, p2) = date_as_str.split(':')\n",
    "    p1 = float(p1)\n",
    "    p2 = float(p2)\n",
    "    return p1 * 60 + p2"
   ]
  },
  {
   "cell_type": "code",
   "execution_count": 297,
   "id": "ada9b7f5-7cc5-4e9a-9874-74eaa10b6022",
   "metadata": {},
   "outputs": [
    {
     "name": "stderr",
     "output_type": "stream",
     "text": [
      "C:\\Users\\moria\\AppData\\Local\\Temp\\ipykernel_89604\\3679598216.py:2: SettingWithCopyWarning: \n",
      "A value is trying to be set on a copy of a slice from a DataFrame\n",
      "\n",
      "See the caveats in the documentation: https://pandas.pydata.org/pandas-docs/stable/user_guide/indexing.html#returning-a-view-versus-a-copy\n",
      "  df[\"Time\"][0] = to_number(df[\"Time\"][0], 0)\n",
      "C:\\Users\\moria\\AppData\\Local\\Temp\\ipykernel_89604\\3679598216.py:5: SettingWithCopyWarning: \n",
      "A value is trying to be set on a copy of a slice from a DataFrame\n",
      "\n",
      "See the caveats in the documentation: https://pandas.pydata.org/pandas-docs/stable/user_guide/indexing.html#returning-a-view-versus-a-copy\n",
      "  df[\"Y\"][0] = col_Y_ToNum(df[\"Y\"][0], 0)\n",
      "C:\\Users\\moria\\AppData\\Local\\Temp\\ipykernel_89604\\3679598216.py:6: SettingWithCopyWarning: \n",
      "A value is trying to be set on a copy of a slice from a DataFrame\n",
      "\n",
      "See the caveats in the documentation: https://pandas.pydata.org/pandas-docs/stable/user_guide/indexing.html#returning-a-view-versus-a-copy\n",
      "  df[\"Pressure\"][0] = col_Y_ToNum(df[\"Pressure\"][0], 0)\n",
      "C:\\Users\\moria\\AppData\\Local\\Temp\\ipykernel_89604\\3679598216.py:7: SettingWithCopyWarning: \n",
      "A value is trying to be set on a copy of a slice from a DataFrame\n",
      "\n",
      "See the caveats in the documentation: https://pandas.pydata.org/pandas-docs/stable/user_guide/indexing.html#returning-a-view-versus-a-copy\n",
      "  df[\"X\"][0] = col_X_ToNum(df[\"X\"][0], 0)\n",
      "C:\\Users\\moria\\AppData\\Local\\Temp\\ipykernel_89604\\3679598216.py:14: SettingWithCopyWarning: \n",
      "A value is trying to be set on a copy of a slice from a DataFrame\n",
      "\n",
      "See the caveats in the documentation: https://pandas.pydata.org/pandas-docs/stable/user_guide/indexing.html#returning-a-view-versus-a-copy\n",
      "  df[\"Time\"][index] = to_number(df[\"Time\"][index], df[\"Time\"][index - 1])\n",
      "C:\\Users\\moria\\AppData\\Local\\Temp\\ipykernel_89604\\3679598216.py:15: SettingWithCopyWarning: \n",
      "A value is trying to be set on a copy of a slice from a DataFrame\n",
      "\n",
      "See the caveats in the documentation: https://pandas.pydata.org/pandas-docs/stable/user_guide/indexing.html#returning-a-view-versus-a-copy\n",
      "  df[\"Y\"][index] = col_Y_ToNum(df[\"Y\"][index], df[\"Y\"][index - 1])\n",
      "C:\\Users\\moria\\AppData\\Local\\Temp\\ipykernel_89604\\3679598216.py:16: SettingWithCopyWarning: \n",
      "A value is trying to be set on a copy of a slice from a DataFrame\n",
      "\n",
      "See the caveats in the documentation: https://pandas.pydata.org/pandas-docs/stable/user_guide/indexing.html#returning-a-view-versus-a-copy\n",
      "  df[\"Pressure\"][index] = col_Y_ToNum(df[\"Pressure\"][index], df[\"Pressure\"][index - 1])\n",
      "C:\\Users\\moria\\AppData\\Local\\Temp\\ipykernel_89604\\3679598216.py:17: SettingWithCopyWarning: \n",
      "A value is trying to be set on a copy of a slice from a DataFrame\n",
      "\n",
      "See the caveats in the documentation: https://pandas.pydata.org/pandas-docs/stable/user_guide/indexing.html#returning-a-view-versus-a-copy\n",
      "  df[\"X\"][index] = col_X_ToNum(df[\"X\"][index], df[\"X\"][index - 1])\n"
     ]
    },
    {
     "data": {
      "text/plain": [
       "0      395.702044\n",
       "1       399.86234\n",
       "2      404.759903\n",
       "3      411.237325\n",
       "4      411.605959\n",
       "          ...    \n",
       "874    907.260423\n",
       "875    905.101282\n",
       "876    904.206028\n",
       "877    904.206028\n",
       "878    904.206028\n",
       "Name: X, Length: 879, dtype: object"
      ]
     },
     "execution_count": 297,
     "metadata": {},
     "output_type": "execute_result"
    }
   ],
   "source": [
    "df[\"Time\"] = df[\" Time\"]\n",
    "df[\"Time\"][0] = to_number(df[\"Time\"][0], 0)\n",
    "df[\"Y\"] = df[\" Y\"]\n",
    "df[\"Pressure\"] = df[\" Pressure\"]\n",
    "df[\"Y\"][0] = col_Y_ToNum(df[\"Y\"][0], 0)\n",
    "df[\"Pressure\"][0] = col_Y_ToNum(df[\"Pressure\"][0], 0)\n",
    "df[\"X\"][0] = col_X_ToNum(df[\"X\"][0], 0)\n",
    "\n",
    "flag_first = True\n",
    "for index in df.index:\n",
    "    if flag_first:\n",
    "        flag_first = False\n",
    "    else:\n",
    "        df[\"Time\"][index] = to_number(df[\"Time\"][index], df[\"Time\"][index - 1])\n",
    "        df[\"Y\"][index] = col_Y_ToNum(df[\"Y\"][index], df[\"Y\"][index - 1])\n",
    "        df[\"Pressure\"][index] = col_Y_ToNum(df[\"Pressure\"][index], df[\"Pressure\"][index - 1])\n",
    "        df[\"X\"][index] = col_X_ToNum(df[\"X\"][index], df[\"X\"][index - 1])\n",
    "\n",
    "df[\"X\"]"
   ]
  },
  {
   "cell_type": "code",
   "execution_count": 298,
   "id": "aa4e49b8",
   "metadata": {},
   "outputs": [
    {
     "data": {
      "text/plain": [
       "0      414.660353\n",
       "1      417.293452\n",
       "2      419.241945\n",
       "3      420.505832\n",
       "4      420.663818\n",
       "          ...    \n",
       "874    403.706664\n",
       "875    410.552720\n",
       "876    412.869846\n",
       "877    412.869846\n",
       "878    412.869846\n",
       "Name: Y, Length: 879, dtype: float64"
      ]
     },
     "execution_count": 298,
     "metadata": {},
     "output_type": "execute_result"
    }
   ],
   "source": [
    "df[\"Y\"]"
   ]
  },
  {
   "cell_type": "code",
   "execution_count": 299,
   "id": "a4d8e3eb",
   "metadata": {},
   "outputs": [
    {
     "data": {
      "text/plain": [
       "0        6.91302\n",
       "1       6.944262\n",
       "2       6.959889\n",
       "3       6.975503\n",
       "4        6.99113\n",
       "         ...    \n",
       "874    44.453098\n",
       "875    44.453098\n",
       "876    44.453098\n",
       "877    44.453098\n",
       "878    44.453098\n",
       "Name: Time, Length: 879, dtype: object"
      ]
     },
     "execution_count": 299,
     "metadata": {},
     "output_type": "execute_result"
    }
   ],
   "source": [
    "df[\"Time\"]"
   ]
  },
  {
   "cell_type": "code",
   "execution_count": 300,
   "id": "98447fd2",
   "metadata": {},
   "outputs": [
    {
     "data": {
      "text/plain": [
       "0      0.117174\n",
       "1      0.123278\n",
       "2      0.127184\n",
       "3      0.035874\n",
       "4      0.053452\n",
       "         ...   \n",
       "874    0.463859\n",
       "875    0.288075\n",
       "876    0.161852\n",
       "877    0.161852\n",
       "878    0.161852\n",
       "Name: Pressure, Length: 879, dtype: float64"
      ]
     },
     "execution_count": 300,
     "metadata": {},
     "output_type": "execute_result"
    }
   ],
   "source": [
    "df[\"Pressure\"]"
   ]
  },
  {
   "cell_type": "code",
   "execution_count": 301,
   "id": "8f254a14-7f40-4ee7-ac00-186470773ad0",
   "metadata": {},
   "outputs": [
    {
     "name": "stderr",
     "output_type": "stream",
     "text": [
      "C:\\Users\\moria\\AppData\\Local\\Temp\\ipykernel_89604\\2845424429.py:2: SettingWithCopyWarning: \n",
      "A value is trying to be set on a copy of a slice from a DataFrame\n",
      "\n",
      "See the caveats in the documentation: https://pandas.pydata.org/pandas-docs/stable/user_guide/indexing.html#returning-a-view-versus-a-copy\n",
      "  df[\"TimeDiff\"][0] = 0\n",
      "C:\\Users\\moria\\AppData\\Local\\Temp\\ipykernel_89604\\2845424429.py:8: SettingWithCopyWarning: \n",
      "A value is trying to be set on a copy of a slice from a DataFrame\n",
      "\n",
      "See the caveats in the documentation: https://pandas.pydata.org/pandas-docs/stable/user_guide/indexing.html#returning-a-view-versus-a-copy\n",
      "  df[\"TimeDiff\"][index] = df[\"Time\"][index] - df[\"Time\"][index - 1]\n"
     ]
    },
    {
     "data": {
      "text/plain": [
       "[<matplotlib.lines.Line2D at 0x1bd41587700>]"
      ]
     },
     "execution_count": 301,
     "metadata": {},
     "output_type": "execute_result"
    },
    {
     "data": {
      "image/png": "[encoded data removed]",
      "text/plain": [
       "<Figure size 432x288 with 1 Axes>"
      ]
     },
     "metadata": {
      "needs_background": "light"
     },
     "output_type": "display_data"
    }
   ],
   "source": [
    "df[\"TimeDiff\"] = np.full(len(df.index), 0)\n",
    "df[\"TimeDiff\"][0] = 0\n",
    "flag_first = True\n",
    "for index in df.index:\n",
    "    if flag_first:\n",
    "        flag_first = False\n",
    "    else:\n",
    "        df[\"TimeDiff\"][index] = df[\"Time\"][index] - df[\"Time\"][index - 1]\n",
    "        \n",
    "\n",
    "plt.plot(df[\"TimeDiff\"])"
   ]
  },
  {
   "cell_type": "markdown",
   "id": "9c336dc5",
   "metadata": {},
   "source": [
    "## Q.1.\n",
    "\n",
    "Counting lines"
   ]
  },
  {
   "cell_type": "markdown",
   "id": "21c987e7",
   "metadata": {},
   "source": [
    "* First try using slopes"
   ]
  },
  {
   "cell_type": "code",
   "execution_count": 302,
   "id": "d42f9faa",
   "metadata": {},
   "outputs": [],
   "source": [
    "def calculate_slope(df, up_i):\n",
    "    if (df['X'][up_i]-df['X'][0]) == 0:\n",
    "        slp = 0\n",
    "    else:\n",
    "        slp = (df['Y'][up_i]-df['Y'][0])/(df['X'][up_i]-df['X'][0])\n",
    "    return slp"
   ]
  },
  {
   "cell_type": "code",
   "execution_count": 303,
   "id": "a7214b99",
   "metadata": {},
   "outputs": [],
   "source": [
    "UP_I = 5\n",
    "\n",
    "def lines_cords(df):\n",
    "    slp = calculate_slope(df, UP_I)\n",
    "    lines = []\n",
    "    prev = 0\n",
    "    i = 0\n",
    "    current_slp = slp\n",
    "    while (i+UP_I)<len(df):\n",
    "        if (df['Y'][i]!= df['Y'][i+UP_I]) & (df['X'][i]!= df['X'][i+UP_I]):\n",
    "            current_slp = (df['Y'][i+UP_I]-df['Y'][i])/(df['X'][i+UP_I]-df['X'][i])    \n",
    "        if (current_slp<=slp+0.5) & (current_slp>=slp-0.5) :\n",
    "            slp = current_slp\n",
    "        else:\n",
    "            if i-prev>60:\n",
    "                lines.append({ 'start' : prev, 'end' : i })\n",
    "                prev = i                    \n",
    "        slp = current_slp\n",
    "        i+=1\n",
    "    \n",
    "    return lines"
   ]
  },
  {
   "cell_type": "code",
   "execution_count": 304,
   "id": "eed18ce0",
   "metadata": {},
   "outputs": [
    {
     "name": "stdout",
     "output_type": "stream",
     "text": [
      "num of lines:  13\n"
     ]
    }
   ],
   "source": [
    "lines = lines_cords(df)\n",
    "print(\"num of lines: \",len(lines))"
   ]
  },
  {
   "cell_type": "markdown",
   "id": "693f1b88",
   "metadata": {},
   "source": [
    "* Second try using time difference"
   ]
  },
  {
   "cell_type": "code",
   "execution_count": 282,
   "id": "29d293ce",
   "metadata": {},
   "outputs": [],
   "source": [
    "# def Count_lines_time(df):\n",
    "#     if (df['X'][1]-df['X'][0]) ==0:\n",
    "#         slp = 0\n",
    "#     else:\n",
    "#         slp = (df['Y'][1]-df['Y'][0])/(df['X'][1]-df['X'][0])\n",
    "    \n",
    "#     numOfLines = 0\n",
    "#     prev = 0\n",
    "#     i = 0\n",
    "#     current_slp = slp\n",
    "#     while (i+1)<len(df):\n",
    "#         if (df['Y'][i]!= df['Y'][i+1]) & (df['X'][i]!= df['X'][i+1]):\n",
    "#             current_slp = (df['Y'][i+1]-df['Y'][i])/(df['X'][i+1]-df['X'][i])    \n",
    "#         if (current_slp<=slp+0.5) & (current_slp>=slp-0.5) :\n",
    "#             slp = current_slp\n",
    "#         else:\n",
    "#             if i-prev>60:\n",
    "#                 print(\"current_slp:   \", current_slp)\n",
    "#                 print(\"slp:   \", slp)\n",
    "#                 numOfLines +=1\n",
    "#                 prev = i                    \n",
    "#         slp = current_slp\n",
    "#         i+=1\n",
    "    \n",
    "#     return numOfLines"
   ]
  },
  {
   "cell_type": "markdown",
   "id": "6b6f2423",
   "metadata": {},
   "source": [
    "## Q.2.\n",
    "\n",
    "Compute the length of each line and the avarage pressure applied by clicking on each line"
   ]
  },
  {
   "cell_type": "code",
   "execution_count": 283,
   "id": "97af6a0c",
   "metadata": {},
   "outputs": [],
   "source": [
    "def avg_pressure(df, start, end):\n",
    "    sum_pressures = 0\n",
    "    for j in range(start, end):\n",
    "        sum_pressures += float(df[\" Pressure\"][j])\n",
    "    return sum_pressures/(end - start)\n"
   ]
  },
  {
   "cell_type": "code",
   "execution_count": 305,
   "id": "58971690",
   "metadata": {},
   "outputs": [],
   "source": [
    "def Lengths_of_lines(df):\n",
    "    for i in lines:\n",
    "        start = i['start']\n",
    "        end = i['end']\n",
    "        avg_pressure_data = avg_pressure(df, start, end)\n",
    "        dist = math.dist([df['X'][start] , df['Y'][start]],[df['X'][end], df['Y'][end]])\n",
    "        print(\"Length is \" , dist , \", Avarage pressure is \" , avg_pressure_data )\n",
    "        print('-------------------')\n"
   ]
  },
  {
   "cell_type": "code",
   "execution_count": 306,
   "id": "4e3bade3",
   "metadata": {},
   "outputs": [
    {
     "name": "stdout",
     "output_type": "stream",
     "text": [
      "Length is  178.32839233189617 , Avarage pressure is  0.49130133654653413\n",
      "-------------------\n",
      "Length is  110.10640745871939 , Avarage pressure is  0.556508486335342\n",
      "-------------------\n",
      "Length is  71.74008206561493 , Avarage pressure is  0.5422441399458683\n",
      "-------------------\n",
      "Length is  67.10691121207074 , Avarage pressure is  0.4451412698928861\n",
      "-------------------\n",
      "Length is  124.11304718140168 , Avarage pressure is  0.5041068009421473\n",
      "-------------------\n",
      "Length is  129.51508982726307 , Avarage pressure is  0.36566094712155767\n",
      "-------------------\n",
      "Length is  122.47431953626513 , Avarage pressure is  0.5198721177265292\n",
      "-------------------\n",
      "Length is  50.97812001055912 , Avarage pressure is  0.5757331515921921\n",
      "-------------------\n",
      "Length is  50.989950950770634 , Avarage pressure is  0.5657192302531884\n",
      "-------------------\n",
      "Length is  31.714313442303595 , Avarage pressure is  0.5542188117632995\n",
      "-------------------\n",
      "Length is  86.98533287729654 , Avarage pressure is  0.5804519438352741\n",
      "-------------------\n",
      "Length is  240.82795725841137 , Avarage pressure is  0.6473689247523585\n",
      "-------------------\n",
      "Length is  85.67934239452156 , Avarage pressure is  0.4965463317319996\n",
      "-------------------\n"
     ]
    }
   ],
   "source": [
    "Lengths_of_lines(df)"
   ]
  },
  {
   "cell_type": "code",
   "execution_count": 307,
   "id": "6403c66e",
   "metadata": {},
   "outputs": [
    {
     "data": {
      "text/plain": [
       "<AxesSubplot:>"
      ]
     },
     "execution_count": 307,
     "metadata": {},
     "output_type": "execute_result"
    },
    {
     "data": {
      "image/png": "[encoded data removed]",
      "text/plain": [
       "<Figure size 432x288 with 1 Axes>"
      ]
     },
     "metadata": {
      "needs_background": "light"
     },
     "output_type": "display_data"
    }
   ],
   "source": [
    "pd.DataFrame({ 'Time':df['Time']}).plot()"
   ]
  },
  {
   "cell_type": "code",
   "execution_count": 308,
   "id": "84983492",
   "metadata": {},
   "outputs": [
    {
     "data": {
      "text/plain": [
       "<AxesSubplot:>"
      ]
     },
     "execution_count": 308,
     "metadata": {},
     "output_type": "execute_result"
    },
    {
     "data": {
      "image/png": "[encoded data removed]",
      "text/plain": [
       "<Figure size 432x288 with 1 Axes>"
      ]
     },
     "metadata": {
      "needs_background": "light"
     },
     "output_type": "display_data"
    }
   ],
   "source": [
    "pd.DataFrame({ 'TiltX':df[' TiltX'], 'TiltY':df[' TiltY']}).plot()"
   ]
  },
  {
   "cell_type": "code",
   "execution_count": 309,
   "id": "dbe66609",
   "metadata": {},
   "outputs": [
    {
     "data": {
      "text/plain": [
       "<AxesSubplot:>"
      ]
     },
     "execution_count": 309,
     "metadata": {},
     "output_type": "execute_result"
    },
    {
     "data": {
      "image/png": "[encoded data removed]",
      "text/plain": [
       "<Figure size 432x288 with 1 Axes>"
      ]
     },
     "metadata": {
      "needs_background": "light"
     },
     "output_type": "display_data"
    }
   ],
   "source": [
    "pd.DataFrame({ 'X':df['X'],  'Y':df['Y']}).plot()"
   ]
  },
  {
   "cell_type": "markdown",
   "id": "b580bfe3",
   "metadata": {},
   "source": [
    "## Q.3.\n",
    "\n",
    "Count how many hand lifts were in the drawing"
   ]
  },
  {
   "cell_type": "code",
   "execution_count": 310,
   "id": "8a22886a",
   "metadata": {},
   "outputs": [
    {
     "data": {
      "text/plain": [
       "<AxesSubplot:>"
      ]
     },
     "execution_count": 310,
     "metadata": {},
     "output_type": "execute_result"
    },
    {
     "data": {
      "image/png": "[encoded data removed]",
      "text/plain": [
       "<Figure size 432x288 with 1 Axes>"
      ]
     },
     "metadata": {
      "needs_background": "light"
     },
     "output_type": "display_data"
    }
   ],
   "source": [
    "pd.DataFrame({ 'pressure':df['Pressure']}).plot()"
   ]
  },
  {
   "cell_type": "code",
   "execution_count": 311,
   "id": "d000f6e7",
   "metadata": {},
   "outputs": [],
   "source": [
    "MIN_PRESSURE = 0.16\n",
    "def FindPressure(df):\n",
    "    lifts = 0\n",
    "    prev_lift = False\n",
    "    i = 0\n",
    "    # current_slp = slp\n",
    "    while (i+1)<len(df):\n",
    "        if (df['Pressure'][i] <= MIN_PRESSURE) :\n",
    "            prev_lift = True\n",
    "        else:\n",
    "            if prev_lift:\n",
    "                lifts+=1\n",
    "                prev_lift = False\n",
    "        i+=1\n",
    "    \n",
    "    return lifts"
   ]
  },
  {
   "cell_type": "code",
   "execution_count": 312,
   "id": "a4d74c04",
   "metadata": {},
   "outputs": [
    {
     "name": "stdout",
     "output_type": "stream",
     "text": [
      "There is  3  hands lifts\n"
     ]
    }
   ],
   "source": [
    "print(\"There is \",FindPressure(df),\" hands lifts\")"
   ]
  },
  {
   "cell_type": "markdown",
   "id": "fc0a5225",
   "metadata": {},
   "source": [
    "## Q.4.\n",
    "\n",
    "(bonus)\n",
    "4. לבדוק האם הצורה פתוחה או סגורה )בונוס - רק לגבי צורות מסוימות("
   ]
  },
  {
   "cell_type": "code",
   "execution_count": 313,
   "id": "cb60ddf3",
   "metadata": {},
   "outputs": [],
   "source": [
    "# Not shore its working correctly\n",
    "def IsOpenOrClose(df):\n",
    "    closed = False\n",
    "    i = 10\n",
    "    start_shape_x = df[\"X\"][0]\n",
    "    print(\"shape_x_start:   \", start_shape_x)\n",
    "    start_shape_y = df[\"Y\"][0]\n",
    "    print(\"shape_y_start:   \", start_shape_y)\n",
    "    while (i) < len(df):\n",
    "        if ((start_shape_x <= df[\"X\"][i]+20) & (start_shape_x >= df[\"X\"][i]-20)&\n",
    "                (start_shape_y <= df[\"Y\"][i]+20) & (start_shape_y >= df[\"Y\"][i]-20)) :\n",
    "            closed = True\n",
    "        else:\n",
    "            if closed:\n",
    "               closed = False\n",
    "        i+=1\n",
    "    print(\"shape_x_end:   \", df[\"X\"][len(df)-1])\n",
    "    print(\"shape_y_end:   \", df[\"Y\"][len(df)-1])\n",
    "    return closed"
   ]
  },
  {
   "cell_type": "code",
   "execution_count": 314,
   "id": "68643648",
   "metadata": {},
   "outputs": [
    {
     "name": "stdout",
     "output_type": "stream",
     "text": [
      "shape_x_start:    395.702044115949\n",
      "shape_y_start:    414.660353389537\n",
      "shape_x_end:    904.206028409747\n",
      "shape_y_end:    412.869846402587\n"
     ]
    },
    {
     "data": {
      "text/plain": [
       "False"
      ]
     },
     "execution_count": 314,
     "metadata": {},
     "output_type": "execute_result"
    }
   ],
   "source": [
    "IsOpenOrClose(df)"
   ]
  },
  {
   "cell_type": "code",
   "execution_count": null,
   "id": "63b93e6e",
   "metadata": {},
   "outputs": [],
   "source": []
  }
 ],
 "metadata": {
  "interpreter": {
   "hash": "e8446a84462e6194ca1a866efc9c22d3286fe5985d229b8f6a8c76f6fd8d9795"
  },
  "kernelspec": {
   "display_name": "Python 3.8.8 ('base')",
   "language": "python",
   "name": "python3"
  },
  "language_info": {
   "codemirror_mode": {
    "name": "ipython",
    "version": 3
   },
   "file_extension": ".py",
   "mimetype": "text/x-python",
   "name": "python",
   "nbconvert_exporter": "python",
   "pygments_lexer": "ipython3",
   "version": "3.8.8"
  }
 },
 "nbformat": 4,
 "nbformat_minor": 5
}

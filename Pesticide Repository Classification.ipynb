{
 "cells": [
  {
   "cell_type": "markdown",
   "metadata": {},
   "source": [
    "# Pesticide Repository Classification"
   ]
  },
  {
   "cell_type": "markdown",
   "metadata": {},
   "source": [
    "* The data that I choose as my main project is of the classification type.\n",
    "* I will try to find out the product type"
   ]
  },
  {
   "cell_type": "code",
   "execution_count": 14,
   "metadata": {},
   "outputs": [
    {
     "name": "stdout",
     "output_type": "stream",
     "text": [
      "Collecting package metadata (current_repodata.json): done\n",
      "Solving environment: failed with initial frozen solve. Retrying with flexible solve.\n",
      "Solving environment: failed with repodata from current_repodata.json, will retry with next repodata source.\n",
      "Collecting package metadata (repodata.json): done\n",
      "Solving environment: failed with initial frozen solve. Retrying with flexible solve.\n",
      "Solving environment: | \n",
      "Found conflicts! Looking for incompatible packages.\n",
      "This can take several minutes.  Press CTRL-C to abort.\n",
      "                                                                               failed\n",
      "\n",
      "UnsatisfiableError: The following specifications were found\n",
      "to be incompatible with the existing python installation in your environment:\n",
      "\n",
      "Specifications:\n",
      "\n",
      "  - tensorflow -> python[version='2.7.*|3.7.*|3.6.*|3.5.*']\n",
      "\n",
      "Your python: python=3.8\n",
      "\n",
      "If python is on the left-most side of the chain, that's the version you've asked for.\n",
      "When python appears to the right, that indicates that the thing on the left is somehow\n",
      "not available for the python version you are constrained to. Note that conda will not\n",
      "change your python version to a different minor version unless you explicitly specify\n",
      "that.\n",
      "\n",
      "\n",
      "\n"
     ]
    }
   ],
   "source": [
    "import sys\n",
    "!conda install --yes --prefix {sys.prefix} tensorflow"
   ]
  },
  {
   "cell_type": "code",
   "execution_count": 12,
   "metadata": {},
   "outputs": [
    {
     "ename": "ModuleNotFoundError",
     "evalue": "No module named 'sklearn'",
     "output_type": "error",
     "traceback": [
      "\u001b[0;31m---------------------------------------------------------------------------\u001b[0m",
      "\u001b[0;31mModuleNotFoundError\u001b[0m                       Traceback (most recent call last)",
      "Input \u001b[0;32mIn [12]\u001b[0m, in \u001b[0;36m<cell line: 7>\u001b[0;34m()\u001b[0m\n\u001b[1;32m      5\u001b[0m \u001b[38;5;28;01mfrom\u001b[39;00m \u001b[38;5;21;01mpandas\u001b[39;00m\u001b[38;5;21;01m.\u001b[39;00m\u001b[38;5;21;01mplotting\u001b[39;00m \u001b[38;5;28;01mimport\u001b[39;00m scatter_matrix\n\u001b[1;32m      6\u001b[0m \u001b[38;5;28;01mimport\u001b[39;00m \u001b[38;5;21;01mseaborn\u001b[39;00m \u001b[38;5;28;01mas\u001b[39;00m \u001b[38;5;21;01msns\u001b[39;00m\n\u001b[0;32m----> 7\u001b[0m \u001b[38;5;28;01mfrom\u001b[39;00m \u001b[38;5;21;01msklearn\u001b[39;00m\u001b[38;5;21;01m.\u001b[39;00m\u001b[38;5;21;01mmodel_selection\u001b[39;00m \u001b[38;5;28;01mimport\u001b[39;00m train_test_split\n\u001b[1;32m      8\u001b[0m \u001b[38;5;28;01mfrom\u001b[39;00m \u001b[38;5;21;01msklearn\u001b[39;00m \u001b[38;5;28;01mimport\u001b[39;00m metrics\n\u001b[1;32m      9\u001b[0m \u001b[38;5;28;01mfrom\u001b[39;00m \u001b[38;5;21;01msklearn\u001b[39;00m\u001b[38;5;21;01m.\u001b[39;00m\u001b[38;5;21;01mneighbors\u001b[39;00m \u001b[38;5;28;01mimport\u001b[39;00m KNeighborsClassifier\n",
      "\u001b[0;31mModuleNotFoundError\u001b[0m: No module named 'sklearn'"
     ]
    }
   ],
   "source": [
    "import pandas as pd\n",
    "import numpy as np\n",
    "import matplotlib.pyplot as plt\n",
    "import matplotlib.axes as ax\n",
    "from pandas.plotting import scatter_matrix\n",
    "import seaborn as sns\n",
    "from sklearn.model_selection import train_test_split\n",
    "from sklearn import metrics\n",
    "from sklearn.neighbors import KNeighborsClassifier\n",
    "from sklearn.svm import SVC\n",
    "from sklearn.dummy import DummyClassifier\n",
    "from sklearn.metrics import mean_squared_error\n",
    "%matplotlib inline"
   ]
  },
  {
   "cell_type": "markdown",
   "metadata": {},
   "source": [
    "Reading from file and allowing the data to be also hebrew"
   ]
  },
  {
   "cell_type": "code",
   "execution_count": 15,
   "metadata": {},
   "outputs": [
    {
     "data": {
      "text/html": [
       "<div>\n",
       "<style scoped>\n",
       "    .dataframe tbody tr th:only-of-type {\n",
       "        vertical-align: middle;\n",
       "    }\n",
       "\n",
       "    .dataframe tbody tr th {\n",
       "        vertical-align: top;\n",
       "    }\n",
       "\n",
       "    .dataframe thead th {\n",
       "        text-align: right;\n",
       "    }\n",
       "</style>\n",
       "<table border=\"1\" class=\"dataframe\">\n",
       "  <thead>\n",
       "    <tr style=\"text-align: right;\">\n",
       "      <th></th>\n",
       "      <th>מספר רשיון</th>\n",
       "      <th>סוג תכשיר</th>\n",
       "      <th>שם תכשיר</th>\n",
       "      <th>שם תכשיר אנגלי</th>\n",
       "      <th>סוג פעילות</th>\n",
       "      <th>סוג פעילות אנגלי</th>\n",
       "      <th>מספר או'ם</th>\n",
       "      <th>חומר פעיל</th>\n",
       "      <th>CAS.NO</th>\n",
       "      <th>קבוצת עמידות</th>\n",
       "      <th>...</th>\n",
       "      <th>נפח ליישום</th>\n",
       "      <th>כניסה מחדש</th>\n",
       "      <th>תקופת המתנה</th>\n",
       "      <th>שלב גידול</th>\n",
       "      <th>גיל גידול</th>\n",
       "      <th>שלב עשב</th>\n",
       "      <th>גיל עשב</th>\n",
       "      <th>אופי הפעלה</th>\n",
       "      <th>הערה גידול</th>\n",
       "      <th>סוג קרקע</th>\n",
       "    </tr>\n",
       "  </thead>\n",
       "  <tbody>\n",
       "    <tr>\n",
       "      <th>0</th>\n",
       "      <td>9037</td>\n",
       "      <td>אינם קוטלי עשבים</td>\n",
       "      <td>אתרל אגרודיל</td>\n",
       "      <td>ETHREL</td>\n",
       "      <td>תכשירים בעלי היתר ליבוא מקביל</td>\n",
       "      <td>PARALLEL PERMIT IMPORT</td>\n",
       "      <td>NaN</td>\n",
       "      <td>ETHEPHON</td>\n",
       "      <td>16672-87-0</td>\n",
       "      <td>NaN</td>\n",
       "      <td>...</td>\n",
       "      <td>200 - 150 ליטר/דונם</td>\n",
       "      <td>לאחר התייבשות</td>\n",
       "      <td>0</td>\n",
       "      <td>NaN</td>\n",
       "      <td>NaN</td>\n",
       "      <td>NaN</td>\n",
       "      <td>NaN</td>\n",
       "      <td>NaN</td>\n",
       "      <td>הטיפול בהתחלת שינוי גוון,בזני מטלי,רד רוזה וסנ...</td>\n",
       "      <td>NaN</td>\n",
       "    </tr>\n",
       "    <tr>\n",
       "      <th>1</th>\n",
       "      <td>9037</td>\n",
       "      <td>אינם קוטלי עשבים</td>\n",
       "      <td>אתרל אגרודיל</td>\n",
       "      <td>ETHREL</td>\n",
       "      <td>תכשירים בעלי היתר ליבוא מקביל</td>\n",
       "      <td>PARALLEL PERMIT IMPORT</td>\n",
       "      <td>NaN</td>\n",
       "      <td>ETHEPHON</td>\n",
       "      <td>16672-87-0</td>\n",
       "      <td>NaN</td>\n",
       "      <td>...</td>\n",
       "      <td>200 - 150 ליטר/דונם</td>\n",
       "      <td>לאחר התייבשות</td>\n",
       "      <td>10</td>\n",
       "      <td>NaN</td>\n",
       "      <td>NaN</td>\n",
       "      <td>NaN</td>\n",
       "      <td>NaN</td>\n",
       "      <td>NaN</td>\n",
       "      <td>הטיפול בזן אורליאנס, יונתן ומיני דלישס.</td>\n",
       "      <td>NaN</td>\n",
       "    </tr>\n",
       "    <tr>\n",
       "      <th>2</th>\n",
       "      <td>9078</td>\n",
       "      <td>אינם קוטלי עשבים</td>\n",
       "      <td>דיקרזול אגרודיל</td>\n",
       "      <td>DICARZOL</td>\n",
       "      <td>תכשירים בעלי היתר ליבוא מקביל</td>\n",
       "      <td>PARALLEL PERMIT IMPORT</td>\n",
       "      <td>2757.0</td>\n",
       "      <td>FORMETANATE HYDROCHLORIDE</td>\n",
       "      <td>23422-53-9</td>\n",
       "      <td>NaN</td>\n",
       "      <td>...</td>\n",
       "      <td>75 - 30 ליטר/דונם</td>\n",
       "      <td>3 ימים מהריסוס</td>\n",
       "      <td>NaN</td>\n",
       "      <td>NaN</td>\n",
       "      <td>NaN</td>\n",
       "      <td>NaN</td>\n",
       "      <td>NaN</td>\n",
       "      <td>NaN</td>\n",
       "      <td>אין לטפל עם רמת הנגיעות עולה על 3 תריפסים לפרח</td>\n",
       "      <td>NaN</td>\n",
       "    </tr>\n",
       "    <tr>\n",
       "      <th>3</th>\n",
       "      <td>9078</td>\n",
       "      <td>אינם קוטלי עשבים</td>\n",
       "      <td>דיקרזול אגרודיל</td>\n",
       "      <td>DICARZOL</td>\n",
       "      <td>תכשירים בעלי היתר ליבוא מקביל</td>\n",
       "      <td>PARALLEL PERMIT IMPORT</td>\n",
       "      <td>2757.0</td>\n",
       "      <td>FORMETANATE HYDROCHLORIDE</td>\n",
       "      <td>23422-53-9</td>\n",
       "      <td>NaN</td>\n",
       "      <td>...</td>\n",
       "      <td>50 - 30 ליטר/דונם</td>\n",
       "      <td>3 ימים מהריסוס</td>\n",
       "      <td>NaN</td>\n",
       "      <td>NaN</td>\n",
       "      <td>NaN</td>\n",
       "      <td>NaN</td>\n",
       "      <td>NaN</td>\n",
       "      <td>NaN</td>\n",
       "      <td>הריסוס בשלב הפריחה</td>\n",
       "      <td>NaN</td>\n",
       "    </tr>\n",
       "    <tr>\n",
       "      <th>4</th>\n",
       "      <td>9078</td>\n",
       "      <td>אינם קוטלי עשבים</td>\n",
       "      <td>דיקרזול אגרודיל</td>\n",
       "      <td>DICARZOL</td>\n",
       "      <td>תכשירים בעלי היתר ליבוא מקביל</td>\n",
       "      <td>PARALLEL PERMIT IMPORT</td>\n",
       "      <td>2757.0</td>\n",
       "      <td>FORMETANATE HYDROCHLORIDE</td>\n",
       "      <td>23422-53-9</td>\n",
       "      <td>NaN</td>\n",
       "      <td>...</td>\n",
       "      <td>50 - 30 ליטר/דונם</td>\n",
       "      <td>3 ימים מהריסוס</td>\n",
       "      <td>4</td>\n",
       "      <td>NaN</td>\n",
       "      <td>NaN</td>\n",
       "      <td>NaN</td>\n",
       "      <td>NaN</td>\n",
       "      <td>NaN</td>\n",
       "      <td>הוספת סוכר 1.5 ק\"ג/ד עשויה לשפר את הקטילה</td>\n",
       "      <td>NaN</td>\n",
       "    </tr>\n",
       "    <tr>\n",
       "      <th>...</th>\n",
       "      <td>...</td>\n",
       "      <td>...</td>\n",
       "      <td>...</td>\n",
       "      <td>...</td>\n",
       "      <td>...</td>\n",
       "      <td>...</td>\n",
       "      <td>...</td>\n",
       "      <td>...</td>\n",
       "      <td>...</td>\n",
       "      <td>...</td>\n",
       "      <td>...</td>\n",
       "      <td>...</td>\n",
       "      <td>...</td>\n",
       "      <td>...</td>\n",
       "      <td>...</td>\n",
       "      <td>...</td>\n",
       "      <td>...</td>\n",
       "      <td>...</td>\n",
       "      <td>...</td>\n",
       "      <td>...</td>\n",
       "      <td>...</td>\n",
       "    </tr>\n",
       "    <tr>\n",
       "      <th>44103</th>\n",
       "      <td>7278</td>\n",
       "      <td>אורגני</td>\n",
       "      <td>גניקן</td>\n",
       "      <td>GANIKAN</td>\n",
       "      <td>קוטלי פטריות וחיידקים</td>\n",
       "      <td>FUNGICIDES &amp; BACTERICIDES</td>\n",
       "      <td>NaN</td>\n",
       "      <td>CANOLA OIL</td>\n",
       "      <td>120962-03-0</td>\n",
       "      <td>NaN</td>\n",
       "      <td>...</td>\n",
       "      <td>60 - 40 ליטר/דונם</td>\n",
       "      <td>.תכשיר לחקלאות אורגנית לאחר התייבשות התרסיס</td>\n",
       "      <td>3</td>\n",
       "      <td>NaN</td>\n",
       "      <td>NaN</td>\n",
       "      <td>NaN</td>\n",
       "      <td>NaN</td>\n",
       "      <td>NaN</td>\n",
       "      <td>בתוספת משטח אגוז 0.1%</td>\n",
       "      <td>NaN</td>\n",
       "    </tr>\n",
       "    <tr>\n",
       "      <th>44104</th>\n",
       "      <td>7326</td>\n",
       "      <td>אורגני</td>\n",
       "      <td>אי.או.אס</td>\n",
       "      <td>EOS</td>\n",
       "      <td>קוטלי חרקים ואקריות</td>\n",
       "      <td>INSECTICIDES &amp;   ACARICIDES</td>\n",
       "      <td>NaN</td>\n",
       "      <td>DISTILLATES (PETROLEUM), HYDROTREATED LIGHT PA...</td>\n",
       "      <td>64742-55-8</td>\n",
       "      <td>ללא</td>\n",
       "      <td>...</td>\n",
       "      <td>עד נגירה</td>\n",
       "      <td>.תכשיר לחקלאות אורגנית לאחר היתייבשות</td>\n",
       "      <td>3</td>\n",
       "      <td>NaN</td>\n",
       "      <td>NaN</td>\n",
       "      <td>NaN</td>\n",
       "      <td>NaN</td>\n",
       "      <td>NaN</td>\n",
       "      <td>NaN</td>\n",
       "      <td>NaN</td>\n",
       "    </tr>\n",
       "    <tr>\n",
       "      <th>44105</th>\n",
       "      <td>7059</td>\n",
       "      <td>אורגני</td>\n",
       "      <td>בלו שילד</td>\n",
       "      <td>BLUE SHIELD</td>\n",
       "      <td>קוטלי פטריות וחיידקים</td>\n",
       "      <td>FUNGICIDES &amp; BACTERICIDES</td>\n",
       "      <td>3077.0</td>\n",
       "      <td>COPPER HYDROXIDE</td>\n",
       "      <td>20427-59-2</td>\n",
       "      <td>NaN</td>\n",
       "      <td>...</td>\n",
       "      <td>50 - 30 ליטר/דונם</td>\n",
       "      <td>.תכשיר לחקלאות אורגנית 48שעות</td>\n",
       "      <td>7</td>\n",
       "      <td>NaN</td>\n",
       "      <td>NaN</td>\n",
       "      <td>NaN</td>\n",
       "      <td>NaN</td>\n",
       "      <td>NaN</td>\n",
       "      <td>המינון הנמוך בטיפול מניעה, יש להגדיל את הריכוז...</td>\n",
       "      <td>NaN</td>\n",
       "    </tr>\n",
       "    <tr>\n",
       "      <th>44106</th>\n",
       "      <td>7278</td>\n",
       "      <td>אורגני</td>\n",
       "      <td>גניקן</td>\n",
       "      <td>GANIKAN</td>\n",
       "      <td>קוטלי חרקים ואקריות</td>\n",
       "      <td>INSECTICIDES &amp;   ACARICIDES</td>\n",
       "      <td>NaN</td>\n",
       "      <td>CANOLA OIL</td>\n",
       "      <td>120962-03-0</td>\n",
       "      <td>NaN</td>\n",
       "      <td>...</td>\n",
       "      <td>60 - 40 ליטר/דונם</td>\n",
       "      <td>.תכשיר לחקלאות אורגנית לאחר התייבשות התרסיס</td>\n",
       "      <td>3</td>\n",
       "      <td>NaN</td>\n",
       "      <td>NaN</td>\n",
       "      <td>NaN</td>\n",
       "      <td>NaN</td>\n",
       "      <td>NaN</td>\n",
       "      <td>מנטה ספרדית. בתוספת משטח אגוז 0.1%</td>\n",
       "      <td>NaN</td>\n",
       "    </tr>\n",
       "    <tr>\n",
       "      <th>44107</th>\n",
       "      <td>7278</td>\n",
       "      <td>אורגני</td>\n",
       "      <td>גניקן</td>\n",
       "      <td>GANIKAN</td>\n",
       "      <td>קוטלי פטריות וחיידקים</td>\n",
       "      <td>FUNGICIDES &amp; BACTERICIDES</td>\n",
       "      <td>NaN</td>\n",
       "      <td>NEEM OIL</td>\n",
       "      <td>8002-65-1</td>\n",
       "      <td>UNE* Botanical essence including synthetic, e...</td>\n",
       "      <td>...</td>\n",
       "      <td>30 ליטר/דונם</td>\n",
       "      <td>.תכשיר לחקלאות אורגנית לאחר התייבשות התרסיס</td>\n",
       "      <td>3</td>\n",
       "      <td>NaN</td>\n",
       "      <td>NaN</td>\n",
       "      <td>NaN</td>\n",
       "      <td>NaN</td>\n",
       "      <td>NaN</td>\n",
       "      <td>NaN</td>\n",
       "      <td>NaN</td>\n",
       "    </tr>\n",
       "  </tbody>\n",
       "</table>\n",
       "<p>44108 rows × 46 columns</p>\n",
       "</div>"
      ],
      "text/plain": [
       "       מספר רשיון         סוג תכשיר         שם תכשיר שם תכשיר אנגלי  \\\n",
       "0            9037  אינם קוטלי עשבים     אתרל אגרודיל         ETHREL   \n",
       "1            9037  אינם קוטלי עשבים     אתרל אגרודיל         ETHREL   \n",
       "2            9078  אינם קוטלי עשבים  דיקרזול אגרודיל       DICARZOL   \n",
       "3            9078  אינם קוטלי עשבים  דיקרזול אגרודיל       DICARZOL   \n",
       "4            9078  אינם קוטלי עשבים  דיקרזול אגרודיל       DICARZOL   \n",
       "...           ...               ...              ...            ...   \n",
       "44103        7278            אורגני            גניקן        GANIKAN   \n",
       "44104        7326            אורגני         אי.או.אס            EOS   \n",
       "44105        7059            אורגני         בלו שילד    BLUE SHIELD   \n",
       "44106        7278            אורגני            גניקן        GANIKAN   \n",
       "44107        7278            אורגני            גניקן        GANIKAN   \n",
       "\n",
       "                          סוג פעילות             סוג פעילות אנגלי  מספר או'ם  \\\n",
       "0      תכשירים בעלי היתר ליבוא מקביל       PARALLEL PERMIT IMPORT        NaN   \n",
       "1      תכשירים בעלי היתר ליבוא מקביל       PARALLEL PERMIT IMPORT        NaN   \n",
       "2      תכשירים בעלי היתר ליבוא מקביל       PARALLEL PERMIT IMPORT     2757.0   \n",
       "3      תכשירים בעלי היתר ליבוא מקביל       PARALLEL PERMIT IMPORT     2757.0   \n",
       "4      תכשירים בעלי היתר ליבוא מקביל       PARALLEL PERMIT IMPORT     2757.0   \n",
       "...                              ...                          ...        ...   \n",
       "44103          קוטלי פטריות וחיידקים    FUNGICIDES & BACTERICIDES        NaN   \n",
       "44104            קוטלי חרקים ואקריות  INSECTICIDES &   ACARICIDES        NaN   \n",
       "44105          קוטלי פטריות וחיידקים    FUNGICIDES & BACTERICIDES     3077.0   \n",
       "44106            קוטלי חרקים ואקריות  INSECTICIDES &   ACARICIDES        NaN   \n",
       "44107          קוטלי פטריות וחיידקים    FUNGICIDES & BACTERICIDES        NaN   \n",
       "\n",
       "                                               חומר פעיל       CAS.NO  \\\n",
       "0                                               ETHEPHON   16672-87-0   \n",
       "1                                               ETHEPHON   16672-87-0   \n",
       "2                              FORMETANATE HYDROCHLORIDE   23422-53-9   \n",
       "3                              FORMETANATE HYDROCHLORIDE   23422-53-9   \n",
       "4                              FORMETANATE HYDROCHLORIDE   23422-53-9   \n",
       "...                                                  ...          ...   \n",
       "44103                                         CANOLA OIL  120962-03-0   \n",
       "44104  DISTILLATES (PETROLEUM), HYDROTREATED LIGHT PA...   64742-55-8   \n",
       "44105                                   COPPER HYDROXIDE   20427-59-2   \n",
       "44106                                         CANOLA OIL  120962-03-0   \n",
       "44107                                           NEEM OIL    8002-65-1   \n",
       "\n",
       "                                            קבוצת עמידות  ...  \\\n",
       "0                                                    NaN  ...   \n",
       "1                                                    NaN  ...   \n",
       "2                                                    NaN  ...   \n",
       "3                                                    NaN  ...   \n",
       "4                                                    NaN  ...   \n",
       "...                                                  ...  ...   \n",
       "44103                                                NaN  ...   \n",
       "44104                                                ללא  ...   \n",
       "44105                                                NaN  ...   \n",
       "44106                                                NaN  ...   \n",
       "44107   UNE* Botanical essence including synthetic, e...  ...   \n",
       "\n",
       "                נפח ליישום                                   כניסה מחדש  \\\n",
       "0      200 - 150 ליטר/דונם                                לאחר התייבשות   \n",
       "1      200 - 150 ליטר/דונם                                לאחר התייבשות   \n",
       "2        75 - 30 ליטר/דונם                               3 ימים מהריסוס   \n",
       "3        50 - 30 ליטר/דונם                               3 ימים מהריסוס   \n",
       "4        50 - 30 ליטר/דונם                               3 ימים מהריסוס   \n",
       "...                    ...                                          ...   \n",
       "44103    60 - 40 ליטר/דונם  .תכשיר לחקלאות אורגנית לאחר התייבשות התרסיס   \n",
       "44104             עד נגירה        .תכשיר לחקלאות אורגנית לאחר היתייבשות   \n",
       "44105    50 - 30 ליטר/דונם                .תכשיר לחקלאות אורגנית 48שעות   \n",
       "44106    60 - 40 ליטר/דונם  .תכשיר לחקלאות אורגנית לאחר התייבשות התרסיס   \n",
       "44107         30 ליטר/דונם  .תכשיר לחקלאות אורגנית לאחר התייבשות התרסיס   \n",
       "\n",
       "      תקופת המתנה שלב גידול גיל גידול שלב עשב גיל עשב אופי הפעלה  \\\n",
       "0               0       NaN       NaN     NaN     NaN        NaN   \n",
       "1              10       NaN       NaN     NaN     NaN        NaN   \n",
       "2             NaN       NaN       NaN     NaN     NaN        NaN   \n",
       "3             NaN       NaN       NaN     NaN     NaN        NaN   \n",
       "4               4       NaN       NaN     NaN     NaN        NaN   \n",
       "...           ...       ...       ...     ...     ...        ...   \n",
       "44103           3       NaN       NaN     NaN     NaN        NaN   \n",
       "44104           3       NaN       NaN     NaN     NaN        NaN   \n",
       "44105           7       NaN       NaN     NaN     NaN        NaN   \n",
       "44106           3       NaN       NaN     NaN     NaN        NaN   \n",
       "44107           3       NaN       NaN     NaN     NaN        NaN   \n",
       "\n",
       "                                              הערה גידול סוג קרקע  \n",
       "0      הטיפול בהתחלת שינוי גוון,בזני מטלי,רד רוזה וסנ...      NaN  \n",
       "1                הטיפול בזן אורליאנס, יונתן ומיני דלישס.      NaN  \n",
       "2         אין לטפל עם רמת הנגיעות עולה על 3 תריפסים לפרח      NaN  \n",
       "3                                     הריסוס בשלב הפריחה      NaN  \n",
       "4              הוספת סוכר 1.5 ק\"ג/ד עשויה לשפר את הקטילה      NaN  \n",
       "...                                                  ...      ...  \n",
       "44103                              בתוספת משטח אגוז 0.1%      NaN  \n",
       "44104                                                NaN      NaN  \n",
       "44105  המינון הנמוך בטיפול מניעה, יש להגדיל את הריכוז...      NaN  \n",
       "44106                 מנטה ספרדית. בתוספת משטח אגוז 0.1%      NaN  \n",
       "44107                                                NaN      NaN  \n",
       "\n",
       "[44108 rows x 46 columns]"
      ]
     },
     "execution_count": 15,
     "metadata": {},
     "output_type": "execute_result"
    }
   ],
   "source": [
    "df = pd.read_csv('data/Pesticide Repository.csv', sep=',', encoding = \"ISO-8859-8\")\n",
    "df"
   ]
  },
  {
   "cell_type": "markdown",
   "metadata": {},
   "source": [
    "I try to predict the \"סוג תכשיר\" column, or in english the \"preparation type num\" column. I will try to get all the other data that in the table and find out which \"סוג תכשיר\" he is: 'אינם קוטלי עשבים' ,'קוטלי עשבים'  or 'אורגני'"
   ]
  },
  {
   "cell_type": "code",
   "execution_count": 16,
   "metadata": {},
   "outputs": [
    {
     "name": "stdout",
     "output_type": "stream",
     "text": [
      "<class 'pandas.core.frame.DataFrame'>\n",
      "RangeIndex: 44108 entries, 0 to 44107\n",
      "Data columns (total 46 columns):\n",
      " #   Column                 Non-Null Count  Dtype  \n",
      "---  ------                 --------------  -----  \n",
      " 0   מספר רשיון             44108 non-null  int64  \n",
      " 1   סוג תכשיר              44108 non-null  object \n",
      " 2   שם תכשיר               44108 non-null  object \n",
      " 3   שם תכשיר אנגלי         44108 non-null  object \n",
      " 4   סוג פעילות             44108 non-null  object \n",
      " 5   סוג פעילות אנגלי       44108 non-null  object \n",
      " 6   מספר או'ם              32924 non-null  float64\n",
      " 7   חומר פעיל              44108 non-null  object \n",
      " 8   CAS.NO                 44108 non-null  object \n",
      " 9   קבוצת עמידות           35700 non-null  object \n",
      " 10  טרגט קוד               34878 non-null  object \n",
      " 11  ריכוז חומר פעיל        44105 non-null  object \n",
      " 12  ריכוש חומר פעיל אנגלי  44105 non-null  object \n",
      " 13  פורמולציה              44108 non-null  object \n",
      " 14  פורמולציה אנגלי        44108 non-null  object \n",
      " 15  בעל רשיון              44108 non-null  object \n",
      " 16  בעל רשיון אנגלי        44048 non-null  object \n",
      " 17  יצרן פורמולציה         44060 non-null  object \n",
      " 18  יצרן פורמולציה אנגלי   44060 non-null  object \n",
      " 19  רעילות                 41547 non-null  object \n",
      " 20  רעילות אנגלי           41547 non-null  object \n",
      " 21  דרגת רעילות            44042 non-null  object \n",
      " 22  דרגת רעילות אנגלי      44042 non-null  object \n",
      " 23  תווית                  44108 non-null  object \n",
      " 24  קבוצת גידולים          44108 non-null  object \n",
      " 25  קבוצת גידולים אנגלי    44108 non-null  object \n",
      " 26  גידול                  44108 non-null  object \n",
      " 27  גידול אנגלי            44100 non-null  object \n",
      " 28  תאריך אישור וועדה      44108 non-null  object \n",
      " 29  קבוצת נגעים            44101 non-null  object \n",
      " 30  קבוצת נגעים אנגלי      34528 non-null  object \n",
      " 31  קבוצת נגעים לטיני      3260 non-null   object \n",
      " 32  נגע                    44101 non-null  object \n",
      " 33  נגע אנגלי              40732 non-null  object \n",
      " 34  נגע לטיני              43270 non-null  object \n",
      " 35  מינון ליישום           43488 non-null  object \n",
      " 36  נפח ליישום             33462 non-null  object \n",
      " 37  כניסה מחדש             42471 non-null  object \n",
      " 38  תקופת המתנה            27548 non-null  object \n",
      " 39  שלב גידול              1860 non-null   object \n",
      " 40  גיל גידול              5667 non-null   object \n",
      " 41  שלב עשב                1815 non-null   object \n",
      " 42  גיל עשב                4872 non-null   object \n",
      " 43  אופי הפעלה             1927 non-null   object \n",
      " 44  הערה גידול             17299 non-null  object \n",
      " 45  סוג קרקע               674 non-null    object \n",
      "dtypes: float64(1), int64(1), object(44)\n",
      "memory usage: 15.5+ MB\n"
     ]
    }
   ],
   "source": [
    "df.info()"
   ]
  },
  {
   "cell_type": "code",
   "execution_count": 17,
   "metadata": {},
   "outputs": [
    {
     "data": {
      "text/html": [
       "<div>\n",
       "<style scoped>\n",
       "    .dataframe tbody tr th:only-of-type {\n",
       "        vertical-align: middle;\n",
       "    }\n",
       "\n",
       "    .dataframe tbody tr th {\n",
       "        vertical-align: top;\n",
       "    }\n",
       "\n",
       "    .dataframe thead th {\n",
       "        text-align: right;\n",
       "    }\n",
       "</style>\n",
       "<table border=\"1\" class=\"dataframe\">\n",
       "  <thead>\n",
       "    <tr style=\"text-align: right;\">\n",
       "      <th></th>\n",
       "      <th>מספר רשיון</th>\n",
       "      <th>מספר או'ם</th>\n",
       "    </tr>\n",
       "  </thead>\n",
       "  <tbody>\n",
       "    <tr>\n",
       "      <th>count</th>\n",
       "      <td>44108.000000</td>\n",
       "      <td>32924.000000</td>\n",
       "    </tr>\n",
       "    <tr>\n",
       "      <th>mean</th>\n",
       "      <td>2972.294119</td>\n",
       "      <td>2889.497540</td>\n",
       "    </tr>\n",
       "    <tr>\n",
       "      <th>std</th>\n",
       "      <td>2235.073481</td>\n",
       "      <td>431.518271</td>\n",
       "    </tr>\n",
       "    <tr>\n",
       "      <th>min</th>\n",
       "      <td>2.000000</td>\n",
       "      <td>0.000000</td>\n",
       "    </tr>\n",
       "    <tr>\n",
       "      <th>25%</th>\n",
       "      <td>1391.000000</td>\n",
       "      <td>2929.000000</td>\n",
       "    </tr>\n",
       "    <tr>\n",
       "      <th>50%</th>\n",
       "      <td>1895.000000</td>\n",
       "      <td>3082.000000</td>\n",
       "    </tr>\n",
       "    <tr>\n",
       "      <th>75%</th>\n",
       "      <td>4224.000000</td>\n",
       "      <td>3082.000000</td>\n",
       "    </tr>\n",
       "    <tr>\n",
       "      <th>max</th>\n",
       "      <td>11028.000000</td>\n",
       "      <td>3900.000000</td>\n",
       "    </tr>\n",
       "  </tbody>\n",
       "</table>\n",
       "</div>"
      ],
      "text/plain": [
       "         מספר רשיון     מספר או'ם\n",
       "count  44108.000000  32924.000000\n",
       "mean    2972.294119   2889.497540\n",
       "std     2235.073481    431.518271\n",
       "min        2.000000      0.000000\n",
       "25%     1391.000000   2929.000000\n",
       "50%     1895.000000   3082.000000\n",
       "75%     4224.000000   3082.000000\n",
       "max    11028.000000   3900.000000"
      ]
     },
     "execution_count": 17,
     "metadata": {},
     "output_type": "execute_result"
    }
   ],
   "source": [
    "df.describe()"
   ]
  },
  {
   "cell_type": "markdown",
   "metadata": {},
   "source": [
    "# Transform The Columns to numeric"
   ]
  },
  {
   "cell_type": "markdown",
   "metadata": {},
   "source": [
    "First I will clean the database so it will be only with numbers and without words using dictionris"
   ]
  },
  {
   "cell_type": "code",
   "execution_count": null,
   "metadata": {},
   "outputs": [],
   "source": [
    "def add_new_column(old_name, new_name):\n",
    "    value = str_array_to_dictionry(pd.unique(df[old_name]))\n",
    "    print(value)\n",
    "    new_column = []\n",
    "    for val in df[old_name]:\n",
    "        new_column.append(value[val])\n",
    "    df[new_name] = new_column"
   ]
  },
  {
   "cell_type": "code",
   "execution_count": null,
   "metadata": {},
   "outputs": [],
   "source": [
    "add_new_column(\"סוג תכשיר\", 'preparation type num')"
   ]
  },
  {
   "cell_type": "code",
   "execution_count": null,
   "metadata": {},
   "outputs": [],
   "source": [
    "add_new_column(\"סוג פעילות אנגלי\", 'activity type num')"
   ]
  },
  {
   "cell_type": "code",
   "execution_count": null,
   "metadata": {},
   "outputs": [],
   "source": [
    "add_new_column(\"סוג קרקע\", 'field type num')"
   ]
  },
  {
   "cell_type": "code",
   "execution_count": null,
   "metadata": {},
   "outputs": [],
   "source": [
    "add_new_column(\"חומר פעיל\", 'active ingredient num')"
   ]
  },
  {
   "cell_type": "code",
   "execution_count": null,
   "metadata": {},
   "outputs": [],
   "source": [
    "add_new_column('פורמולציה אנגלי', 'formulation num')"
   ]
  },
  {
   "cell_type": "code",
   "execution_count": null,
   "metadata": {},
   "outputs": [],
   "source": [
    "add_new_column('רעילות אנגלי', 'toxicity num')"
   ]
  },
  {
   "cell_type": "code",
   "execution_count": null,
   "metadata": {},
   "outputs": [],
   "source": [
    "add_new_column('דרגת רעילות אנגלי','degree of toxicity num')"
   ]
  },
  {
   "cell_type": "code",
   "execution_count": null,
   "metadata": {},
   "outputs": [],
   "source": [
    "add_new_column('קבוצת גידולים אנגלי', 'crop group num')"
   ]
  },
  {
   "cell_type": "code",
   "execution_count": null,
   "metadata": {},
   "outputs": [],
   "source": [
    "add_new_column('קבוצת נגעים אנגלי', 'lesion group num')"
   ]
  },
  {
   "cell_type": "code",
   "execution_count": null,
   "metadata": {},
   "outputs": [],
   "source": [
    "new_column = []\n",
    "for index,value in enumerate(df['ריכוש חומר פעיל אנגלי']):\n",
    "    try:\n",
    "        if value.split(\" \")[1] == \"%\":\n",
    "            if value.split(\" \")[0]:\n",
    "                value = float(value.split(\" \")[0]) * 10\n",
    "            else:\n",
    "                value = 1\n",
    "        else:\n",
    "            value = value.split(\" \")[0]\n",
    "    except:\n",
    "        value=0\n",
    "    new_column.append(value)\n",
    "df['active substance concentration num'] = new_column"
   ]
  },
  {
   "cell_type": "markdown",
   "metadata": {},
   "source": [
    "Changing column name to english"
   ]
  },
  {
   "cell_type": "code",
   "execution_count": 18,
   "metadata": {},
   "outputs": [],
   "source": [
    "df['license number'] = df['מספר רשיון']\n",
    "df['Preparation name'] = df['שם תכשיר אנגלי']"
   ]
  },
  {
   "cell_type": "code",
   "execution_count": 19,
   "metadata": {},
   "outputs": [
    {
     "ename": "KeyError",
     "evalue": "\"['preparation type num', 'activity type num', 'field type num', 'active ingredient num', 'formulation num', 'toxicity num', 'degree of toxicity num', 'crop group num', 'lesion group num', 'active substance concentration num'] not in index\"",
     "output_type": "error",
     "traceback": [
      "\u001b[0;31m---------------------------------------------------------------------------\u001b[0m",
      "\u001b[0;31mKeyError\u001b[0m                                  Traceback (most recent call last)",
      "Input \u001b[0;32mIn [19]\u001b[0m, in \u001b[0;36m<cell line: 1>\u001b[0;34m()\u001b[0m\n\u001b[0;32m----> 1\u001b[0m clean_data \u001b[38;5;241m=\u001b[39m \u001b[43mdf\u001b[49m\u001b[43m[\u001b[49m\u001b[43m[\u001b[49m\u001b[38;5;124;43m'\u001b[39;49m\u001b[38;5;124;43mlicense number\u001b[39;49m\u001b[38;5;124;43m'\u001b[39;49m\u001b[43m,\u001b[49m\u001b[43m \u001b[49m\u001b[38;5;124;43m'\u001b[39;49m\u001b[38;5;124;43mPreparation name\u001b[39;49m\u001b[38;5;124;43m'\u001b[39;49m\u001b[43m,\u001b[49m\u001b[43m \u001b[49m\u001b[38;5;124;43m'\u001b[39;49m\u001b[38;5;124;43mpreparation type num\u001b[39;49m\u001b[38;5;124;43m'\u001b[39;49m\u001b[43m,\u001b[49m\u001b[43m \u001b[49m\u001b[38;5;124;43m'\u001b[39;49m\u001b[38;5;124;43mactivity type num\u001b[39;49m\u001b[38;5;124;43m'\u001b[39;49m\u001b[43m,\u001b[49m\u001b[43m \u001b[49m\u001b[38;5;124;43m'\u001b[39;49m\u001b[38;5;124;43mfield type num\u001b[39;49m\u001b[38;5;124;43m'\u001b[39;49m\u001b[43m,\u001b[49m\u001b[43m \u001b[49m\u001b[38;5;124;43m'\u001b[39;49m\u001b[38;5;124;43mactive ingredient num\u001b[39;49m\u001b[38;5;124;43m'\u001b[39;49m\u001b[43m,\u001b[49m\u001b[43m \u001b[49m\u001b[38;5;124;43m'\u001b[39;49m\u001b[38;5;124;43mformulation num\u001b[39;49m\u001b[38;5;124;43m'\u001b[39;49m\u001b[43m,\u001b[49m\u001b[43m \u001b[49m\u001b[38;5;124;43m'\u001b[39;49m\u001b[38;5;124;43mtoxicity num\u001b[39;49m\u001b[38;5;124;43m'\u001b[39;49m\u001b[43m,\u001b[49m\u001b[43m \u001b[49m\u001b[38;5;124;43m'\u001b[39;49m\u001b[38;5;124;43mdegree of toxicity num\u001b[39;49m\u001b[38;5;124;43m'\u001b[39;49m\u001b[43m,\u001b[49m\u001b[43m \u001b[49m\u001b[38;5;124;43m'\u001b[39;49m\u001b[38;5;124;43mcrop group num\u001b[39;49m\u001b[38;5;124;43m'\u001b[39;49m\u001b[43m,\u001b[49m\u001b[43m \u001b[49m\u001b[38;5;124;43m'\u001b[39;49m\u001b[38;5;124;43mlesion group num\u001b[39;49m\u001b[38;5;124;43m'\u001b[39;49m\u001b[43m,\u001b[49m\u001b[43m \u001b[49m\u001b[38;5;124;43m'\u001b[39;49m\u001b[38;5;124;43mactive substance concentration num\u001b[39;49m\u001b[38;5;124;43m'\u001b[39;49m\u001b[43m]\u001b[49m\u001b[43m]\u001b[49m\n",
      "File \u001b[0;32m~/opt/anaconda3/envs/mlp/lib/python3.8/site-packages/pandas/core/frame.py:3511\u001b[0m, in \u001b[0;36mDataFrame.__getitem__\u001b[0;34m(self, key)\u001b[0m\n\u001b[1;32m   3509\u001b[0m     \u001b[38;5;28;01mif\u001b[39;00m is_iterator(key):\n\u001b[1;32m   3510\u001b[0m         key \u001b[38;5;241m=\u001b[39m \u001b[38;5;28mlist\u001b[39m(key)\n\u001b[0;32m-> 3511\u001b[0m     indexer \u001b[38;5;241m=\u001b[39m \u001b[38;5;28;43mself\u001b[39;49m\u001b[38;5;241;43m.\u001b[39;49m\u001b[43mcolumns\u001b[49m\u001b[38;5;241;43m.\u001b[39;49m\u001b[43m_get_indexer_strict\u001b[49m\u001b[43m(\u001b[49m\u001b[43mkey\u001b[49m\u001b[43m,\u001b[49m\u001b[43m \u001b[49m\u001b[38;5;124;43m\"\u001b[39;49m\u001b[38;5;124;43mcolumns\u001b[39;49m\u001b[38;5;124;43m\"\u001b[39;49m\u001b[43m)\u001b[49m[\u001b[38;5;241m1\u001b[39m]\n\u001b[1;32m   3513\u001b[0m \u001b[38;5;66;03m# take() does not accept boolean indexers\u001b[39;00m\n\u001b[1;32m   3514\u001b[0m \u001b[38;5;28;01mif\u001b[39;00m \u001b[38;5;28mgetattr\u001b[39m(indexer, \u001b[38;5;124m\"\u001b[39m\u001b[38;5;124mdtype\u001b[39m\u001b[38;5;124m\"\u001b[39m, \u001b[38;5;28;01mNone\u001b[39;00m) \u001b[38;5;241m==\u001b[39m \u001b[38;5;28mbool\u001b[39m:\n",
      "File \u001b[0;32m~/opt/anaconda3/envs/mlp/lib/python3.8/site-packages/pandas/core/indexes/base.py:5782\u001b[0m, in \u001b[0;36mIndex._get_indexer_strict\u001b[0;34m(self, key, axis_name)\u001b[0m\n\u001b[1;32m   5779\u001b[0m \u001b[38;5;28;01melse\u001b[39;00m:\n\u001b[1;32m   5780\u001b[0m     keyarr, indexer, new_indexer \u001b[38;5;241m=\u001b[39m \u001b[38;5;28mself\u001b[39m\u001b[38;5;241m.\u001b[39m_reindex_non_unique(keyarr)\n\u001b[0;32m-> 5782\u001b[0m \u001b[38;5;28;43mself\u001b[39;49m\u001b[38;5;241;43m.\u001b[39;49m\u001b[43m_raise_if_missing\u001b[49m\u001b[43m(\u001b[49m\u001b[43mkeyarr\u001b[49m\u001b[43m,\u001b[49m\u001b[43m \u001b[49m\u001b[43mindexer\u001b[49m\u001b[43m,\u001b[49m\u001b[43m \u001b[49m\u001b[43maxis_name\u001b[49m\u001b[43m)\u001b[49m\n\u001b[1;32m   5784\u001b[0m keyarr \u001b[38;5;241m=\u001b[39m \u001b[38;5;28mself\u001b[39m\u001b[38;5;241m.\u001b[39mtake(indexer)\n\u001b[1;32m   5785\u001b[0m \u001b[38;5;28;01mif\u001b[39;00m \u001b[38;5;28misinstance\u001b[39m(key, Index):\n\u001b[1;32m   5786\u001b[0m     \u001b[38;5;66;03m# GH 42790 - Preserve name from an Index\u001b[39;00m\n",
      "File \u001b[0;32m~/opt/anaconda3/envs/mlp/lib/python3.8/site-packages/pandas/core/indexes/base.py:5845\u001b[0m, in \u001b[0;36mIndex._raise_if_missing\u001b[0;34m(self, key, indexer, axis_name)\u001b[0m\n\u001b[1;32m   5842\u001b[0m     \u001b[38;5;28;01mraise\u001b[39;00m \u001b[38;5;167;01mKeyError\u001b[39;00m(\u001b[38;5;124mf\u001b[39m\u001b[38;5;124m\"\u001b[39m\u001b[38;5;124mNone of [\u001b[39m\u001b[38;5;132;01m{\u001b[39;00mkey\u001b[38;5;132;01m}\u001b[39;00m\u001b[38;5;124m] are in the [\u001b[39m\u001b[38;5;132;01m{\u001b[39;00maxis_name\u001b[38;5;132;01m}\u001b[39;00m\u001b[38;5;124m]\u001b[39m\u001b[38;5;124m\"\u001b[39m)\n\u001b[1;32m   5844\u001b[0m not_found \u001b[38;5;241m=\u001b[39m \u001b[38;5;28mlist\u001b[39m(ensure_index(key)[missing_mask\u001b[38;5;241m.\u001b[39mnonzero()[\u001b[38;5;241m0\u001b[39m]]\u001b[38;5;241m.\u001b[39munique())\n\u001b[0;32m-> 5845\u001b[0m \u001b[38;5;28;01mraise\u001b[39;00m \u001b[38;5;167;01mKeyError\u001b[39;00m(\u001b[38;5;124mf\u001b[39m\u001b[38;5;124m\"\u001b[39m\u001b[38;5;132;01m{\u001b[39;00mnot_found\u001b[38;5;132;01m}\u001b[39;00m\u001b[38;5;124m not in index\u001b[39m\u001b[38;5;124m\"\u001b[39m)\n",
      "\u001b[0;31mKeyError\u001b[0m: \"['preparation type num', 'activity type num', 'field type num', 'active ingredient num', 'formulation num', 'toxicity num', 'degree of toxicity num', 'crop group num', 'lesion group num', 'active substance concentration num'] not in index\""
     ]
    }
   ],
   "source": [
    "clean_data = df[['license number', 'Preparation name', 'preparation type num', 'activity type num', 'field type num', 'active ingredient num', 'formulation num', 'toxicity num', 'degree of toxicity num', 'crop group num', 'lesion group num', 'active substance concentration num']]"
   ]
  },
  {
   "cell_type": "markdown",
   "metadata": {},
   "source": [
    "Clean zeros and blank values from 'active substance concentration num' column"
   ]
  },
  {
   "cell_type": "code",
   "execution_count": null,
   "metadata": {},
   "outputs": [],
   "source": [
    "clean_data = clean_data.drop(clean_data[(clean_data['active substance concentration num']==0 )| (clean_data['active substance concentration num']=='')].index)"
   ]
  },
  {
   "cell_type": "code",
   "execution_count": null,
   "metadata": {},
   "outputs": [],
   "source": [
    "clean_data = clean_data.drop_duplicates(subset='license number')\n",
    "clean_data"
   ]
  },
  {
   "cell_type": "code",
   "execution_count": 20,
   "metadata": {},
   "outputs": [
    {
     "ename": "NameError",
     "evalue": "name 'clean_data' is not defined",
     "output_type": "error",
     "traceback": [
      "\u001b[0;31m---------------------------------------------------------------------------\u001b[0m",
      "\u001b[0;31mNameError\u001b[0m                                 Traceback (most recent call last)",
      "Input \u001b[0;32mIn [20]\u001b[0m, in \u001b[0;36m<cell line: 2>\u001b[0;34m()\u001b[0m\n\u001b[1;32m      1\u001b[0m \u001b[38;5;66;03m# Description\u001b[39;00m\n\u001b[0;32m----> 2\u001b[0m \u001b[38;5;28mprint\u001b[39m(\u001b[43mclean_data\u001b[49m\u001b[38;5;241m.\u001b[39mdescribe())\n",
      "\u001b[0;31mNameError\u001b[0m: name 'clean_data' is not defined"
     ]
    }
   ],
   "source": [
    "# Description\n",
    "print(clean_data.describe())\n"
   ]
  },
  {
   "cell_type": "markdown",
   "metadata": {},
   "source": [
    "preparation type num distribution\n"
   ]
  },
  {
   "cell_type": "code",
   "execution_count": 21,
   "metadata": {},
   "outputs": [
    {
     "ename": "NameError",
     "evalue": "name 'clean_data' is not defined",
     "output_type": "error",
     "traceback": [
      "\u001b[0;31m---------------------------------------------------------------------------\u001b[0m",
      "\u001b[0;31mNameError\u001b[0m                                 Traceback (most recent call last)",
      "Input \u001b[0;32mIn [21]\u001b[0m, in \u001b[0;36m<cell line: 1>\u001b[0;34m()\u001b[0m\n\u001b[0;32m----> 1\u001b[0m \u001b[38;5;28mprint\u001b[39m(\u001b[43mclean_data\u001b[49m\u001b[38;5;241m.\u001b[39mgroupby(\u001b[38;5;124m'\u001b[39m\u001b[38;5;124mpreparation type num\u001b[39m\u001b[38;5;124m'\u001b[39m)\u001b[38;5;241m.\u001b[39msize())\n",
      "\u001b[0;31mNameError\u001b[0m: name 'clean_data' is not defined"
     ]
    }
   ],
   "source": [
    "print(clean_data.groupby('preparation type num').size())\n"
   ]
  },
  {
   "cell_type": "code",
   "execution_count": 22,
   "metadata": {},
   "outputs": [
    {
     "ename": "NameError",
     "evalue": "name 'clean_data' is not defined",
     "output_type": "error",
     "traceback": [
      "\u001b[0;31m---------------------------------------------------------------------------\u001b[0m",
      "\u001b[0;31mNameError\u001b[0m                                 Traceback (most recent call last)",
      "Input \u001b[0;32mIn [22]\u001b[0m, in \u001b[0;36m<cell line: 1>\u001b[0;34m()\u001b[0m\n\u001b[0;32m----> 1\u001b[0m \u001b[43mclean_data\u001b[49m\u001b[38;5;241m.\u001b[39minfo\n",
      "\u001b[0;31mNameError\u001b[0m: name 'clean_data' is not defined"
     ]
    }
   ],
   "source": [
    "clean_data.info"
   ]
  },
  {
   "cell_type": "markdown",
   "metadata": {},
   "source": [
    "# Splitting The Data"
   ]
  },
  {
   "cell_type": "markdown",
   "metadata": {},
   "source": [
    "I will split my data into two parametrs:\n",
    "* **X** - The data that I give to the model\n",
    "* **y** - The data that I want to predict"
   ]
  },
  {
   "cell_type": "code",
   "execution_count": 23,
   "metadata": {},
   "outputs": [
    {
     "ename": "NameError",
     "evalue": "name 'clean_data' is not defined",
     "output_type": "error",
     "traceback": [
      "\u001b[0;31m---------------------------------------------------------------------------\u001b[0m",
      "\u001b[0;31mNameError\u001b[0m                                 Traceback (most recent call last)",
      "Input \u001b[0;32mIn [23]\u001b[0m, in \u001b[0;36m<cell line: 1>\u001b[0;34m()\u001b[0m\n\u001b[0;32m----> 1\u001b[0m X \u001b[38;5;241m=\u001b[39m \u001b[43mclean_data\u001b[49m\u001b[38;5;241m.\u001b[39mdrop([\u001b[38;5;124m'\u001b[39m\u001b[38;5;124mlicense number\u001b[39m\u001b[38;5;124m'\u001b[39m, \u001b[38;5;124m'\u001b[39m\u001b[38;5;124mpreparation type num\u001b[39m\u001b[38;5;124m'\u001b[39m, \u001b[38;5;124m'\u001b[39m\u001b[38;5;124mPreparation name\u001b[39m\u001b[38;5;124m'\u001b[39m],axis\u001b[38;5;241m=\u001b[39m\u001b[38;5;241m1\u001b[39m)\n\u001b[1;32m      2\u001b[0m y \u001b[38;5;241m=\u001b[39m clean_data[\u001b[38;5;124m'\u001b[39m\u001b[38;5;124mpreparation type num\u001b[39m\u001b[38;5;124m'\u001b[39m]\n",
      "\u001b[0;31mNameError\u001b[0m: name 'clean_data' is not defined"
     ]
    }
   ],
   "source": [
    "X = clean_data.drop(['license number', 'preparation type num', 'Preparation name'],axis=1)\n",
    "y = clean_data['preparation type num']"
   ]
  },
  {
   "cell_type": "markdown",
   "metadata": {},
   "source": [
    "After choosing the columns that I want from the choosen data, I will split the data into test and traind variables:/\\"
   ]
  },
  {
   "cell_type": "code",
   "execution_count": 24,
   "metadata": {},
   "outputs": [
    {
     "ename": "NameError",
     "evalue": "name 'X' is not defined",
     "output_type": "error",
     "traceback": [
      "\u001b[0;31m---------------------------------------------------------------------------\u001b[0m",
      "\u001b[0;31mNameError\u001b[0m                                 Traceback (most recent call last)",
      "Input \u001b[0;32mIn [24]\u001b[0m, in \u001b[0;36m<cell line: 1>\u001b[0;34m()\u001b[0m\n\u001b[0;32m----> 1\u001b[0m \u001b[43mX\u001b[49m\u001b[38;5;241m.\u001b[39mcolumns\n",
      "\u001b[0;31mNameError\u001b[0m: name 'X' is not defined"
     ]
    }
   ],
   "source": [
    "X.columns"
   ]
  },
  {
   "cell_type": "code",
   "execution_count": 25,
   "metadata": {},
   "outputs": [
    {
     "ename": "NameError",
     "evalue": "name 'train_test_split' is not defined",
     "output_type": "error",
     "traceback": [
      "\u001b[0;31m---------------------------------------------------------------------------\u001b[0m",
      "\u001b[0;31mNameError\u001b[0m                                 Traceback (most recent call last)",
      "Input \u001b[0;32mIn [25]\u001b[0m, in \u001b[0;36m<cell line: 1>\u001b[0;34m()\u001b[0m\n\u001b[0;32m----> 1\u001b[0m X_test, X_train, y_test, y_train\u001b[38;5;241m=\u001b[39m \u001b[43mtrain_test_split\u001b[49m(X, y, test_size \u001b[38;5;241m=\u001b[39m \u001b[38;5;241m0.2\u001b[39m, random_state\u001b[38;5;241m=\u001b[39m\u001b[38;5;241m42\u001b[39m)\n",
      "\u001b[0;31mNameError\u001b[0m: name 'train_test_split' is not defined"
     ]
    }
   ],
   "source": [
    "\n",
    "X_test, X_train, y_test, y_train= train_test_split(X, y, test_size = 0.2, random_state=42)\n"
   ]
  },
  {
   "cell_type": "code",
   "execution_count": null,
   "metadata": {},
   "outputs": [],
   "source": [
    "print('y_test:   ', y_test.shape)\n",
    "print('X_set:   ', X_test.shape)"
   ]
  },
  {
   "cell_type": "markdown",
   "metadata": {},
   "source": [
    "# Analyze the Data by Comparing the Different columns"
   ]
  },
  {
   "cell_type": "code",
   "execution_count": null,
   "metadata": {},
   "outputs": [],
   "source": [
    "sns.countplot(clean_data['preparation type num'],label=\"Count\")\n",
    "plt.show()"
   ]
  },
  {
   "cell_type": "markdown",
   "metadata": {},
   "source": [
    "# Creating Dummy Model"
   ]
  },
  {
   "cell_type": "code",
   "execution_count": null,
   "metadata": {},
   "outputs": [],
   "source": [
    "from sklearn.dummy import DummyClassifier\n",
    "dummy_clf = DummyClassifier(strategy=\"most_frequent\")\n",
    "dummy_clf.fit(X_train, y_train)\n",
    "dummy_clf.score(X_train, y_train)"
   ]
  },
  {
   "cell_type": "markdown",
   "metadata": {},
   "source": [
    "# Finding Model"
   ]
  },
  {
   "cell_type": "markdown",
   "metadata": {},
   "source": [
    "I will try to find the best model to analize my data:\n",
    "\n",
    "* I will try to use the KNN model, and find the best number of nearest neighbors:"
   ]
  },
  {
   "cell_type": "code",
   "execution_count": null,
   "metadata": {},
   "outputs": [],
   "source": [
    "k_range = range(1,50)\n",
    "scores = []\n",
    "for k in k_range:\n",
    "    knn_ = KNeighborsClassifier(n_neighbors=k)\n",
    "    knn_.fit(X_train, y_train)\n",
    "    y_pred = knn_.predict(X_test)\n",
    "    scores.append(metrics.accuracy_score(y_test, y_pred))\n",
    "\n",
    "plt.figure(figsize=(12, 6))\n",
    "plt.plot(k_range, scores,color='red', linestyle='dashed', marker='o',\n",
    "         markerfacecolor='blue', markersize=10)\n",
    "plt.xlabel('Value of K for KNN')\n",
    "plt.ylabel('Testing Accuracy')\n",
    "\n",
    "# Finding the maximum k - the number of nearest neighbors:\n",
    "max_score = max(scores)\n",
    "best_k = scores.index(max_score)\n",
    "print(\"The best accuracy of the knn model is when k =\",best_k, \", and the score is:\",max_score) "
   ]
  },
  {
   "cell_type": "markdown",
   "metadata": {},
   "source": [
    "* I will try to use the SVM.SVC model with kernel='sigmoid':"
   ]
  },
  {
   "cell_type": "code",
   "execution_count": null,
   "metadata": {},
   "outputs": [],
   "source": [
    "sm = SVC(kernel='sigmoid')\n",
    "sm.fit(X_train, y_train)\n",
    "y_pred = sm.predict(X_test)\n",
    "accuracy = metrics.accuracy_score(y_test, y_pred)\n",
    "print(\"accuracy:   \", accuracy)"
   ]
  },
  {
   "cell_type": "markdown",
   "metadata": {},
   "source": [
    "According to the models that I checked, the best accuracy scores is when I chosing knn model k = 5."
   ]
  },
  {
   "cell_type": "code",
   "execution_count": null,
   "metadata": {},
   "outputs": [],
   "source": [
    "print(\"The accuracy score is:\",max_score, \", or in another word:\",(max_score*100),\"%\") "
   ]
  },
  {
   "cell_type": "markdown",
   "metadata": {},
   "source": [
    "# Error Model"
   ]
  },
  {
   "cell_type": "code",
   "execution_count": null,
   "metadata": {},
   "outputs": [],
   "source": [
    "mean_squared_error(y_test,sm.predict(X_test))"
   ]
  },
  {
   "cell_type": "markdown",
   "metadata": {},
   "source": [
    "# Conclusion\n",
    "\n",
    "* The accuracy score of the chosen model is 74.25%.\n",
    "\n",
    "* I have seen that there is a connection between the components of the pesticide material, such as the amount of toxic substance, type of activity, type of soil, etc. and the type of preparation - non-herbicides, herbicides, organic."
   ]
  },
  {
   "cell_type": "markdown",
   "metadata": {},
   "source": [
    "# Part 2"
   ]
  },
  {
   "cell_type": "code",
   "execution_count": null,
   "metadata": {},
   "outputs": [],
   "source": [
    "# X_test, X_train, y_test, y_train= train_test_split(X, y, test_size = 0.2, random_state=42)"
   ]
  },
  {
   "cell_type": "code",
   "execution_count": 2,
   "metadata": {},
   "outputs": [
    {
     "ename": "NameError",
     "evalue": "name 'X_train' is not defined",
     "output_type": "error",
     "traceback": [
      "\u001b[0;31m---------------------------------------------------------------------------\u001b[0m",
      "\u001b[0;31mNameError\u001b[0m                                 Traceback (most recent call last)",
      "Input \u001b[0;32mIn [2]\u001b[0m, in \u001b[0;36m<cell line: 1>\u001b[0;34m()\u001b[0m\n\u001b[0;32m----> 1\u001b[0m corr_matrix \u001b[38;5;241m=\u001b[39m \u001b[43mX_train\u001b[49m\u001b[38;5;241m.\u001b[39mcorr()\n\u001b[1;32m      2\u001b[0m corr_matrix[\u001b[38;5;124m\"\u001b[39m\u001b[38;5;124mpreparation type num\u001b[39m\u001b[38;5;124m\"\u001b[39m]\u001b[38;5;241m.\u001b[39msort_values(ascending\u001b[38;5;241m=\u001b[39m\u001b[38;5;28;01mFalse\u001b[39;00m)\n",
      "\u001b[0;31mNameError\u001b[0m: name 'X_train' is not defined"
     ]
    }
   ],
   "source": [
    "corr_matrix = X_train.corr()\n",
    "corr_matrix[\"preparation type num\"].sort_values(ascending=False)"
   ]
  },
  {
   "cell_type": "code",
   "execution_count": null,
   "metadata": {},
   "outputs": [],
   "source": []
  }
 ],
 "metadata": {
  "interpreter": {
   "hash": "ec7049d032db726a15bb10b46dbe1b088c020316146e5dfa756021ae5836f02c"
  },
  "kernelspec": {
   "display_name": "Python 3 (ipykernel)",
   "language": "python",
   "name": "python3"
  },
  "language_info": {
   "codemirror_mode": {
    "name": "ipython",
    "version": 3
   },
   "file_extension": ".py",
   "mimetype": "text/x-python",
   "name": "python",
   "nbconvert_exporter": "python",
   "pygments_lexer": "ipython3",
   "version": "3.8.13"
  }
 },
 "nbformat": 4,
 "nbformat_minor": 2
}
